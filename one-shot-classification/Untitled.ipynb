{
 "cells": [
  {
   "cell_type": "code",
   "execution_count": 6,
   "metadata": {},
   "outputs": [],
   "source": [
    "import numpy as np\n",
    "import copy\n",
    "from scipy.ndimage import imread\n",
    "from scipy.spatial.distance import cdist\n"
   ]
  },
  {
   "cell_type": "code",
   "execution_count": 7,
   "metadata": {},
   "outputs": [],
   "source": [
    "\n",
    "# Parameters\n",
    "nrun = 20 # number of classification runs\n",
    "fname_label = 'class_labels.txt' # where class labels are stored for each run\n",
    "\n"
   ]
  },
  {
   "cell_type": "code",
   "execution_count": 8,
   "metadata": {},
   "outputs": [],
   "source": [
    "def classification_run(folder,f_load,f_cost,ftype='cost'):\n",
    "\t# Compute error rate for one run of one-shot classification\n",
    "\t#\n",
    "\t# Input\n",
    "\t#  folder : contains images for a run of one-shot classification\n",
    "\t#  f_load : itemA = f_load('file.png') should read in the image file and process it\n",
    "\t#  f_cost : f_cost(itemA,itemB) should compute similarity between two images, using output of f_load\n",
    "\t#  ftype  : 'cost' if small values from f_cost mean more similar, or 'score' if large values are more similar\n",
    "\t#\n",
    "\t# Output\n",
    "\t#  perror : percent errors (0 to 100% error)\n",
    "\t# \n",
    "\tassert ((ftype=='cost') | (ftype=='score'))\n",
    "\n",
    "\t# get file names\n",
    "\twith open(folder+'/'+fname_label) as f:\n",
    "\t\tcontent = f.read().splitlines()\n",
    "\tpairs = [line.split() for line in content]\n",
    "\ttest_files  = [pair[0] for pair in pairs]\n",
    "\ttrain_files = [pair[1] for pair in pairs]\n",
    "\tanswers_files = copy.copy(train_files)\n",
    "\ttest_files.sort()\n",
    "\ttrain_files.sort()\t\n",
    "\tntrain = len(train_files)\n",
    "\tntest = len(test_files)\n",
    "\n",
    "\t# load the images (and, if needed, extract features)\n",
    "\ttrain_items = [f_load(f) for f in train_files]\n",
    "\ttest_items  = [f_load(f) for f in test_files ]\n",
    "\n",
    "\t# compute cost matrix\n",
    "\tcostM = np.zeros((ntest,ntrain),float)\n",
    "\tfor i in range(ntest):\n",
    "\t\tfor c in range(ntrain):\n",
    "\t\t\tcostM[i,c] = f_cost(test_items[i],train_items[c])\n",
    "\tif ftype == 'cost':\n",
    "\t\tYHAT = np.argmin(costM,axis=1)\n",
    "\telif ftype == 'score':\n",
    "\t\tYHAT = np.argmax(costM,axis=1)\n",
    "\telse:\n",
    "\t\tassert False\n",
    "\n",
    "\t# compute the error rate\n",
    "\tcorrect = 0.0\n",
    "\tfor i in range(ntest):\n",
    "\t\tif train_files[YHAT[i]] == answers_files[i]:\n",
    "\t\t\tcorrect += 1.0\n",
    "\tpcorrect = 100 * correct / ntest\n",
    "\tperror = 100 - pcorrect\n",
    "\treturn perror\n",
    "\n"
   ]
  },
  {
   "cell_type": "code",
   "execution_count": 9,
   "metadata": {},
   "outputs": [],
   "source": [
    "def ModHausdorffDistance(itemA,itemB):\n",
    "\t# Modified Hausdorff Distance\n",
    "\t#\n",
    "\t# Input\n",
    "\t#  itemA : [n x 2] coordinates of \"inked\" pixels\n",
    "\t#  itemB : [m x 2] coordinates of \"inked\" pixels\n",
    "\t#\n",
    "\t#  M.-P. Dubuisson, A. K. Jain (1994). A modified hausdorff distance for object matching.\n",
    "\t#  International Conference on Pattern Recognition, pp. 566-568.\n",
    "\t#\n",
    "\tD = cdist(itemA,itemB)\n",
    "\tmindist_A = D.min(axis=1)\n",
    "\tmindist_B = D.min(axis=0)\n",
    "\tmean_A = np.mean(mindist_A)\n",
    "\tmean_B = np.mean(mindist_B)\n",
    "\treturn max(mean_A,mean_B)\n",
    "\n"
   ]
  },
  {
   "cell_type": "code",
   "execution_count": 10,
   "metadata": {},
   "outputs": [],
   "source": [
    "def LoadImgAsPoints(fn):\n",
    "\t# Load image file and return coordinates of 'inked' pixels in the binary image\n",
    "\t# \n",
    "\t# Output:\n",
    "\t#  D : [n x 2] rows are coordinates\n",
    "\tI = imread(fn,flatten=True)\n",
    "\tI = np.array(I,dtype=bool)\n",
    "\tI = np.logical_not(I)\n",
    "\t(row,col) = I.nonzero()\n",
    "\tD = np.array([row,col])\n",
    "\tD = np.transpose(D)\n",
    "\tD = D.astype(float)\n",
    "\tn = D.shape[0]\n",
    "\tmean = np.mean(D,axis=0)\n",
    "\tfor i in range(n):\n",
    "\t\tD[i,:] = D[i,:] - mean\n",
    "\treturn D\n",
    "\n"
   ]
  },
  {
   "cell_type": "code",
   "execution_count": 1,
   "metadata": {},
   "outputs": [
    {
     "name": "stdout",
     "output_type": "stream",
     "text": [
      "One-shot classification demo with Modified Hausdorff Distance\n"
     ]
    },
    {
     "ename": "NameError",
     "evalue": "name 'np' is not defined",
     "output_type": "error",
     "traceback": [
      "\u001b[1;31m---------------------------------------------------------------------------\u001b[0m",
      "\u001b[1;31mNameError\u001b[0m                                 Traceback (most recent call last)",
      "\u001b[1;32m<ipython-input-1-cdb601c24804>\u001b[0m in \u001b[0;36m<module>\u001b[1;34m()\u001b[0m\n\u001b[0;32m      4\u001b[0m \u001b[1;33m\u001b[0m\u001b[0m\n\u001b[0;32m      5\u001b[0m \u001b[0mprint\u001b[0m \u001b[1;33m(\u001b[0m\u001b[1;34m'One-shot classification demo with Modified Hausdorff Distance'\u001b[0m\u001b[1;33m)\u001b[0m\u001b[1;33m\u001b[0m\u001b[0m\n\u001b[1;32m----> 6\u001b[1;33m \u001b[0mperror\u001b[0m \u001b[1;33m=\u001b[0m \u001b[0mnp\u001b[0m\u001b[1;33m.\u001b[0m\u001b[0mzeros\u001b[0m\u001b[1;33m(\u001b[0m\u001b[0mnrun\u001b[0m\u001b[1;33m)\u001b[0m\u001b[1;33m\u001b[0m\u001b[0m\n\u001b[0m\u001b[0;32m      7\u001b[0m \u001b[1;32mfor\u001b[0m \u001b[0mr\u001b[0m \u001b[1;32min\u001b[0m \u001b[0mrange\u001b[0m\u001b[1;33m(\u001b[0m\u001b[1;36m1\u001b[0m\u001b[1;33m,\u001b[0m\u001b[0mnrun\u001b[0m\u001b[1;33m+\u001b[0m\u001b[1;36m1\u001b[0m\u001b[1;33m)\u001b[0m\u001b[1;33m:\u001b[0m\u001b[1;33m\u001b[0m\u001b[0m\n\u001b[0;32m      8\u001b[0m         \u001b[0mrs\u001b[0m \u001b[1;33m=\u001b[0m \u001b[0mstr\u001b[0m\u001b[1;33m(\u001b[0m\u001b[0mr\u001b[0m\u001b[1;33m)\u001b[0m\u001b[1;33m\u001b[0m\u001b[0m\n",
      "\u001b[1;31mNameError\u001b[0m: name 'np' is not defined"
     ]
    }
   ],
   "source": [
    "\n",
    "\n",
    "\n",
    "print ('One-shot classification demo with Modified Hausdorff Distance')\n",
    "perror = np.zeros(nrun)\n",
    "for r in range(1,nrun+1):\n",
    "\trs = str(r)\n",
    "\tif len(rs)==1:\n",
    "\t\trs = '0' + rs\t\t\n",
    "\tperror[r-1] = classification_run('run'+rs, LoadImgAsPoints, ModHausdorffDistance, 'cost')\n",
    "\tprint (\" run \" + str(r) + \" (error \" + str(\tperror[r-1] ) + \"%)\")\t\t\n",
    "total = np.mean(perror)\n",
    "print (\" average error \" + str(total) + \"%\")"
   ]
  },
  {
   "cell_type": "code",
   "execution_count": null,
   "metadata": {},
   "outputs": [],
   "source": []
  }
 ],
 "metadata": {
  "kernelspec": {
   "display_name": "Python 3",
   "language": "python",
   "name": "python3"
  },
  "language_info": {
   "codemirror_mode": {
    "name": "ipython",
    "version": 3
   },
   "file_extension": ".py",
   "mimetype": "text/x-python",
   "name": "python",
   "nbconvert_exporter": "python",
   "pygments_lexer": "ipython3",
   "version": "3.6.5"
  }
 },
 "nbformat": 4,
 "nbformat_minor": 2
}
