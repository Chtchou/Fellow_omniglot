{
 "cells": [
  {
   "cell_type": "markdown",
   "metadata": {},
   "source": [
    "# Few-shot learning - Omniglot - Fellowship.ai\n",
    "This notebook is my personal project to the few-shot learning challenge from [Fellowship.ai](https://fellowship.ai/challenge/) with the following goal:\n",
    "> Omniglot, the “transpose” of MNIST, with 1623 character classes, each with 20 examples.  Build a few-shot classifier with a target of <35% error.\n",
    "\n",
    "I managed to reach an error rate of 8% on a 20-way classification corresponding to the current state of the art model."
   ]
  },
  {
   "cell_type": "markdown",
   "metadata": {},
   "source": [
    "# Abstract\n",
    "\n",
    "\n",
    "### The Omniglot dataset\n",
    "*Dataset reference:* [Link](https://github.com/brendenlake/omniglot)\n",
    "> Lake, B. M., Salakhutdinov, R., and Tenenbaum, J. B. (2015). Human-level concept learning through probabilistic program induction. Science, 350(6266), 1332-1338.\n",
    "\n",
    "The Omniglot dataset is often considered as the transpose of the MNIST dataset. While the latter contains only 10 classes with a training set of 60000 examples, Omniglot contains an important number of classes (1623 different handwritten characters from 50 different alphabets) with only a low number of examples (20) for each, making it an ideal dataset for few-shot learning problems.\n",
    "\n",
    "### Few-shot learning\n",
    "Whereas, lots of deep learning projects are based on a huge number of training examples to be trained, few-shot learning is  based only on a few one. This approach is much closer to the one experienced by humans. We are able to memorize and recognize objects we have never seen before from a few number of examples. Then for each new encounter with these types of object we can classify them in an accurate and easy way.\n",
    "\n",
    "### Approach\n",
    "The approach I used for this challenge is essentially based on a triplet-loss model.\n",
    "For each image one embedding of size 64 was created using a ResNet-like architecture (current state of the art CNN architecture) combined to a triplet-loss  model."
   ]
  },
  {
   "cell_type": "markdown",
   "metadata": {},
   "source": [
    "# Content\n",
    "* A/ Libraries and Images Path\n",
    "\n",
    "* B/ Exploratory Data Analysis\n",
    "\n",
    "* C/ Preprocessing\n",
    "\n",
    "* D/ Triplet loss Neural Network Architecture\n",
    "\n",
    "* E/ Training Procedure\n",
    "\n",
    "* F/ Model Evaluation"
   ]
  },
  {
   "cell_type": "markdown",
   "metadata": {},
   "source": [
    "## A/ Libraries and Images Path"
   ]
  },
  {
   "cell_type": "markdown",
   "metadata": {},
   "source": [
    "#### Import useful libraries"
   ]
  },
  {
   "cell_type": "code",
   "execution_count": 2,
   "metadata": {},
   "outputs": [
    {
     "name": "stderr",
     "output_type": "stream",
     "text": [
      "/home/paperspace/anaconda3/lib/python3.6/site-packages/h5py/__init__.py:36: FutureWarning: Conversion of the second argument of issubdtype from `float` to `np.floating` is deprecated. In future, it will be treated as `np.float64 == np.dtype(float).type`.\n",
      "  from ._conv import register_converters as _register_converters\n",
      "Using TensorFlow backend.\n"
     ]
    }
   ],
   "source": [
    "import os\n",
    "import glob\n",
    "\n",
    "import tensorflow as tf\n",
    "import numpy as np\n",
    "from keras.models import Model, load_model\n",
    "from keras.layers import Input, Dense, Activation, BatchNormalization, Flatten, Conv2D, concatenate,AveragePooling2D, Lambda, Add\n",
    "from keras.optimizers import Adam\n",
    "from keras.callbacks import ModelCheckpoint, EarlyStopping, ReduceLROnPlateau\n",
    "from keras import regularizers\n",
    "from sklearn.model_selection import train_test_split\n",
    "\n",
    "import matplotlib.pyplot as plt\n",
    "import matplotlib.image as mpimg\n",
    "from skimage.transform import resize\n",
    "import h5py\n",
    "\n",
    "%matplotlib inline\n",
    "%load_ext autoreload\n",
    "%autoreload 2"
   ]
  },
  {
   "cell_type": "markdown",
   "metadata": {},
   "source": [
    "#### PATH"
   ]
  },
  {
   "cell_type": "markdown",
   "metadata": {},
   "source": [
    "We indicate the PATH of the training and evaluation examples."
   ]
  },
  {
   "cell_type": "code",
   "execution_count": 3,
   "metadata": {},
   "outputs": [],
   "source": [
    "PATH = \"images_background\" #Training images path\n",
    "\n",
    "PATH_TEST = \"images_evaluation\" #Validation and test images path"
   ]
  },
  {
   "cell_type": "markdown",
   "metadata": {},
   "source": [
    "The pictures are divided into two folders :\n",
    "The evaluation folder "
   ]
  },
  {
   "cell_type": "markdown",
   "metadata": {},
   "source": [
    "## B/ Exploratory Data Analysis"
   ]
  },
  {
   "cell_type": "markdown",
   "metadata": {},
   "source": [
    "We have a look at the list of all alphabets contained in the training set, and their total number.\n",
    "### 0.Alphabets in Training and Evaluation set\n",
    "#### a) Images_background"
   ]
  },
  {
   "cell_type": "code",
   "execution_count": 4,
   "metadata": {
    "scrolled": true
   },
   "outputs": [
    {
     "name": "stdout",
     "output_type": "stream",
     "text": [
      "List of the different alphabets:\n",
      " ['Syriac_(Estrangelo)' 'Armenian' 'Latin' 'Hebrew' 'Tifinagh'\n",
      " 'Burmese_(Myanmar)' 'Japanese_(katakana)' 'Anglo-Saxon_Futhorc'\n",
      " 'Ojibwe_(Canadian_Aboriginal_Syllabics)' 'Asomtavruli_(Georgian)'\n",
      " 'Blackfoot_(Canadian_Aboriginal_Syllabics)' 'Japanese_(hiragana)' 'Greek'\n",
      " 'Futurama' 'Alphabet_of_the_Magi' 'Grantha' 'Bengali' 'N_Ko' 'Balinese'\n",
      " 'Gujarati' 'Early_Aramaic' 'Inuktitut_(Canadian_Aboriginal_Syllabics)'\n",
      " 'Mkhedruli_(Georgian)' 'Sanskrit' 'Korean' 'Braille' 'Tagalog'\n",
      " 'Malay_(Jawi_-_Arabic)' 'Arcadian' 'Cyrillic']\n",
      "\n",
      "Number of different alphabets: 30\n"
     ]
    }
   ],
   "source": [
    "alph_type = np.array(os.listdir(PATH)) #Give the different types of alphabet in our training data\n",
    "print(f\"List of the different alphabets:\\n {alph_type}\")\n",
    "print(f\"\\nNumber of different alphabets: {len(alph_type)}\")"
   ]
  },
  {
   "cell_type": "markdown",
   "metadata": {},
   "source": [
    "To create our validation set, we will split our background images into 2 sets :\n",
    "- Training set : Containing the first 27 alphabets in background_images\n",
    "- Validation set: Containing the last 3 alphabets in background images\n",
    "The validation set needs to have characters completely different from the training set. As the testing set is made of characters from alphabets totally different from our training set, we choose a validation set containing different alphabets from the training set"
   ]
  },
  {
   "cell_type": "code",
   "execution_count": 5,
   "metadata": {},
   "outputs": [
    {
     "name": "stdout",
     "output_type": "stream",
     "text": [
      "List of the different alphabets in training set:\n",
      " ['Ojibwe_(Canadian_Aboriginal_Syllabics)' 'Greek' 'Tifinagh' 'Armenian'\n",
      " 'Japanese_(katakana)' 'Sanskrit' 'Syriac_(Estrangelo)' 'Gujarati'\n",
      " 'Tagalog' 'Mkhedruli_(Georgian)' 'Korean' 'Anglo-Saxon_Futhorc'\n",
      " 'Arcadian' 'Futurama' 'Early_Aramaic'\n",
      " 'Inuktitut_(Canadian_Aboriginal_Syllabics)' 'Bengali' 'N_Ko'\n",
      " 'Alphabet_of_the_Magi' 'Cyrillic' 'Grantha'\n",
      " 'Blackfoot_(Canadian_Aboriginal_Syllabics)' 'Japanese_(hiragana)'\n",
      " 'Balinese' 'Hebrew' 'Asomtavruli_(Georgian)' 'Burmese_(Myanmar)']\n",
      "\n",
      "Number of different alphabets in training set: 27\n",
      "\n",
      "List of the different alphabets in validation set:\n",
      " ['Latin' 'Malay_(Jawi_-_Arabic)' 'Braille']\n",
      "\n",
      "Number of different alphabets in validation set: 3\n"
     ]
    }
   ],
   "source": [
    "#First shuffle the alphabets\n",
    "np.random.shuffle(alph_type)\n",
    "\n",
    "alph_type_train = alph_type[:27]\n",
    "alph_type_val = alph_type[27:]\n",
    "\n",
    "print(f\"List of the different alphabets in training set:\\n {alph_type_train}\")\n",
    "print(f\"\\nNumber of different alphabets in training set: {len(alph_type_train)}\")\n",
    "print(f\"\\nList of the different alphabets in validation set:\\n {alph_type_val}\")\n",
    "print(f\"\\nNumber of different alphabets in validation set: {len(alph_type_val)}\")"
   ]
  },
  {
   "cell_type": "markdown",
   "metadata": {},
   "source": [
    "#### b) Test set"
   ]
  },
  {
   "cell_type": "code",
   "execution_count": 6,
   "metadata": {},
   "outputs": [
    {
     "name": "stdout",
     "output_type": "stream",
     "text": [
      "List of the different alphabets:\n",
      " ['Tibetan' 'Glagolitic' 'Atlantean' 'Aurek-Besh' 'Mongolian' 'Keble'\n",
      " 'Kannada' 'Old_Church_Slavonic_(Cyrillic)' 'Tengwar' 'Manipuri'\n",
      " 'Gurmukhi' 'Avesta' 'Oriya' 'Atemayar_Qelisayer' 'Angelic' 'Sylheti'\n",
      " 'ULOG' 'Malayalam' 'Syriac_(Serto)' 'Ge_ez']\n",
      "\n",
      "Number of different alphabets: 20\n"
     ]
    }
   ],
   "source": [
    "alph_type_test = np.array(os.listdir(PATH_TEST)) #Give the different types of alphabet in our evaluation data\n",
    "print(f\"List of the different alphabets:\\n {alph_type_test}\")\n",
    "print(f\"\\nNumber of different alphabets: {len(alph_type_test)}\")"
   ]
  },
  {
   "cell_type": "markdown",
   "metadata": {},
   "source": [
    "### 1.Number of characters per alphabets\n",
    "We then check the number of character for each alphabets.\n",
    "#### a) Training set"
   ]
  },
  {
   "cell_type": "code",
   "execution_count": 7,
   "metadata": {
    "scrolled": false
   },
   "outputs": [
    {
     "data": {
      "image/png": "[encoded data removed]",
      "text/plain": [
       "<Figure size 432x288 with 1 Axes>"
      ]
     },
     "metadata": {},
     "output_type": "display_data"
    },
    {
     "name": "stdout",
     "output_type": "stream",
     "text": [
      "\n",
      "The maximum number of different character for one alphabet is 55\n",
      "The minimum number of different character for one alphabet is 14\n",
      "The total number of different character is 872\n"
     ]
    }
   ],
   "source": [
    "alph_num_char_train = {alphabet:len(os.listdir(f'{PATH}/{alphabet}')) for alphabet in alph_type_train}\n",
    "num_of_char_train = alph_num_char_train.values()\n",
    "\n",
    "plt.bar(range(len(alph_type_train)),num_of_char_train)\n",
    "plt.xticks(range(len(alph_type_train)), [alph[:10] for alph in alph_type], rotation=90)\n",
    "plt.title('Number of characters per alphabet')\n",
    "plt.show()\n",
    "\n",
    "print(f'\\nThe maximum number of different character for one alphabet is {max(num_of_char_train)}')\n",
    "print(f'The minimum number of different character for one alphabet is {min(num_of_char_train)}')\n",
    "total_char_train = sum(num_of_char_train)\n",
    "print(f'The total number of different character is {total_char_train}')"
   ]
  },
  {
   "cell_type": "markdown",
   "metadata": {},
   "source": [
    "#### b) Validation set"
   ]
  },
  {
   "cell_type": "code",
   "execution_count": 8,
   "metadata": {},
   "outputs": [
    {
     "data": {
      "image/png": "[encoded data removed]",
      "text/plain": [
       "<Figure size 432x288 with 1 Axes>"
      ]
     },
     "metadata": {},
     "output_type": "display_data"
    },
    {
     "name": "stdout",
     "output_type": "stream",
     "text": [
      "\n",
      "The maximum number of different character for one alphabet is 40\n",
      "The minimum number of different character for one alphabet is 26\n",
      "The total number of different character is 92\n"
     ]
    }
   ],
   "source": [
    "alph_num_char_val = {alphabet:len(os.listdir(f'{PATH}/{alphabet}')) for alphabet in alph_type_val}\n",
    "num_of_char_val = alph_num_char_val.values()\n",
    "\n",
    "plt.bar(range(len(alph_type_val)),num_of_char_val)\n",
    "plt.xticks(range(len(alph_type_val)), [alph[:10] for alph in alph_type_val], rotation=90)\n",
    "plt.title('Number of characters per alphabet')\n",
    "plt.show()\n",
    "\n",
    "print(f'\\nThe maximum number of different character for one alphabet is {max(num_of_char_val)}')\n",
    "print(f'The minimum number of different character for one alphabet is {min(num_of_char_val)}')\n",
    "total_char_val = sum(num_of_char_val)\n",
    "print(f'The total number of different character is {total_char_val}')"
   ]
  },
  {
   "cell_type": "markdown",
   "metadata": {},
   "source": [
    "#### c) Test set"
   ]
  },
  {
   "cell_type": "code",
   "execution_count": 9,
   "metadata": {},
   "outputs": [
    {
     "data": {
      "image/png": "[encoded data removed]",
      "text/plain": [
       "<Figure size 432x288 with 1 Axes>"
      ]
     },
     "metadata": {},
     "output_type": "display_data"
    },
    {
     "name": "stdout",
     "output_type": "stream",
     "text": [
      "\n",
      "The maximum number of different character for one alphabet is 47\n",
      "The minimum number of different character for one alphabet is 20\n",
      "The total number of different character is 659\n"
     ]
    }
   ],
   "source": [
    "alph_num_char_test = {alphabet:len(os.listdir(f'{PATH_TEST}/{alphabet}')) for alphabet in alph_type_test}\n",
    "num_of_char_test = alph_num_char_test.values()\n",
    "\n",
    "plt.bar(range(len(alph_type_test)),num_of_char_test)\n",
    "plt.xticks(range(len(alph_type_test)), [alph[:10] for alph in alph_type_test], rotation=90)\n",
    "plt.title('Number of characters per alphabet')\n",
    "plt.show()\n",
    "\n",
    "print(f'\\nThe maximum number of different character for one alphabet is {max(num_of_char_test)}')\n",
    "print(f'The minimum number of different character for one alphabet is {min(num_of_char_test)}')\n",
    "total_char_test = sum(num_of_char_test)\n",
    "print(f'The total number of different character is {total_char_test}')"
   ]
  },
  {
   "cell_type": "markdown",
   "metadata": {},
   "source": [
    "### 2.Number of pictures per character\n",
    "#### a) Training set"
   ]
  },
  {
   "cell_type": "code",
   "execution_count": 10,
   "metadata": {},
   "outputs": [
    {
     "data": {
      "image/png": "[encoded data removed]",
      "text/plain": [
       "<Figure size 432x288 with 1 Axes>"
      ]
     },
     "metadata": {},
     "output_type": "display_data"
    },
    {
     "name": "stdout",
     "output_type": "stream",
     "text": [
      "20 20\n",
      "The total number of different pictures is 17440\n"
     ]
    }
   ],
   "source": [
    "alph_num_char_ex_train = {}\n",
    "for alphabet in alph_type_train:\n",
    "    char_list_train = os.listdir(f'{PATH}/{alphabet}')\n",
    "    for char in char_list_train:\n",
    "        alph_num_char_ex_train[(alphabet,char)] = len(os.listdir(f'{PATH}/{alphabet}/{char}'))\n",
    "\n",
    "num_of_example_train = alph_num_char_ex_train.values()\n",
    "\n",
    "plt.bar(range(len(alph_num_char_ex_train)),num_of_example_train)\n",
    "plt.title('Number of example pictures per character')\n",
    "plt.show()\n",
    "\n",
    "total_example_train = sum(num_of_example_train) \n",
    "print(min(num_of_example_train),max(num_of_example_train))\n",
    "print(f'The total number of different pictures is {total_example_train}')"
   ]
  },
  {
   "cell_type": "markdown",
   "metadata": {},
   "source": [
    "#### b) Validation set"
   ]
  },
  {
   "cell_type": "code",
   "execution_count": 11,
   "metadata": {},
   "outputs": [
    {
     "data": {
      "image/png": "[encoded data removed]",
      "text/plain": [
       "<Figure size 432x288 with 1 Axes>"
      ]
     },
     "metadata": {},
     "output_type": "display_data"
    },
    {
     "name": "stdout",
     "output_type": "stream",
     "text": [
      "20 20\n",
      "The total number of different pictures is 1840\n"
     ]
    }
   ],
   "source": [
    "alph_num_char_ex_val = {}\n",
    "for alphabet in alph_type_val:\n",
    "    char_list_val = os.listdir(f'{PATH}/{alphabet}')\n",
    "    for char in char_list_val:\n",
    "        alph_num_char_ex_val[(alphabet,char)] = len(os.listdir(f'{PATH}/{alphabet}/{char}'))\n",
    "\n",
    "num_of_example_val = alph_num_char_ex_val.values()\n",
    "\n",
    "plt.bar(range(len(alph_num_char_ex_val)),num_of_example_val)\n",
    "plt.title('Number of example pictures per character')\n",
    "plt.show()\n",
    "\n",
    "total_example_val = sum(num_of_example_val) \n",
    "print(min(num_of_example_val),max(num_of_example_val))\n",
    "print(f'The total number of different pictures is {total_example_val}')"
   ]
  },
  {
   "cell_type": "markdown",
   "metadata": {},
   "source": [
    "#### c) Test set"
   ]
  },
  {
   "cell_type": "code",
   "execution_count": 12,
   "metadata": {},
   "outputs": [
    {
     "data": {
      "image/png": "[encoded data removed]",
      "text/plain": [
       "<Figure size 432x288 with 1 Axes>"
      ]
     },
     "metadata": {},
     "output_type": "display_data"
    },
    {
     "name": "stdout",
     "output_type": "stream",
     "text": [
      "20 20\n",
      "The total number of different pictures is 13180\n"
     ]
    }
   ],
   "source": [
    "alph_num_char_ex_test = {}\n",
    "for alphabet in alph_type_test:\n",
    "    char_list_test = os.listdir(f'{PATH_TEST}/{alphabet}')\n",
    "    for char in char_list_test:\n",
    "        alph_num_char_ex_test[(alphabet,char)] = len(os.listdir(f'{PATH_TEST}/{alphabet}/{char}'))\n",
    "\n",
    "num_of_example_test = alph_num_char_ex_test.values()\n",
    "\n",
    "plt.bar(range(len(alph_num_char_ex_test)), num_of_example_test)\n",
    "plt.title('Number of example pictures per character')\n",
    "plt.show()\n",
    "\n",
    "total_example_test = sum(num_of_example_test) \n",
    "print(min(num_of_example_test),max(num_of_example_test))\n",
    "print(f'The total number of different pictures is {total_example_test}')"
   ]
  },
  {
   "cell_type": "markdown",
   "metadata": {},
   "source": [
    "We can observe that each character have 20 examples(pictures) and that our training, validation and test sets are well balanced. For our training we will consider that each character is an independent class."
   ]
  },
  {
   "cell_type": "markdown",
   "metadata": {},
   "source": [
    "## C/ Preprocessing"
   ]
  },
  {
   "cell_type": "markdown",
   "metadata": {},
   "source": [
    "### 1.Add a label for each character\n"
   ]
  },
  {
   "cell_type": "markdown",
   "metadata": {},
   "source": [
    "For each picture in our training set we set a corresponding integer which allow us to determine the corresponding character. Here an integer is sufficient as we are not really interested in knowing from which alphabet an image is coming from and as we don't have need to know the character name. All characters can easily be considered as independant.\n",
    "\n",
    "#### a) Training set"
   ]
  },
  {
   "cell_type": "code",
   "execution_count": 13,
   "metadata": {},
   "outputs": [
    {
     "data": {
      "text/plain": [
       "(17440,)"
      ]
     },
     "execution_count": 13,
     "metadata": {},
     "output_type": "execute_result"
    }
   ],
   "source": [
    "Y_train = np.array([i//20+1 for i in range(total_example_train)])\n",
    "Y_train.shape"
   ]
  },
  {
   "cell_type": "markdown",
   "metadata": {},
   "source": [
    "We reshape, our data to have the number of channel including (here is 1)."
   ]
  },
  {
   "cell_type": "code",
   "execution_count": 14,
   "metadata": {},
   "outputs": [
    {
     "data": {
      "text/plain": [
       "(17440, 1)"
      ]
     },
     "execution_count": 14,
     "metadata": {},
     "output_type": "execute_result"
    }
   ],
   "source": [
    "Y_train=Y_train.reshape(*Y_train.shape,1)\n",
    "Y_train.shape"
   ]
  },
  {
   "cell_type": "markdown",
   "metadata": {},
   "source": [
    "#### b) Validation set"
   ]
  },
  {
   "cell_type": "code",
   "execution_count": 15,
   "metadata": {},
   "outputs": [
    {
     "data": {
      "text/plain": [
       "(1840, 1)"
      ]
     },
     "execution_count": 15,
     "metadata": {},
     "output_type": "execute_result"
    }
   ],
   "source": [
    "Y_val = np.array([i//20+1 for i in range(total_example_val)])\n",
    "Y_val=Y_val.reshape(*Y_val.shape,1)\n",
    "Y_val.shape"
   ]
  },
  {
   "cell_type": "markdown",
   "metadata": {},
   "source": [
    "#### c) Test set"
   ]
  },
  {
   "cell_type": "code",
   "execution_count": 16,
   "metadata": {},
   "outputs": [
    {
     "data": {
      "text/plain": [
       "(13180, 1)"
      ]
     },
     "execution_count": 16,
     "metadata": {},
     "output_type": "execute_result"
    }
   ],
   "source": [
    "Y_test = np.array([i//20+1 for i in range(total_example_test)])\n",
    "Y_test=Y_test.reshape(*Y_test.shape,1)\n",
    "Y_test.shape"
   ]
  },
  {
   "cell_type": "markdown",
   "metadata": {},
   "source": [
    "### 2.Convert images to datafile"
   ]
  },
  {
   "cell_type": "markdown",
   "metadata": {},
   "source": [
    "We first retrieve the path for each picture in the dataset."
   ]
  },
  {
   "cell_type": "code",
   "execution_count": 17,
   "metadata": {},
   "outputs": [
    {
     "data": {
      "text/plain": [
       "['images_background/Ojibwe_(Canadian_Aboriginal_Syllabics)/character11/0847_16.png',\n",
       " 'images_background/Ojibwe_(Canadian_Aboriginal_Syllabics)/character11/0847_19.png',\n",
       " 'images_background/Ojibwe_(Canadian_Aboriginal_Syllabics)/character11/0847_20.png',\n",
       " 'images_background/Ojibwe_(Canadian_Aboriginal_Syllabics)/character11/0847_01.png',\n",
       " 'images_background/Ojibwe_(Canadian_Aboriginal_Syllabics)/character11/0847_15.png']"
      ]
     },
     "execution_count": 17,
     "metadata": {},
     "output_type": "execute_result"
    }
   ],
   "source": [
    "#Train set\n",
    "trainPath = []\n",
    "for alphabet in alph_type_train:\n",
    "    trainPath += glob.glob(f\"{PATH}/{alphabet}/*/*.png\")\n",
    "trainPath[0:5]"
   ]
  },
  {
   "cell_type": "code",
   "execution_count": 18,
   "metadata": {},
   "outputs": [],
   "source": [
    "#Validation set\n",
    "valPath = []\n",
    "for alphabet in alph_type_val:\n",
    "    valPath += glob.glob(f\"{PATH}/{alphabet}/*/*.png\")"
   ]
  },
  {
   "cell_type": "code",
   "execution_count": 19,
   "metadata": {},
   "outputs": [],
   "source": [
    "#Test set\n",
    "testPath = glob.glob(f\"{PATH_TEST}/*/*/*.png\")"
   ]
  },
  {
   "cell_type": "markdown",
   "metadata": {},
   "source": [
    "#### A few examples"
   ]
  },
  {
   "cell_type": "markdown",
   "metadata": {},
   "source": [
    "We print some random images of the dataset, convert them to arrays and resize them.\n",
    "We decide to resize to the size of 64x64 pixels, which will help the model to be easier to train. Moreover, 64x64 seems a reasonable size still allowing us and the machine to recognize the character.\n",
    "#### Training set"
   ]
  },
  {
   "cell_type": "code",
   "execution_count": 20,
   "metadata": {
    "scrolled": true
   },
   "outputs": [
    {
     "data": {
      "image/png": "[encoded data removed]",
      "text/plain": [
       "<Figure size 360x360 with 20 Axes>"
      ]
     },
     "metadata": {},
     "output_type": "display_data"
    }
   ],
   "source": [
    "SZ=64 #Dimension of the output image expected\n",
    "\n",
    "#Dimensions of the grill of sample pictures\n",
    "columns = 4\n",
    "rows = 5\n",
    "\n",
    "fig=plt.figure(figsize=(5, 5))\n",
    "\n",
    "#Print 20 random examples of images\n",
    "list_example = np.random.randint(total_example_train, size = columns*rows)\n",
    "pos=0\n",
    "for i in list_example:\n",
    "    pos+=1\n",
    "    img = mpimg.imread(trainPath[i])\n",
    "    img = resize(img, (SZ,SZ), mode='reflect')\n",
    "    fig.add_subplot(rows, columns, pos)\n",
    "    plt.imshow(img)\n",
    "plt.show()"
   ]
  },
  {
   "cell_type": "markdown",
   "metadata": {},
   "source": [
    "All images seems clear and well centered. We can also observe that they only have one channel and no RGB."
   ]
  },
  {
   "cell_type": "markdown",
   "metadata": {},
   "source": [
    "#### Image conversion\n",
    "We convert all training images into arrays and resize them all to the 64x64 format. We concatenate all arrays into the variable X_train\n",
    "\n",
    "#### a) Training set"
   ]
  },
  {
   "cell_type": "code",
   "execution_count": 21,
   "metadata": {},
   "outputs": [
    {
     "data": {
      "text/plain": [
       "(17440, 64, 64)"
      ]
     },
     "execution_count": 21,
     "metadata": {},
     "output_type": "execute_result"
    }
   ],
   "source": [
    "#Train set\n",
    "#Transform in array and resize all 19280 images \n",
    "X_train = np.array([resize(mpimg.imread(i), (SZ,SZ), mode='edge') for i in trainPath])\n",
    "X_train.shape"
   ]
  },
  {
   "cell_type": "markdown",
   "metadata": {},
   "source": [
    "In our CNN blocks later we will need to define a number of channel. Here pictures only have one channel. So we will reshape the pictures to take in account that they have one channel."
   ]
  },
  {
   "cell_type": "code",
   "execution_count": 22,
   "metadata": {},
   "outputs": [
    {
     "data": {
      "text/plain": [
       "(17440, 64, 64, 1)"
      ]
     },
     "execution_count": 22,
     "metadata": {},
     "output_type": "execute_result"
    }
   ],
   "source": [
    "channel_sz = 1 #number of channel\n",
    "X_train= X_train.reshape(*X_train.shape, channel_sz)\n",
    "X_train.shape"
   ]
  },
  {
   "cell_type": "markdown",
   "metadata": {},
   "source": [
    "#### b) Validation set"
   ]
  },
  {
   "cell_type": "code",
   "execution_count": 23,
   "metadata": {},
   "outputs": [
    {
     "data": {
      "text/plain": [
       "(1840, 64, 64, 1)"
      ]
     },
     "execution_count": 23,
     "metadata": {},
     "output_type": "execute_result"
    }
   ],
   "source": [
    "X_val = np.array([resize(mpimg.imread(i), (SZ,SZ), mode='edge') for i in valPath])\n",
    "X_val= X_val.reshape(*X_val.shape, channel_sz)\n",
    "X_val.shape"
   ]
  },
  {
   "cell_type": "markdown",
   "metadata": {},
   "source": [
    "#### b) Evaluation set"
   ]
  },
  {
   "cell_type": "markdown",
   "metadata": {},
   "source": [
    "The same process is done with the evaluation set"
   ]
  },
  {
   "cell_type": "code",
   "execution_count": 24,
   "metadata": {},
   "outputs": [
    {
     "data": {
      "text/plain": [
       "(13180, 64, 64, 1)"
      ]
     },
     "execution_count": 24,
     "metadata": {},
     "output_type": "execute_result"
    }
   ],
   "source": [
    "X_test = np.array([resize(mpimg.imread(i), (SZ,SZ), mode='edge') for i in testPath])\n",
    "X_test= X_test.reshape(*X_test.shape, channel_sz)\n",
    "X_test.shape"
   ]
  },
  {
   "cell_type": "markdown",
   "metadata": {},
   "source": [
    "### 4.Triplet loss function"
   ]
  },
  {
   "cell_type": "markdown",
   "metadata": {},
   "source": [
    "Our loss function is determined by the following triplet loss function.<br/>\n",
    "The basic idea here is to take the embeddings of a triplet of pictures (Anchor, Positive, Negative) where :\n",
    "* Anchor :  are the embeddings corresponding to our base image\n",
    "* Positive : are the embeddings of another image corresponding to the same class as our Anchor \n",
    "* Negative : are the embeddings of an image which correspond to an image from a different class than our Anchor\n",
    "\n",
    "The goal of the triplet loss is to minimize the distance between the embeddings of the Anchor and the Positive image (that we call the pos_dist), while it should maximize the distance between the embeddings of the Anchor and the Negative Image(neg_dist).\n",
    "Thus triplet loss should maximize the difference between the pos_dis and neg_dis. If this difference if below 0, our model is accurate, while if the difference is above 0, we obtain a value for our loss to optimize.\n",
    "\n",
    "\n",
    "Due to the way we define our triplet_loss we need to add an alpha term to insure that the difference between pos_dist and neg_dist is not zero. This also prevent the model from choosing the trivial values of zero embeddings for our 3 images.\n",
    "\n",
    "The initial triplet loss is define as the sum of the difference between pos_dist and neg_dist over a mini-batch. Therefore it makes the loss value dependant of the mini batc size. Instead we choose to use the mean over a minibatch to keep a constant loss independent of mini batch size.\n",
    "We also decide to divide by alpha to obtain a value non dependent of alpha."
   ]
  },
  {
   "cell_type": "code",
   "execution_count": 25,
   "metadata": {},
   "outputs": [],
   "source": [
    "def triplet_loss(y_true, y_pred, alpha = 0.2):\n",
    "    \"\"\"\n",
    "    Implementation of the triplet loss\n",
    "    \n",
    "    Arguments:\n",
    "    y_true -- true labels, required when you define a loss in Keras, you don't need it in this function.\n",
    "    y_pred -- python list containing three objects:\n",
    "            anchor -- the encodings for the anchor images, of shape (None, 64)\n",
    "            positive -- the encodings for the positive images, of shape (None, 64)\n",
    "            negative -- the encodings for the negative images, of shape (None, 64)\n",
    "    \n",
    "    Returns:\n",
    "    loss -- real number, value of the loss\n",
    "    \"\"\"\n",
    "    \n",
    "    anchor, positive, negative = y_pred[:,0:64], y_pred[:,64:128], y_pred[:,128:196]\n",
    "    \n",
    "    #Compute the (encoding) distance between the anchor and the positive, you will need to sum over axis=-1\n",
    "    pos_dist = tf.sqrt(tf.reduce_sum(tf.square(tf.subtract(anchor, positive)), axis = -1))\n",
    "    #Compute the (encoding) distance between the anchor and the negative, you will need to sum over axis=-1\n",
    "    neg_dist = tf.sqrt(tf.reduce_sum(tf.square(tf.subtract(anchor, negative)), axis = -1))\n",
    "    #Subtract the two previous distances and add alpha.\n",
    "    basic_loss = tf.add(tf.subtract(pos_dist, neg_dist), alpha)\n",
    "    # Count number of positive triplets (where triplet_loss > 0)\n",
    "    valid_triplets = tf.to_float(tf.greater(basic_loss,0))\n",
    "    num_positive_triplets = tf.reduce_sum(valid_triplets)\n",
    "    #Take the maximum of basic_loss and 0.0. Sum over the training examples.\n",
    "    loss = tf.reduce_mean(tf.maximum(basic_loss, 0))/ alpha * 100\n",
    "    \n",
    "    return loss"
   ]
  },
  {
   "cell_type": "markdown",
   "metadata": {},
   "source": [
    "We define our error rate by calculating the number of hard triplets over the total number of triplets. For the accuracy we simply take 1-error percentage."
   ]
  },
  {
   "cell_type": "code",
   "execution_count": 26,
   "metadata": {},
   "outputs": [],
   "source": [
    "def triplet_acc(y_true, y_pred, alpha = 0.2):\n",
    "    \"\"\"\n",
    "    Implementation of the triplet accuracy\n",
    "    \n",
    "    Arguments:\n",
    "    y_true -- true labels, required when you define a loss in Keras, you don't need it in this function.\n",
    "    y_pred -- python list containing three objects:\n",
    "            anchor -- the encodings for the anchor images, of shape (None, 64)\n",
    "            positive -- the encodings for the positive images, of shape (None, 64)\n",
    "            negative -- the encodings for the negative images, of shape (None, 64)\n",
    "    \n",
    "    Returns:\n",
    "    loss -- real number, value of the accuracy\n",
    "    \"\"\"\n",
    "    \n",
    "    anchor, positive, negative = y_pred[:,0:64], y_pred[:,64:128], y_pred[:,128:196]\n",
    "    \n",
    "    #Compute the (encoding) distance between the anchor and the positive, you will need to sum over axis=-1\n",
    "    pos_dist = tf.reduce_sum(tf.square(tf.subtract(anchor, positive)), axis = -1)\n",
    "    #Compute the (encoding) distance between the anchor and the negative, you will need to sum over axis=-1\n",
    "    neg_dist = tf.reduce_sum(tf.square(tf.subtract(anchor, negative)), axis = -1)\n",
    "    #Subtract the two previous distances and add alpha.\n",
    "    basic_loss = tf.add(tf.subtract(pos_dist, neg_dist), alpha)\n",
    "    # Count number of positive triplets (where triplet_loss > 0)\n",
    "    hard_triplets = tf.to_float(tf.greater(basic_loss,alpha))\n",
    "    num_hard_triplets = tf.reduce_sum(hard_triplets)\n",
    "    #Count number of triplets\n",
    "    all_triplets = tf.reduce_sum(tf.to_float(tf.greater(basic_loss,-10**10)))\n",
    "    \n",
    "    #Accuracy\n",
    "    acc = 1 - num_hard_triplets/all_triplets\n",
    "    \n",
    "    return acc"
   ]
  },
  {
   "cell_type": "markdown",
   "metadata": {},
   "source": [
    "### 5.Creation of valid triplets"
   ]
  },
  {
   "cell_type": "markdown",
   "metadata": {},
   "source": [
    "The possible number of valid triplets in our training set is huge.\n",
    "To be able to feed our model with only valid triplets, we will later build a generator for our training set based on a select. Therefore for the validation set, to be able to compare more accurately our models, we create a fixed number of valid triplets. There is no need here to create a generator as all the triplets can easily fit in memory.\n",
    "For each (anchor, positive) couple of images we add a random negative anchor image."
   ]
  },
  {
   "cell_type": "code",
   "execution_count": 27,
   "metadata": {},
   "outputs": [],
   "source": [
    "def create_triplets(X, Y, num=1):\n",
    "    \"\"\"\n",
    "    Create a list of valid triplets for each valid (anchor, positive) couple\n",
    "    \n",
    "    Arguments:\n",
    "    X -- array of images\n",
    "    Y -- array of classes corresponding to each image\n",
    "    num -- number of negative images for each valid anchor and positive images - must be positive\n",
    "           if num = 0, all possible valid couples are created\n",
    "            For example : for one valid (A,P) couple we can select 'num' random N images. \n",
    "                          Thus 'num' triplets are created for this (A,P) couple\n",
    "    \n",
    "    Returns:\n",
    "    (A,P,N) -- python tuple containing 3 arrays : \n",
    "            A -- the array for the anchor images, of shape (None, 64)\n",
    "            P -- the array for the positive images, of shape (None, 64)\n",
    "            N -- the array for the negative images, of shape (None, 64)\n",
    "    \"\"\"\n",
    "\n",
    "    Y = Y.reshape(Y.shape[0],)\n",
    "    A = []\n",
    "    P = []\n",
    "    N = []\n",
    "    \n",
    "    #We loop over all possible valid (A,P)\n",
    "    for i in range(X.shape[0]):  \n",
    "        list_pos = X[Y==Y[i]]\n",
    "        for j in list_pos:\n",
    "            #We provide a number 'num' of triplets for each valid (A,P)\n",
    "            if num >=1:\n",
    "                for k in range(num):\n",
    "                    rand_num = np.random.randint(X.shape[0])\n",
    "                    if np.array_equal(X[i],j) == False:\n",
    "                        A.append(X[i])\n",
    "                        P.append(j)\n",
    "                        while np.array_equal(Y[rand_num], Y[i]):\n",
    "                            rand_num = np.random.randint(X.shape[0])\n",
    "                        N.append(X[rand_num])\n",
    "            if num == 0:\n",
    "                for k in range(X.shape[0]):\n",
    "                    if np.array_equal(X[i],j) == False:\n",
    "                        if np.array_equal(Y[i],Y[k]) == False:\n",
    "                            A.append(X[i])\n",
    "                            P.append(j)\n",
    "                            N.append(X[k])\n",
    "    \n",
    "    A = np.array(A)\n",
    "    P = np.array(P)\n",
    "    N = np.array(N)\n",
    "    \n",
    "    return (A, P, N)"
   ]
  },
  {
   "cell_type": "code",
   "execution_count": 28,
   "metadata": {},
   "outputs": [
    {
     "name": "stdout",
     "output_type": "stream",
     "text": [
      "[(34958, 64, 64, 1), (34958, 64, 64, 1), (34958, 64, 64, 1)]\n"
     ]
    }
   ],
   "source": [
    "triplets_list_val = create_triplets(X_val, Y_val, 1)\n",
    "print([i.shape for i in triplets_list_val])"
   ]
  },
  {
   "cell_type": "markdown",
   "metadata": {},
   "source": [
    "This gives us a number of 25080 valid triplets for the validation set. This number of images give us a reasonable indication on the accuracy."
   ]
  },
  {
   "cell_type": "markdown",
   "metadata": {},
   "source": [
    "## D/ Triplet loss Neural Network architecture"
   ]
  },
  {
   "cell_type": "markdown",
   "metadata": {},
   "source": [
    "The Triplet loss Neural Network is composed of 2 parts :\n",
    "* a Convolutional Neural Network(CNN) which transforms an input image into an embedding(vector of features describing the whale). The same CNN, with the same weights are used one valid triplet of images.\n",
    "* a global model which will concatenante all the embeddings"
   ]
  },
  {
   "cell_type": "markdown",
   "metadata": {},
   "source": [
    "### 1.Embedding Model"
   ]
  },
  {
   "cell_type": "markdown",
   "metadata": {},
   "source": [
    "The embedding model that we use is based on the version 2 of ResNet model because of its ability to make deeper networks more effective and facilitating the learning process. Moreover it is still considered as a current State of the Art Model. Therefore we won't use the original model because our input images here are only of size 64x64 instead of (229x229) and moreover as our problem is easier with less channels and features, and because of our limited computational ressouces we will create a small variant of this model.\n",
    "\n",
    "The embedding Model is composed of 4 blocks :\n",
    "* Block 1 - 64x64\n",
    "* Block 2 - 32x32\n",
    "* Block 3 - 16x16\n",
    "* Block 4 - 8x8\n",
    "\n",
    "Finally, a final averaging pooling will be used, then flatten and processed in a dense layer to obtain our embeddings of size 64."
   ]
  },
  {
   "cell_type": "code",
   "execution_count": 29,
   "metadata": {},
   "outputs": [],
   "source": [
    "def EmbModel(input_shape, l2):\n",
    "    regul  = regularizers.l2(l2)\n",
    "    kwargs = {'padding':'same', 'kernel_regularizer':regul,'kernel_initializer':'he_normal'}\n",
    "\n",
    "    inp = Input(input_shape) # 64x64x1\n",
    "    x   = Conv2D(32, (3,3), strides=1, **kwargs)(inp) #32x32x64\n",
    "    x   = BatchNormalization()(x)\n",
    "    x   = Activation('relu')(x)\n",
    "    \n",
    "    #Stage 0 / resblock 0\n",
    "    y   = Conv2D(32, (1,1), strides=1, **kwargs)(x)\n",
    "    \n",
    "    y   = BatchNormalization()(y)\n",
    "    y   = Activation('relu')(y)\n",
    "    y   = Conv2D(32, (3,3), strides=1, **kwargs)(y)\n",
    "    \n",
    "    y   = BatchNormalization()(y)\n",
    "    y   = Activation('relu')(y)\n",
    "    y   = Conv2D(64, (1,1), strides=1, **kwargs)(y)\n",
    "    \n",
    "    x   = Conv2D(64, (1,1), strides=1, **kwargs) (x)\n",
    "    x   = Add()([x,y])\n",
    "    \n",
    "    #Stage 0 / resblock 1\n",
    "    x   = BatchNormalization()(x)\n",
    "    x   = Activation('relu')(x)\n",
    "    y   = Conv2D(32, (1,1), strides=1, **kwargs)(x)\n",
    "    \n",
    "    y   = BatchNormalization()(y)\n",
    "    y   = Activation('relu')(y)\n",
    "    y   = Conv2D(32, (3,3), strides=1, **kwargs)(y)\n",
    "    \n",
    "    y   = BatchNormalization()(y)\n",
    "    y   = Activation('relu')(y)\n",
    "    y   = Conv2D(64, (1,1), strides=1, **kwargs)(y)\n",
    "    \n",
    "    x   = Add()([x,y])\n",
    "    \n",
    "    #Stage 1 / resblock 0\n",
    "    y   = Conv2D(64, (1,1), strides=2, **kwargs)(x)\n",
    "    \n",
    "    y   = BatchNormalization()(y)\n",
    "    y   = Activation('relu')(y)\n",
    "    y   = Conv2D(64, (3,3), strides=1, **kwargs)(y)\n",
    "    \n",
    "    y   = BatchNormalization()(y)\n",
    "    y   = Activation('relu')(y)\n",
    "    y   = Conv2D(128, (1,1), strides=1, **kwargs)(y)\n",
    "    \n",
    "    x   = Conv2D(128, (1,1), strides=2, **kwargs) (x)\n",
    "    x   = Add()([x,y])\n",
    "    \n",
    "    #Stage 1 / resblock 1\n",
    "    x   = BatchNormalization()(x)\n",
    "    x   = Activation('relu')(x)\n",
    "    y   = Conv2D(64, (1,1), strides=1, **kwargs)(x)\n",
    "    \n",
    "    y   = BatchNormalization()(y)\n",
    "    y   = Activation('relu')(y)\n",
    "    y   = Conv2D(64, (3,3), strides=1, **kwargs)(y)\n",
    "    \n",
    "    y   = BatchNormalization()(y)\n",
    "    y   = Activation('relu')(y)\n",
    "    y   = Conv2D(128, (1,1), strides=1, **kwargs)(y)\n",
    "    \n",
    "    x   = Add()([x,y])\n",
    "    \n",
    "    #Stage 2 / resblock 0\n",
    "    y   = Conv2D(128, (1,1), strides=2, **kwargs)(x)\n",
    "    \n",
    "    y   = BatchNormalization()(y)\n",
    "    y   = Activation('relu')(y)\n",
    "    y   = Conv2D(128, (3,3), strides=1, **kwargs)(y)\n",
    "    \n",
    "    y   = BatchNormalization()(y)\n",
    "    y   = Activation('relu')(y)\n",
    "    y   = Conv2D(256, (1,1), strides=1, **kwargs)(y)\n",
    "    \n",
    "    x   = Conv2D(256, (1,1), strides=2, **kwargs) (x)\n",
    "    x   = Add()([x,y])\n",
    "    \n",
    "    #Stage 2 / resblock 1\n",
    "    x   = BatchNormalization()(x)\n",
    "    x   = Activation('relu')(x)\n",
    "    y   = Conv2D(128, (1,1), strides=1, **kwargs)(x)\n",
    "    \n",
    "    y   = BatchNormalization()(y)\n",
    "    y   = Activation('relu')(y)\n",
    "    y   = Conv2D(128, (3,3), strides=1, **kwargs)(y)\n",
    "    \n",
    "    y   = BatchNormalization()(y)\n",
    "    y   = Activation('relu')(y)\n",
    "    y   = Conv2D(256, (1,1), strides=1, **kwargs)(y)\n",
    "    \n",
    "    x   = Add()([x,y])\n",
    "    \n",
    "    #Stage 3 / resblock 0\n",
    "    y   = Conv2D(256, (1,1), strides=2, **kwargs)(x)\n",
    "    \n",
    "    y   = BatchNormalization()(y)\n",
    "    y   = Activation('relu')(y)\n",
    "    y   = Conv2D(256, (3,3), strides=1, **kwargs)(y)\n",
    "    \n",
    "    y   = BatchNormalization()(y)\n",
    "    y   = Activation('relu')(y)\n",
    "    y   = Conv2D(512, (1,1), strides=1, **kwargs)(y)\n",
    "    \n",
    "    x   = Conv2D(512, (1,1), strides=2, **kwargs) (x)\n",
    "    x   = Add()([x,y])\n",
    "    \n",
    "    #Stage 2 / resblock 1\n",
    "    x   = BatchNormalization()(x)\n",
    "    x   = Activation('relu')(x)\n",
    "    y   = Conv2D(256, (1,1), strides=1, **kwargs)(x)\n",
    "    \n",
    "    y   = BatchNormalization()(y)\n",
    "    y   = Activation('relu')(y)\n",
    "    y   = Conv2D(256, (3,3), strides=1, **kwargs)(y)\n",
    "    \n",
    "    y   = BatchNormalization()(y)\n",
    "    y   = Activation('relu')(y)\n",
    "    y   = Conv2D(512, (1,1), strides=1, **kwargs)(y)\n",
    "    \n",
    "    x   = Add()([x,y])\n",
    "    \n",
    "    #Final\n",
    "    x   = BatchNormalization()(x)\n",
    "    x   = Activation('relu')(x)\n",
    "    x   = AveragePooling2D(pool_size=8)(x)\n",
    "    x   = Flatten()(x)\n",
    "    x = Dense (64, activation ='tanh',kernel_initializer='he_normal') (x)\n",
    "\n",
    "    \n",
    "    ##Create model\n",
    "    model = Model(inputs = inp, outputs = x, name='EmbModel')\n",
    "    \n",
    "    return model"
   ]
  },
  {
   "cell_type": "markdown",
   "metadata": {},
   "source": [
    "### 2.Global model"
   ]
  },
  {
   "cell_type": "markdown",
   "metadata": {},
   "source": [
    "The global model will use 3 instances of our embedding model for each images of our triplets. All the weights between the 3 models are shared. Then we finally backpropagate and update these weights by using our triplet loss function."
   ]
  },
  {
   "cell_type": "code",
   "execution_count": 30,
   "metadata": {},
   "outputs": [],
   "source": [
    "#We define our global model\n",
    "def global_model(size, channel_size=1, l2=1e-4):\n",
    "    input_size = (size, size, channel_sz)                     \n",
    "\n",
    "    A = Input(input_size)\n",
    "    P = Input(input_size)\n",
    "    N = Input(input_size)\n",
    "\n",
    "    emb_model= EmbModel(input_size, l2)\n",
    "\n",
    "    out_A = emb_model(A)\n",
    "    out_P = emb_model(P)\n",
    "    out_N = emb_model(N)\n",
    "\n",
    "    y_pred = concatenate([out_A, out_P, out_N], axis =-1)\n",
    "\n",
    "    full_model = Model(inputs = [A, P, N], outputs = y_pred)\n",
    "    \n",
    "    return full_model, emb_model"
   ]
  },
  {
   "cell_type": "markdown",
   "metadata": {},
   "source": [
    "We create an instance of our model"
   ]
  },
  {
   "cell_type": "code",
   "execution_count": 31,
   "metadata": {},
   "outputs": [],
   "source": [
    "classification_model, emb_model = global_model(SZ,channel_sz, l2=1e-3)"
   ]
  },
  {
   "cell_type": "code",
   "execution_count": 32,
   "metadata": {
    "scrolled": true
   },
   "outputs": [
    {
     "name": "stdout",
     "output_type": "stream",
     "text": [
      "__________________________________________________________________________________________________\n",
      "Layer (type)                    Output Shape         Param #     Connected to                     \n",
      "==================================================================================================\n",
      "input_1 (InputLayer)            (None, 64, 64, 1)    0                                            \n",
      "__________________________________________________________________________________________________\n",
      "input_2 (InputLayer)            (None, 64, 64, 1)    0                                            \n",
      "__________________________________________________________________________________________________\n",
      "input_3 (InputLayer)            (None, 64, 64, 1)    0                                            \n",
      "__________________________________________________________________________________________________\n",
      "EmbModel (Model)                (None, 64)           2401728     input_1[0][0]                    \n",
      "                                                                 input_2[0][0]                    \n",
      "                                                                 input_3[0][0]                    \n",
      "__________________________________________________________________________________________________\n",
      "concatenate_1 (Concatenate)     (None, 192)          0           EmbModel[1][0]                   \n",
      "                                                                 EmbModel[2][0]                   \n",
      "                                                                 EmbModel[3][0]                   \n",
      "==================================================================================================\n",
      "Total params: 2,401,728\n",
      "Trainable params: 2,394,880\n",
      "Non-trainable params: 6,848\n",
      "__________________________________________________________________________________________________\n",
      "__________________________________________________________________________________________________\n",
      "Layer (type)                    Output Shape         Param #     Connected to                     \n",
      "==================================================================================================\n",
      "input_4 (InputLayer)            (None, 64, 64, 1)    0                                            \n",
      "__________________________________________________________________________________________________\n",
      "conv2d_1 (Conv2D)               (None, 64, 64, 32)   320         input_4[0][0]                    \n",
      "__________________________________________________________________________________________________\n",
      "batch_normalization_1 (BatchNor (None, 64, 64, 32)   128         conv2d_1[0][0]                   \n",
      "__________________________________________________________________________________________________\n",
      "activation_1 (Activation)       (None, 64, 64, 32)   0           batch_normalization_1[0][0]      \n",
      "__________________________________________________________________________________________________\n",
      "conv2d_2 (Conv2D)               (None, 64, 64, 32)   1056        activation_1[0][0]               \n",
      "__________________________________________________________________________________________________\n",
      "batch_normalization_2 (BatchNor (None, 64, 64, 32)   128         conv2d_2[0][0]                   \n",
      "__________________________________________________________________________________________________\n",
      "activation_2 (Activation)       (None, 64, 64, 32)   0           batch_normalization_2[0][0]      \n",
      "__________________________________________________________________________________________________\n",
      "conv2d_3 (Conv2D)               (None, 64, 64, 32)   9248        activation_2[0][0]               \n",
      "__________________________________________________________________________________________________\n",
      "batch_normalization_3 (BatchNor (None, 64, 64, 32)   128         conv2d_3[0][0]                   \n",
      "__________________________________________________________________________________________________\n",
      "activation_3 (Activation)       (None, 64, 64, 32)   0           batch_normalization_3[0][0]      \n",
      "__________________________________________________________________________________________________\n",
      "conv2d_5 (Conv2D)               (None, 64, 64, 64)   2112        activation_1[0][0]               \n",
      "__________________________________________________________________________________________________\n",
      "conv2d_4 (Conv2D)               (None, 64, 64, 64)   2112        activation_3[0][0]               \n",
      "__________________________________________________________________________________________________\n",
      "add_1 (Add)                     (None, 64, 64, 64)   0           conv2d_5[0][0]                   \n",
      "                                                                 conv2d_4[0][0]                   \n",
      "__________________________________________________________________________________________________\n",
      "batch_normalization_4 (BatchNor (None, 64, 64, 64)   256         add_1[0][0]                      \n",
      "__________________________________________________________________________________________________\n",
      "activation_4 (Activation)       (None, 64, 64, 64)   0           batch_normalization_4[0][0]      \n",
      "__________________________________________________________________________________________________\n",
      "conv2d_6 (Conv2D)               (None, 64, 64, 32)   2080        activation_4[0][0]               \n",
      "__________________________________________________________________________________________________\n",
      "batch_normalization_5 (BatchNor (None, 64, 64, 32)   128         conv2d_6[0][0]                   \n",
      "__________________________________________________________________________________________________\n",
      "activation_5 (Activation)       (None, 64, 64, 32)   0           batch_normalization_5[0][0]      \n",
      "__________________________________________________________________________________________________\n",
      "conv2d_7 (Conv2D)               (None, 64, 64, 32)   9248        activation_5[0][0]               \n",
      "__________________________________________________________________________________________________\n",
      "batch_normalization_6 (BatchNor (None, 64, 64, 32)   128         conv2d_7[0][0]                   \n",
      "__________________________________________________________________________________________________\n",
      "activation_6 (Activation)       (None, 64, 64, 32)   0           batch_normalization_6[0][0]      \n",
      "__________________________________________________________________________________________________\n",
      "conv2d_8 (Conv2D)               (None, 64, 64, 64)   2112        activation_6[0][0]               \n",
      "__________________________________________________________________________________________________\n",
      "add_2 (Add)                     (None, 64, 64, 64)   0           activation_4[0][0]               \n",
      "                                                                 conv2d_8[0][0]                   \n",
      "__________________________________________________________________________________________________\n",
      "conv2d_9 (Conv2D)               (None, 32, 32, 64)   4160        add_2[0][0]                      \n",
      "__________________________________________________________________________________________________\n",
      "batch_normalization_7 (BatchNor (None, 32, 32, 64)   256         conv2d_9[0][0]                   \n",
      "__________________________________________________________________________________________________\n",
      "activation_7 (Activation)       (None, 32, 32, 64)   0           batch_normalization_7[0][0]      \n",
      "__________________________________________________________________________________________________\n",
      "conv2d_10 (Conv2D)              (None, 32, 32, 64)   36928       activation_7[0][0]               \n",
      "__________________________________________________________________________________________________\n",
      "batch_normalization_8 (BatchNor (None, 32, 32, 64)   256         conv2d_10[0][0]                  \n",
      "__________________________________________________________________________________________________\n",
      "activation_8 (Activation)       (None, 32, 32, 64)   0           batch_normalization_8[0][0]      \n",
      "__________________________________________________________________________________________________\n",
      "conv2d_12 (Conv2D)              (None, 32, 32, 128)  8320        add_2[0][0]                      \n",
      "__________________________________________________________________________________________________\n",
      "conv2d_11 (Conv2D)              (None, 32, 32, 128)  8320        activation_8[0][0]               \n",
      "__________________________________________________________________________________________________\n",
      "add_3 (Add)                     (None, 32, 32, 128)  0           conv2d_12[0][0]                  \n",
      "                                                                 conv2d_11[0][0]                  \n",
      "__________________________________________________________________________________________________\n",
      "batch_normalization_9 (BatchNor (None, 32, 32, 128)  512         add_3[0][0]                      \n",
      "__________________________________________________________________________________________________\n",
      "activation_9 (Activation)       (None, 32, 32, 128)  0           batch_normalization_9[0][0]      \n",
      "__________________________________________________________________________________________________\n",
      "conv2d_13 (Conv2D)              (None, 32, 32, 64)   8256        activation_9[0][0]               \n",
      "__________________________________________________________________________________________________\n",
      "batch_normalization_10 (BatchNo (None, 32, 32, 64)   256         conv2d_13[0][0]                  \n",
      "__________________________________________________________________________________________________\n",
      "activation_10 (Activation)      (None, 32, 32, 64)   0           batch_normalization_10[0][0]     \n",
      "__________________________________________________________________________________________________\n",
      "conv2d_14 (Conv2D)              (None, 32, 32, 64)   36928       activation_10[0][0]              \n",
      "__________________________________________________________________________________________________\n",
      "batch_normalization_11 (BatchNo (None, 32, 32, 64)   256         conv2d_14[0][0]                  \n",
      "__________________________________________________________________________________________________\n",
      "activation_11 (Activation)      (None, 32, 32, 64)   0           batch_normalization_11[0][0]     \n",
      "__________________________________________________________________________________________________\n",
      "conv2d_15 (Conv2D)              (None, 32, 32, 128)  8320        activation_11[0][0]              \n",
      "__________________________________________________________________________________________________\n",
      "add_4 (Add)                     (None, 32, 32, 128)  0           activation_9[0][0]               \n",
      "                                                                 conv2d_15[0][0]                  \n",
      "__________________________________________________________________________________________________\n",
      "conv2d_16 (Conv2D)              (None, 16, 16, 128)  16512       add_4[0][0]                      \n",
      "__________________________________________________________________________________________________\n",
      "batch_normalization_12 (BatchNo (None, 16, 16, 128)  512         conv2d_16[0][0]                  \n",
      "__________________________________________________________________________________________________\n",
      "activation_12 (Activation)      (None, 16, 16, 128)  0           batch_normalization_12[0][0]     \n",
      "__________________________________________________________________________________________________\n",
      "conv2d_17 (Conv2D)              (None, 16, 16, 128)  147584      activation_12[0][0]              \n",
      "__________________________________________________________________________________________________\n",
      "batch_normalization_13 (BatchNo (None, 16, 16, 128)  512         conv2d_17[0][0]                  \n",
      "__________________________________________________________________________________________________\n",
      "activation_13 (Activation)      (None, 16, 16, 128)  0           batch_normalization_13[0][0]     \n",
      "__________________________________________________________________________________________________\n",
      "conv2d_19 (Conv2D)              (None, 16, 16, 256)  33024       add_4[0][0]                      \n",
      "__________________________________________________________________________________________________\n",
      "conv2d_18 (Conv2D)              (None, 16, 16, 256)  33024       activation_13[0][0]              \n",
      "__________________________________________________________________________________________________\n",
      "add_5 (Add)                     (None, 16, 16, 256)  0           conv2d_19[0][0]                  \n",
      "                                                                 conv2d_18[0][0]                  \n",
      "__________________________________________________________________________________________________\n",
      "batch_normalization_14 (BatchNo (None, 16, 16, 256)  1024        add_5[0][0]                      \n",
      "__________________________________________________________________________________________________\n",
      "activation_14 (Activation)      (None, 16, 16, 256)  0           batch_normalization_14[0][0]     \n",
      "__________________________________________________________________________________________________\n",
      "conv2d_20 (Conv2D)              (None, 16, 16, 128)  32896       activation_14[0][0]              \n",
      "__________________________________________________________________________________________________\n",
      "batch_normalization_15 (BatchNo (None, 16, 16, 128)  512         conv2d_20[0][0]                  \n",
      "__________________________________________________________________________________________________\n",
      "activation_15 (Activation)      (None, 16, 16, 128)  0           batch_normalization_15[0][0]     \n",
      "__________________________________________________________________________________________________\n",
      "conv2d_21 (Conv2D)              (None, 16, 16, 128)  147584      activation_15[0][0]              \n",
      "__________________________________________________________________________________________________\n",
      "batch_normalization_16 (BatchNo (None, 16, 16, 128)  512         conv2d_21[0][0]                  \n",
      "__________________________________________________________________________________________________\n",
      "activation_16 (Activation)      (None, 16, 16, 128)  0           batch_normalization_16[0][0]     \n",
      "__________________________________________________________________________________________________\n",
      "conv2d_22 (Conv2D)              (None, 16, 16, 256)  33024       activation_16[0][0]              \n",
      "__________________________________________________________________________________________________\n",
      "add_6 (Add)                     (None, 16, 16, 256)  0           activation_14[0][0]              \n",
      "                                                                 conv2d_22[0][0]                  \n",
      "__________________________________________________________________________________________________\n",
      "conv2d_23 (Conv2D)              (None, 8, 8, 256)    65792       add_6[0][0]                      \n",
      "__________________________________________________________________________________________________\n",
      "batch_normalization_17 (BatchNo (None, 8, 8, 256)    1024        conv2d_23[0][0]                  \n",
      "__________________________________________________________________________________________________\n",
      "activation_17 (Activation)      (None, 8, 8, 256)    0           batch_normalization_17[0][0]     \n",
      "__________________________________________________________________________________________________\n",
      "conv2d_24 (Conv2D)              (None, 8, 8, 256)    590080      activation_17[0][0]              \n",
      "__________________________________________________________________________________________________\n",
      "batch_normalization_18 (BatchNo (None, 8, 8, 256)    1024        conv2d_24[0][0]                  \n",
      "__________________________________________________________________________________________________\n",
      "activation_18 (Activation)      (None, 8, 8, 256)    0           batch_normalization_18[0][0]     \n",
      "__________________________________________________________________________________________________\n",
      "conv2d_26 (Conv2D)              (None, 8, 8, 512)    131584      add_6[0][0]                      \n",
      "__________________________________________________________________________________________________\n",
      "conv2d_25 (Conv2D)              (None, 8, 8, 512)    131584      activation_18[0][0]              \n",
      "__________________________________________________________________________________________________\n",
      "add_7 (Add)                     (None, 8, 8, 512)    0           conv2d_26[0][0]                  \n",
      "                                                                 conv2d_25[0][0]                  \n",
      "__________________________________________________________________________________________________\n",
      "batch_normalization_19 (BatchNo (None, 8, 8, 512)    2048        add_7[0][0]                      \n",
      "__________________________________________________________________________________________________\n",
      "activation_19 (Activation)      (None, 8, 8, 512)    0           batch_normalization_19[0][0]     \n",
      "__________________________________________________________________________________________________\n",
      "conv2d_27 (Conv2D)              (None, 8, 8, 256)    131328      activation_19[0][0]              \n",
      "__________________________________________________________________________________________________\n",
      "batch_normalization_20 (BatchNo (None, 8, 8, 256)    1024        conv2d_27[0][0]                  \n",
      "__________________________________________________________________________________________________\n",
      "activation_20 (Activation)      (None, 8, 8, 256)    0           batch_normalization_20[0][0]     \n",
      "__________________________________________________________________________________________________\n",
      "conv2d_28 (Conv2D)              (None, 8, 8, 256)    590080      activation_20[0][0]              \n",
      "__________________________________________________________________________________________________\n",
      "batch_normalization_21 (BatchNo (None, 8, 8, 256)    1024        conv2d_28[0][0]                  \n",
      "__________________________________________________________________________________________________\n",
      "activation_21 (Activation)      (None, 8, 8, 256)    0           batch_normalization_21[0][0]     \n",
      "__________________________________________________________________________________________________\n",
      "conv2d_29 (Conv2D)              (None, 8, 8, 512)    131584      activation_21[0][0]              \n",
      "__________________________________________________________________________________________________\n",
      "add_8 (Add)                     (None, 8, 8, 512)    0           activation_19[0][0]              \n",
      "                                                                 conv2d_29[0][0]                  \n",
      "__________________________________________________________________________________________________\n",
      "batch_normalization_22 (BatchNo (None, 8, 8, 512)    2048        add_8[0][0]                      \n",
      "__________________________________________________________________________________________________\n",
      "activation_22 (Activation)      (None, 8, 8, 512)    0           batch_normalization_22[0][0]     \n",
      "__________________________________________________________________________________________________\n",
      "average_pooling2d_1 (AveragePoo (None, 1, 1, 512)    0           activation_22[0][0]              \n",
      "__________________________________________________________________________________________________\n",
      "flatten_1 (Flatten)             (None, 512)          0           average_pooling2d_1[0][0]        \n",
      "__________________________________________________________________________________________________\n",
      "dense_1 (Dense)                 (None, 64)           32832       flatten_1[0][0]                  \n",
      "==================================================================================================\n",
      "Total params: 2,401,728\n",
      "Trainable params: 2,394,880\n",
      "Non-trainable params: 6,848\n",
      "__________________________________________________________________________________________________\n"
     ]
    }
   ],
   "source": [
    "classification_model.summary()\n",
    "emb_model.summary()"
   ]
  },
  {
   "cell_type": "markdown",
   "metadata": {},
   "source": [
    "### 3.Batch Generator\n",
    "Before creating our Batch Generator we will create an Image augmentation Pipeline to create more randomness in our data and to reduce overfitting.\n",
    "#### a) Image Augmentation Pipeline\n",
    "In our Augmentation Pipeline, we will use the following 4 transformations :\n",
    "1. random_rotation with a range of 30 degrees\n",
    "2. random_shear with an intensity of 0.2\n",
    "3. random_soom with a range of [0.85,1.15]\n",
    "4. random_shift with a range of 0.15 horizontally as vertically\n",
    "All these range are selected to be in a 'human range'. That means that they give some approximations of the variation that a human can have when writing these characters"
   ]
  },
  {
   "cell_type": "code",
   "execution_count": 33,
   "metadata": {},
   "outputs": [],
   "source": [
    "from keras.preprocessing.image import random_rotation, random_shift, random_shear, random_zoom\n",
    "\n",
    "def augmentation_pipeline(img_arr):\n",
    "    img_arr = random_rotation(img_arr, 30, row_axis=0, col_axis=1, channel_axis=2, fill_mode='nearest')\n",
    "    img_arr = random_shear(img_arr, intensity=0.2, row_axis=0, col_axis=1, channel_axis=2, fill_mode='nearest')\n",
    "    img_arr = random_zoom(img_arr, zoom_range=(0.85, 1.15), row_axis=0, col_axis=1, channel_axis=2, fill_mode='nearest')\n",
    "    img_arr = random_shift(img_arr, wrg=0.15, hrg=0.15,fill_mode='nearest')\n",
    "    return img_arr"
   ]
  },
  {
   "cell_type": "markdown",
   "metadata": {},
   "source": [
    "#### b)Batch generator"
   ]
  },
  {
   "cell_type": "markdown",
   "metadata": {},
   "source": [
    "We create a batch generator that will take 'batch_size' valid triplets from an input of images"
   ]
  },
  {
   "cell_type": "code",
   "execution_count": 34,
   "metadata": {},
   "outputs": [],
   "source": [
    "def batch_generator(X,Y, bs=32,hardmode = False):\n",
    "    \"\"\"\n",
    "    Create a mini-batch generator\n",
    "    \n",
    "    Arguments:\n",
    "    X -- array of images\n",
    "    Y -- array of classes corresponding to each image\n",
    "    bs -- size of the minibatch\n",
    "\n",
    "    \n",
    "    Returns:\n",
    "    [A_batch, P_batch, N_batch], y_dummie) -- a mini-batch of size bs\n",
    "    \"\"\"\n",
    "    Y = Y.reshape(Y.shape[0],)\n",
    "    while True:\n",
    "        #0. Initialize Anchor,Postive, Negative\n",
    "        A_batch = []\n",
    "        P_batch = []\n",
    "        N_batch = []\n",
    "        for i in range(bs) :\n",
    "            #1.Choose a random Anchor Image\n",
    "            rand_A_num = np.random.randint(X.shape[0])    \n",
    "\n",
    "            #2.Choose a random Positive Image\n",
    "            list_pos = X[Y==Y[rand_A_num]]                            #List of positive images\n",
    "            rand_P_num = np.random.randint(len(list_pos))\n",
    "            while np.array_equal(X[rand_A_num],list_pos[rand_P_num]):\n",
    "                rand_P_num = np.random.randint(len(list_pos))\n",
    "                \n",
    "\n",
    "            #3.Choose a random Negative Image\n",
    "            rand_N_num = np.random.randint(X.shape[0])\n",
    "            while np.array_equal(Y[rand_N_num], Y[rand_A_num]):\n",
    "                rand_A_num = np.random.randint(X.shape[0])\n",
    "                \n",
    "            A_augment = augmentation_pipeline(X[rand_A_num])\n",
    "            P_augment = augmentation_pipeline(list_pos[rand_P_num])\n",
    "            N_augment = augmentation_pipeline(X[rand_N_num])\n",
    "                    \n",
    "            A_batch.append(A_augment)\n",
    "            P_batch.append(P_augment)\n",
    "            N_batch.append(N_augment)\n",
    "            \n",
    "        A_batch = np.array(A_batch)\n",
    "        P_batch = np.array(P_batch)\n",
    "        N_batch = np.array(N_batch)\n",
    "        \n",
    "        y_dummie = np.zeros((len(A_batch),))\n",
    "        \n",
    "        yield ([A_batch, P_batch, N_batch], y_dummie)"
   ]
  },
  {
   "cell_type": "markdown",
   "metadata": {},
   "source": [
    "## E/Training procedure"
   ]
  },
  {
   "cell_type": "markdown",
   "metadata": {},
   "source": [
    "### 1.Model Training"
   ]
  },
  {
   "cell_type": "markdown",
   "metadata": {},
   "source": [
    "Regarding the model training we will use a mix of several techniques to optimize our training accuracy and speed :\n",
    "* Adam optimizer\n",
    "    * Adam is an improvement to SGD with proven effectiveness. It mainly uses adaptative learning rates with an exponentially decaying average of past gradients. \n",
    "* Reduce Learning Rate on Plateau and Early stopping\n",
    "    * Used when no significant improvement is made.\n",
    "* Stochastic Gradient Descent with Restart \n",
    "    * The model is trained four times. The weights are preserved between runs, but the learning rate is reset to the original value. This essentially cycles the learning rate between low and high values, which can be advantageous according to Smith, L.N., \"Cyclical Learning Rates for Training Neural Networks\",https://arxiv.org/abs/1506.01186. "
   ]
  },
  {
   "cell_type": "code",
   "execution_count": 37,
   "metadata": {
    "collapsed": true
   },
   "outputs": [
    {
     "name": "stdout",
     "output_type": "stream",
     "text": [
      "TRIPLET-1.h5\n",
      "Epoch 1/200\n",
      " - 299s - loss: 14.6508 - triplet_acc: 0.9692 - val_loss: 26.4808 - val_triplet_acc: 0.9410\n",
      "\n",
      "Epoch 00001: val_loss improved from inf to 26.48082, saving model to TRIPLET-1.h5\n",
      "Epoch 2/200\n",
      " - 286s - loss: 13.8928 - triplet_acc: 0.9729 - val_loss: 20.7491 - val_triplet_acc: 0.9517\n",
      "\n",
      "Epoch 00002: val_loss improved from 26.48082 to 20.74915, saving model to TRIPLET-1.h5\n",
      "Epoch 3/200\n",
      " - 291s - loss: 12.6408 - triplet_acc: 0.9762 - val_loss: 106.1624 - val_triplet_acc: 1.0000\n",
      "\n",
      "Epoch 00003: val_loss did not improve\n",
      "Epoch 4/200\n",
      " - 285s - loss: 11.9245 - triplet_acc: 0.9776 - val_loss: 41.1845 - val_triplet_acc: 0.9128\n",
      "\n",
      "Epoch 00004: val_loss did not improve\n",
      "Epoch 5/200\n",
      " - 299s - loss: 11.3326 - triplet_acc: 0.9791 - val_loss: 105.6571 - val_triplet_acc: 1.0000\n",
      "\n",
      "Epoch 00005: val_loss did not improve\n",
      "\n",
      "Epoch 00005: ReduceLROnPlateau reducing learning rate to 0.0002500000118743628.\n",
      "Epoch 6/200\n",
      " - 299s - loss: 8.7965 - triplet_acc: 0.9870 - val_loss: 38.3831 - val_triplet_acc: 0.8759\n",
      "\n",
      "Epoch 00006: val_loss did not improve\n",
      "Epoch 7/200\n",
      " - 299s - loss: 8.1009 - triplet_acc: 0.9882 - val_loss: 12.7171 - val_triplet_acc: 0.9716\n",
      "\n",
      "Epoch 00007: val_loss improved from 20.74915 to 12.71705, saving model to TRIPLET-1.h5\n",
      "Epoch 8/200\n",
      " - 301s - loss: 7.6283 - triplet_acc: 0.9891 - val_loss: 104.6502 - val_triplet_acc: 1.0000\n",
      "\n",
      "Epoch 00008: val_loss did not improve\n",
      "Epoch 9/200\n",
      " - 303s - loss: 7.4196 - triplet_acc: 0.9889 - val_loss: 20.1234 - val_triplet_acc: 0.9537\n",
      "\n",
      "Epoch 00009: val_loss did not improve\n",
      "Epoch 10/200\n",
      " - 295s - loss: 7.1357 - triplet_acc: 0.9893 - val_loss: 104.2067 - val_triplet_acc: 1.0000\n",
      "\n",
      "Epoch 00010: val_loss did not improve\n",
      "\n",
      "Epoch 00010: ReduceLROnPlateau reducing learning rate to 6.25000029685907e-05.\n",
      "Epoch 11/200\n",
      " - 302s - loss: 6.5121 - triplet_acc: 0.9909 - val_loss: 14.9097 - val_triplet_acc: 0.9646\n",
      "\n",
      "Epoch 00011: val_loss did not improve\n",
      "Epoch 12/200\n",
      " - 306s - loss: 6.1120 - triplet_acc: 0.9922 - val_loss: 68.1996 - val_triplet_acc: 0.7624\n",
      "\n",
      "Epoch 00012: val_loss did not improve\n",
      "\n",
      "Epoch 00012: ReduceLROnPlateau reducing learning rate to 1.5625000742147677e-05.\n",
      "Epoch 13/200\n",
      " - 296s - loss: 6.4356 - triplet_acc: 0.9906 - val_loss: 95.5673 - val_triplet_acc: 0.7115\n",
      "\n",
      "Epoch 00013: val_loss did not improve\n",
      "Epoch 14/200\n",
      " - 289s - loss: 6.1803 - triplet_acc: 0.9918 - val_loss: 13.6773 - val_triplet_acc: 0.9683\n",
      "\n",
      "Epoch 00014: val_loss did not improve\n",
      "\n",
      "Epoch 00014: ReduceLROnPlateau reducing learning rate to 3.906250185536919e-06.\n",
      "Epoch 15/200\n",
      " - 291s - loss: 6.2701 - triplet_acc: 0.9922 - val_loss: 14.2094 - val_triplet_acc: 0.9673\n",
      "\n",
      "Epoch 00015: val_loss did not improve\n",
      "Epoch 16/200\n",
      " - 290s - loss: 5.9734 - triplet_acc: 0.9923 - val_loss: 104.0175 - val_triplet_acc: 1.0000\n",
      "\n",
      "Epoch 00016: val_loss did not improve\n",
      "\n",
      "Epoch 00016: ReduceLROnPlateau reducing learning rate to 9.765625463842298e-07.\n",
      "Epoch 17/200\n",
      " - 248s - loss: 6.1665 - triplet_acc: 0.9920 - val_loss: 14.0024 - val_triplet_acc: 0.9675\n",
      "\n",
      "Epoch 00017: val_loss did not improve\n",
      "Epoch 00017: early stopping\n",
      "TRIPLET-2.h5\n",
      "Epoch 1/200\n",
      " - 260s - loss: 9.9365 - triplet_acc: 0.9787 - val_loss: 104.0066 - val_triplet_acc: 0.6792\n",
      "\n",
      "Epoch 00001: val_loss improved from inf to 104.00660, saving model to TRIPLET-2.h5\n",
      "Epoch 2/200\n",
      " - 248s - loss: 9.7033 - triplet_acc: 0.9811 - val_loss: 30.3230 - val_triplet_acc: 0.9174\n",
      "\n",
      "Epoch 00002: val_loss improved from 104.00660 to 30.32302, saving model to TRIPLET-2.h5\n",
      "Epoch 3/200\n",
      " - 247s - loss: 9.3011 - triplet_acc: 0.9815 - val_loss: 13.6777 - val_triplet_acc: 0.9690\n",
      "\n",
      "Epoch 00003: val_loss improved from 30.32302 to 13.67773, saving model to TRIPLET-2.h5\n",
      "Epoch 4/200\n",
      " - 248s - loss: 9.5475 - triplet_acc: 0.9812 - val_loss: 27.2130 - val_triplet_acc: 0.9387\n",
      "\n",
      "Epoch 00004: val_loss did not improve\n",
      "Epoch 5/200\n",
      " - 250s - loss: 8.8701 - triplet_acc: 0.9835 - val_loss: 104.3935 - val_triplet_acc: 1.0000\n",
      "\n",
      "Epoch 00005: val_loss did not improve\n",
      "Epoch 6/200\n",
      " - 250s - loss: 8.3978 - triplet_acc: 0.9851 - val_loss: 50.4673 - val_triplet_acc: 0.8752\n",
      "\n",
      "Epoch 00006: val_loss did not improve\n",
      "\n",
      "Epoch 00006: ReduceLROnPlateau reducing learning rate to 0.0002500000118743628.\n",
      "Epoch 7/200\n",
      " - 250s - loss: 6.7521 - triplet_acc: 0.9902 - val_loss: 16.2073 - val_triplet_acc: 0.9610\n",
      "\n",
      "Epoch 00007: val_loss did not improve\n",
      "Epoch 8/200\n",
      " - 251s - loss: 5.8219 - triplet_acc: 0.9925 - val_loss: 100.7510 - val_triplet_acc: 0.7470\n",
      "\n",
      "Epoch 00008: val_loss did not improve\n",
      "\n",
      "Epoch 00008: ReduceLROnPlateau reducing learning rate to 6.25000029685907e-05.\n",
      "Epoch 9/200\n",
      " - 249s - loss: 5.6601 - triplet_acc: 0.9925 - val_loss: 14.2659 - val_triplet_acc: 0.9647\n",
      "\n",
      "Epoch 00009: val_loss did not improve\n",
      "Epoch 10/200\n",
      " - 250s - loss: 5.3555 - triplet_acc: 0.9932 - val_loss: 103.5861 - val_triplet_acc: 1.0000\n",
      "\n",
      "Epoch 00010: val_loss did not improve\n",
      "\n",
      "Epoch 00010: ReduceLROnPlateau reducing learning rate to 1.5625000742147677e-05.\n",
      "Epoch 11/200\n",
      " - 248s - loss: 5.1233 - triplet_acc: 0.9943 - val_loss: 14.6408 - val_triplet_acc: 0.9648\n",
      "\n",
      "Epoch 00011: val_loss did not improve\n",
      "Epoch 12/200\n",
      " - 263s - loss: 5.1968 - triplet_acc: 0.9936 - val_loss: 103.5153 - val_triplet_acc: 0.6387\n",
      "\n",
      "Epoch 00012: val_loss did not improve\n",
      "\n",
      "Epoch 00012: ReduceLROnPlateau reducing learning rate to 3.906250185536919e-06.\n",
      "Epoch 13/200\n",
      " - 290s - loss: 5.3089 - triplet_acc: 0.9932 - val_loss: 14.6644 - val_triplet_acc: 0.9650\n",
      "\n",
      "Epoch 00013: val_loss did not improve\n",
      "Epoch 00013: early stopping\n",
      "TRIPLET-3.h5\n",
      "Epoch 1/200\n",
      " - 288s - loss: 7.8825 - triplet_acc: 0.9852 - val_loss: 103.9247 - val_triplet_acc: 1.0000\n",
      "\n",
      "Epoch 00001: val_loss improved from inf to 103.92466, saving model to TRIPLET-3.h5\n",
      "Epoch 2/200\n",
      " - 264s - loss: 7.9602 - triplet_acc: 0.9850 - val_loss: 103.9503 - val_triplet_acc: 1.0000\n",
      "\n",
      "Epoch 00002: val_loss did not improve\n",
      "Epoch 3/200\n",
      " - 249s - loss: 8.1078 - triplet_acc: 0.9845 - val_loss: 23.2370 - val_triplet_acc: 0.9448\n",
      "\n",
      "Epoch 00003: val_loss improved from 103.92466 to 23.23696, saving model to TRIPLET-3.h5\n",
      "Epoch 4/200\n",
      " - 248s - loss: 7.7071 - triplet_acc: 0.9861 - val_loss: 14.9089 - val_triplet_acc: 0.9608\n",
      "\n",
      "Epoch 00004: val_loss improved from 23.23696 to 14.90885, saving model to TRIPLET-3.h5\n",
      "Epoch 5/200\n",
      " - 249s - loss: 7.4995 - triplet_acc: 0.9866 - val_loss: 28.9344 - val_triplet_acc: 0.9321\n",
      "\n",
      "Epoch 00006: val_loss did not improve\n",
      "Epoch 7/200\n",
      " - 249s - loss: 7.2858 - triplet_acc: 0.9864 - val_loss: 47.1051 - val_triplet_acc: 0.8632\n",
      "\n",
      "Epoch 00007: val_loss did not improve\n",
      "\n",
      "Epoch 00007: ReduceLROnPlateau reducing learning rate to 0.0002500000118743628.\n",
      "Epoch 8/200\n",
      " - 250s - loss: 5.9768 - triplet_acc: 0.9905 - val_loss: 12.1470 - val_triplet_acc: 0.9672\n",
      "\n",
      "Epoch 00008: val_loss improved from 14.90885 to 12.14697, saving model to TRIPLET-3.h5\n",
      "Epoch 9/200\n",
      " - 272s - loss: 5.5344 - triplet_acc: 0.9918 - val_loss: 103.3218 - val_triplet_acc: 1.0000\n",
      "\n",
      "Epoch 00009: val_loss did not improve\n",
      "Epoch 10/200\n",
      " - 269s - loss: 5.0946 - triplet_acc: 0.9926 - val_loss: 14.7962 - val_triplet_acc: 0.9626\n",
      "\n",
      "Epoch 00010: val_loss did not improve\n",
      "Epoch 11/200\n",
      " - 269s - loss: 4.9509 - triplet_acc: 0.9928 - val_loss: 17.8408 - val_triplet_acc: 0.9533\n",
      "\n",
      "Epoch 00011: val_loss did not improve\n",
      "\n",
      "Epoch 00011: ReduceLROnPlateau reducing learning rate to 6.25000029685907e-05.\n",
      "Epoch 12/200\n",
      " - 266s - loss: 4.3680 - triplet_acc: 0.9946 - val_loss: 62.0856 - val_triplet_acc: 0.7809\n",
      "\n",
      "Epoch 00012: val_loss did not improve\n",
      "Epoch 13/200\n",
      " - 250s - loss: 4.1272 - triplet_acc: 0.9955 - val_loss: 16.7975 - val_triplet_acc: 0.9573\n",
      "\n",
      "Epoch 00013: val_loss did not improve\n",
      "\n",
      "Epoch 00013: ReduceLROnPlateau reducing learning rate to 1.5625000742147677e-05.\n",
      "Epoch 14/200\n",
      " - 249s - loss: 4.2071 - triplet_acc: 0.9947 - val_loss: 69.0928 - val_triplet_acc: 0.7708\n",
      "\n",
      "Epoch 00014: val_loss did not improve\n",
      "Epoch 15/200\n",
      " - 250s - loss: 4.2500 - triplet_acc: 0.9946 - val_loss: 16.4602 - val_triplet_acc: 0.9578\n",
      "\n",
      "Epoch 00015: val_loss did not improve\n",
      "\n",
      "Epoch 00015: ReduceLROnPlateau reducing learning rate to 3.906250185536919e-06.\n",
      "Epoch 16/200\n",
      " - 248s - loss: 4.0537 - triplet_acc: 0.9955 - val_loss: 16.0584 - val_triplet_acc: 0.9588\n",
      "\n",
      "Epoch 00016: val_loss did not improve\n",
      "Epoch 17/200\n",
      " - 249s - loss: 4.0652 - triplet_acc: 0.9955 - val_loss: 102.8722 - val_triplet_acc: 1.0000\n",
      "\n",
      "Epoch 00017: val_loss did not improve\n",
      "\n",
      "Epoch 00017: ReduceLROnPlateau reducing learning rate to 9.765625463842298e-07.\n",
      "Epoch 18/200\n"
     ]
    },
    {
     "name": "stdout",
     "output_type": "stream",
     "text": [
      " - 249s - loss: 4.0106 - triplet_acc: 0.9957 - val_loss: 15.6498 - val_triplet_acc: 0.9602\n",
      "\n",
      "Epoch 00018: val_loss did not improve\n",
      "Epoch 00018: early stopping\n",
      "TRIPLET-4.h5\n",
      "Epoch 1/200\n",
      " - 264s - loss: 6.3582 - triplet_acc: 0.9859 - val_loss: 13.1994 - val_triplet_acc: 0.9638\n",
      "\n",
      "Epoch 00001: val_loss improved from inf to 13.19936, saving model to TRIPLET-4.h5\n",
      "Epoch 2/200\n",
      " - 249s - loss: 6.5166 - triplet_acc: 0.9861 - val_loss: 14.4533 - val_triplet_acc: 0.9600\n",
      "\n",
      "Epoch 00002: val_loss did not improve\n",
      "Epoch 3/200\n",
      " - 249s - loss: 6.2488 - triplet_acc: 0.9875 - val_loss: 12.0719 - val_triplet_acc: 0.9695\n",
      "\n",
      "Epoch 00003: val_loss improved from 13.19936 to 12.07185, saving model to TRIPLET-4.h5\n",
      "Epoch 4/200\n",
      " - 249s - loss: 6.8855 - triplet_acc: 0.9860 - val_loss: 16.0305 - val_triplet_acc: 0.9573\n",
      "\n",
      "Epoch 00004: val_loss did not improve\n",
      "Epoch 5/200\n",
      " - 253s - loss: 6.6320 - triplet_acc: 0.9871 - val_loss: 13.2639 - val_triplet_acc: 0.9632\n",
      "\n",
      "Epoch 00005: val_loss did not improve\n",
      "Epoch 6/200\n",
      " - 249s - loss: 6.4237 - triplet_acc: 0.9875 - val_loss: 21.1602 - val_triplet_acc: 0.9306\n",
      "\n",
      "Epoch 00006: val_loss did not improve\n",
      "\n",
      "Epoch 00006: ReduceLROnPlateau reducing learning rate to 0.0002500000118743628.\n",
      "Epoch 7/200\n",
      " - 251s - loss: 4.9705 - triplet_acc: 0.9930 - val_loss: 103.0572 - val_triplet_acc: 1.0000\n",
      "\n",
      "Epoch 00007: val_loss did not improve\n",
      "Epoch 8/200\n",
      " - 251s - loss: 4.6269 - triplet_acc: 0.9937 - val_loss: 12.4025 - val_triplet_acc: 0.9683\n",
      "\n",
      "Epoch 00008: val_loss did not improve\n",
      "\n",
      "Epoch 00008: ReduceLROnPlateau reducing learning rate to 6.25000029685907e-05.\n",
      "Epoch 9/200\n",
      " - 250s - loss: 4.5007 - triplet_acc: 0.9934 - val_loss: 11.3797 - val_triplet_acc: 0.9717\n",
      "\n",
      "Epoch 00009: val_loss improved from 12.07185 to 11.37972, saving model to TRIPLET-4.h5\n",
      "Epoch 10/200\n",
      " - 251s - loss: 4.2508 - triplet_acc: 0.9945 - val_loss: 10.5262 - val_triplet_acc: 0.9731\n",
      "\n",
      "Epoch 00010: val_loss improved from 11.37972 to 10.52617, saving model to TRIPLET-4.h5\n",
      "Epoch 11/200\n",
      " - 249s - loss: 4.2127 - triplet_acc: 0.9944 - val_loss: 10.3776 - val_triplet_acc: 0.9731\n",
      "\n",
      "Epoch 00011: val_loss improved from 10.52617 to 10.37756, saving model to TRIPLET-4.h5\n",
      "Epoch 12/200\n",
      " - 250s - loss: 4.0480 - triplet_acc: 0.9950 - val_loss: 11.5409 - val_triplet_acc: 0.9705\n",
      "\n",
      "Epoch 00012: val_loss did not improve\n",
      "Epoch 13/200\n",
      " - 251s - loss: 3.9147 - triplet_acc: 0.9955 - val_loss: 12.9611 - val_triplet_acc: 0.9676\n",
      "\n",
      "Epoch 00013: val_loss did not improve\n",
      "Epoch 14/200\n",
      " - 249s - loss: 3.7135 - triplet_acc: 0.9959 - val_loss: 12.4421 - val_triplet_acc: 0.9682\n",
      "\n",
      "Epoch 00014: val_loss did not improve\n",
      "\n",
      "Epoch 00014: ReduceLROnPlateau reducing learning rate to 1.5625000742147677e-05.\n",
      "Epoch 15/200\n",
      " - 249s - loss: 3.6692 - triplet_acc: 0.9955 - val_loss: 12.7160 - val_triplet_acc: 0.9677\n",
      "\n",
      "Epoch 00015: val_loss did not improve\n",
      "Epoch 16/200\n",
      " - 250s - loss: 3.6169 - triplet_acc: 0.9964 - val_loss: 12.2045 - val_triplet_acc: 0.9686\n",
      "\n",
      "Epoch 00016: val_loss did not improve\n",
      "\n",
      "Epoch 00016: ReduceLROnPlateau reducing learning rate to 3.906250185536919e-06.\n",
      "Epoch 17/200\n",
      " - 251s - loss: 3.8952 - triplet_acc: 0.9948 - val_loss: 12.1235 - val_triplet_acc: 0.9688\n",
      "\n",
      "Epoch 00017: val_loss did not improve\n",
      "Epoch 18/200\n",
      " - 251s - loss: 3.7624 - triplet_acc: 0.9957 - val_loss: 12.2818 - val_triplet_acc: 0.9680\n",
      "\n",
      "Epoch 00018: val_loss did not improve\n",
      "\n",
      "Epoch 00018: ReduceLROnPlateau reducing learning rate to 9.765625463842298e-07.\n",
      "Epoch 19/200\n",
      " - 249s - loss: 3.5471 - triplet_acc: 0.9963 - val_loss: 12.2663 - val_triplet_acc: 0.9686\n",
      "\n",
      "Epoch 00019: val_loss did not improve\n",
      "Epoch 20/200\n",
      " - 249s - loss: 3.6221 - triplet_acc: 0.9961 - val_loss: 12.1374 - val_triplet_acc: 0.9688\n",
      "\n",
      "Epoch 00020: val_loss did not improve\n",
      "\n",
      "Epoch 00020: ReduceLROnPlateau reducing learning rate to 2.4414063659605745e-07.\n",
      "Epoch 21/200\n",
      " - 253s - loss: 3.6417 - triplet_acc: 0.9961 - val_loss: 12.2016 - val_triplet_acc: 0.9685\n",
      "\n",
      "Epoch 00021: val_loss did not improve\n",
      "Epoch 00021: early stopping\n"
     ]
    }
   ],
   "source": [
    "#Full network 1/32 - Embeddings 64 - Maxout\n",
    "A_val, P_val, N_val = triplets_list_val\n",
    "zeros_vect_val = np.zeros(A_val[:,1,1].shape) \n",
    "\n",
    "\n",
    "batch_sz = 32\n",
    "\n",
    "\n",
    "for num in range(1, 5):\n",
    "    model_name = 'TRIPLET-%01d.h5' % num\n",
    "    print(model_name)\n",
    "    \n",
    "    #We create a checkpoint to save the best model and add an early stopping\n",
    "    checkpoint = ModelCheckpoint(model_name, monitor='val_loss', verbose=1, save_best_only=True, mode='min')\n",
    "    early_stop = EarlyStopping(monitor='val_loss', patience =10, verbose=1, mode='min')\n",
    "    lr_annealing = ReduceLROnPlateau(monitor='val_loss', patience = 2, epsilon=0.01, factor = 0.25, min_lr = 1e-7, verbose = 1, mode='min' )\n",
    "    callbacks_list = [checkpoint, early_stop, lr_annealing]\n",
    "    \n",
    "\n",
    "    #We compile our model with the custom made triplet_loss\n",
    "    classification_model.compile(optimizer = 'adam', loss = triplet_loss, metrics =[triplet_acc])\n",
    "    \n",
    "    classification_model.fit_generator(batch_generator(X_train, Y_train, batch_sz, hardmode=False), \n",
    "                                   steps_per_epoch = 800,\n",
    "                                   epochs = 200,\n",
    "                                   verbose = 2,\n",
    "                                   validation_data = ([A_val, P_val, N_val], zeros_vect_val),\n",
    "                                   callbacks = callbacks_list,\n",
    "                                  )"
   ]
  },
  {
   "cell_type": "markdown",
   "metadata": {},
   "source": [
    "### 2.Model Selection"
   ]
  },
  {
   "cell_type": "markdown",
   "metadata": {},
   "source": [
    "We selected the model with the model with the best validation loss. We didn't use too many restart to prevent from overfitting."
   ]
  },
  {
   "cell_type": "code",
   "execution_count": 39,
   "metadata": {},
   "outputs": [
    {
     "name": "stdout",
     "output_type": "stream",
     "text": [
      "TRIPLET-1.h5 12.717052938599998 0.9715944848001137\n",
      "TRIPLET-2.h5 13.677732654768826 0.9690199668173236\n",
      "TRIPLET-3.h5 12.146969282079448 0.9671605927112535\n",
      "TRIPLET-4.h5 10.37756099128854 0.9730819840952\n"
     ]
    },
    {
     "data": {
      "text/plain": [
       "('TRIPLET-4.h5', 10.37756099128854)"
      ]
     },
     "execution_count": 39,
     "metadata": {},
     "output_type": "execute_result"
    }
   ],
   "source": [
    "global_loss=1e9\n",
    "A_val, P_val, N_val = triplets_list_val\n",
    "zeros_vect_val = np.zeros(A_val[:,1,1].shape) \n",
    "\n",
    "for weights in ['TRIPLET-1.h5','TRIPLET-2.h5','TRIPLET-3.h5','TRIPLET-4.h5']:\n",
    "    classification_model.load_weights(weights)\n",
    "    loss, acc = classification_model.evaluate([A_val, P_val, N_val], zeros_vect_val, batch_size = 32, verbose = 0)\n",
    "    print(weights, loss, acc)\n",
    "    if (loss < global_loss):\n",
    "        model_name = weights\n",
    "        global_loss = loss\n",
    "        \n",
    "classification_model.load_weights(model_name)\n",
    "model_name, global_loss"
   ]
  },
  {
   "cell_type": "markdown",
   "metadata": {},
   "source": [
    "### 3.Model Evaluation"
   ]
  },
  {
   "cell_type": "markdown",
   "metadata": {},
   "source": [
    "#### Comparison with Modified Hausdorff Distance"
   ]
  },
  {
   "cell_type": "code",
   "execution_count": 48,
   "metadata": {},
   "outputs": [],
   "source": [
    "from demo_classification import *"
   ]
  },
  {
   "cell_type": "code",
   "execution_count": 49,
   "metadata": {},
   "outputs": [],
   "source": [
    "def CNNDistance(itemA, itemB):\n",
    "    \"\"\"\n",
    "    Compute the euclidean distance between the embeddings of the two images. \n",
    "    The embeddings have been calculated by using the emb_model.\n",
    "    \n",
    "    Arguments:\n",
    "    itemA -- array of images\n",
    "    itemB -- array of images\n",
    "    \n",
    "    Returns:\n",
    "    dist - euclidean distance\n",
    "    \"\"\"\n",
    "    \n",
    "    itemA = itemA.reshape(1, itemA.shape[0], itemA.shape[1], 1)\n",
    "    itemB = itemB.reshape(1, itemB.shape[0], itemB.shape[1], 1)\n",
    "    itemA_emb = emb_model.predict_on_batch(itemA)\n",
    "    itemB_emb = emb_model.predict_on_batch(itemB)\n",
    "    dist = np.linalg.norm(itemA_emb - itemB_emb) #2-norm by default\n",
    "    return dist"
   ]
  },
  {
   "cell_type": "code",
   "execution_count": 50,
   "metadata": {},
   "outputs": [],
   "source": [
    "def LoadImgAsArray(fn):\n",
    "    \"\"\"\n",
    "    Load an image file, resize it and return an array\n",
    "    \n",
    "    Arguments:\n",
    "    fn -- an image\n",
    "    \n",
    "    Returns:\n",
    "    image -- an array of image \n",
    "    \"\"\"\n",
    "    picture = mpimg.imread(fn)\n",
    "    image = resize(picture, (SZ,SZ), mode='edge')\n",
    "    return image"
   ]
  },
  {
   "cell_type": "markdown",
   "metadata": {},
   "source": [
    "We then calculate the error rate by comparing ModHausdhorff Distance with our Embeddings triplet loss Distance"
   ]
  },
  {
   "cell_type": "code",
   "execution_count": 51,
   "metadata": {
    "scrolled": true
   },
   "outputs": [
    {
     "name": "stdout",
     "output_type": "stream",
     "text": [
      "One-shot classification with Modified Hausdorff Distance versus embeddings triplet loss Distance\n",
      " run 1 ModHausdorffDistance(error 45.0%)  -  Embeddings_triplet_loss_Distance (error 5.0%)\n",
      " run 2 ModHausdorffDistance(error 35.0%)  -  Embeddings_triplet_loss_Distance (error 5.0%)\n",
      " run 3 ModHausdorffDistance(error 40.0%)  -  Embeddings_triplet_loss_Distance (error 0.0%)\n",
      " run 4 ModHausdorffDistance(error 25.0%)  -  Embeddings_triplet_loss_Distance (error 15.0%)\n",
      " run 5 ModHausdorffDistance(error 30.0%)  -  Embeddings_triplet_loss_Distance (error 15.0%)\n",
      " run 6 ModHausdorffDistance(error 15.0%)  -  Embeddings_triplet_loss_Distance (error 5.0%)\n",
      " run 7 ModHausdorffDistance(error 60.0%)  -  Embeddings_triplet_loss_Distance (error 0.0%)\n",
      " run 8 ModHausdorffDistance(error 35.0%)  -  Embeddings_triplet_loss_Distance (error 20.0%)\n",
      " run 9 ModHausdorffDistance(error 40.0%)  -  Embeddings_triplet_loss_Distance (error 0.0%)\n",
      " run 10 ModHausdorffDistance(error 55.0%)  -  Embeddings_triplet_loss_Distance (error 15.0%)\n",
      " run 11 ModHausdorffDistance(error 15.0%)  -  Embeddings_triplet_loss_Distance (error 10.0%)\n",
      " run 12 ModHausdorffDistance(error 70.0%)  -  Embeddings_triplet_loss_Distance (error 5.0%)\n",
      " run 13 ModHausdorffDistance(error 65.0%)  -  Embeddings_triplet_loss_Distance (error 15.0%)\n",
      " run 14 ModHausdorffDistance(error 35.0%)  -  Embeddings_triplet_loss_Distance (error 0.0%)\n",
      " run 15 ModHausdorffDistance(error 15.0%)  -  Embeddings_triplet_loss_Distance (error 0.0%)\n",
      " run 16 ModHausdorffDistance(error 25.0%)  -  Embeddings_triplet_loss_Distance (error 0.0%)\n",
      " run 17 ModHausdorffDistance(error 30.0%)  -  Embeddings_triplet_loss_Distance (error 20.0%)\n",
      " run 18 ModHausdorffDistance(error 40.0%)  -  Embeddings_triplet_loss_Distance (error 5.0%)\n",
      " run 19 ModHausdorffDistance(error 70.0%)  -  Embeddings_triplet_loss_Distance (error 15.0%)\n",
      " run 20 ModHausdorffDistance(error 30.0%)  -  Embeddings_triplet_loss_Distance (error 10.0%)\n",
      " average error ModHausdorffDistance 38.75%  average error Embeddings_triplet_loss_Distance 8.0%\n"
     ]
    }
   ],
   "source": [
    "#tanh32-4\n",
    "print ('One-shot classification with Modified Hausdorff Distance versus embeddings triplet loss Distance')\n",
    "perror = np.zeros(nrun)\n",
    "perror_cnn = np.zeros(nrun)\n",
    "for r in range(1,nrun+1):\n",
    "\trs = str(r)\n",
    "\tif len(rs) == 1:\n",
    "\t\trs = '0' + rs\t\t\n",
    "\tperror[r-1] = classification_run('one-shot-classification','/run'+rs, LoadImgAsPoints, ModHausdorffDistance, 'cost')\n",
    "\tperror_cnn[r-1] = classification_run('one-shot-classification','run'+rs, LoadImgAsArray, CNNDistance, 'cost')\n",
    "\tprint (\" run \" + str(r) + \" ModHausdorffDistance\" + \"(error \" + str(\tperror[r-1] ) + \"%)\"+ \"  -  Embeddings_triplet_loss_Distance\" + \" (error \" + str(\tperror_cnn[r-1] ) + \"%)\")\t\t\n",
    "total = np.mean(perror)\n",
    "total_cnn = np.mean(perror_cnn)\n",
    "print (\" average error ModHausdorffDistance \" + str(total) + \"%\" + \"  average error Embeddings_triplet_loss_Distance \" + str(total_cnn) + \"%\")"
   ]
  },
  {
   "attachments": {
    "image.png": {
     "image/png": "[encoded data removed]"
    }
   },
   "cell_type": "markdown",
   "metadata": {},
   "source": [
    "We managed to get a global error of 8% on a 20-way classification.\n",
    "If we compare our results with the one from the 'One-shot learning by inverting a compositional causal\n",
    "process'(https://cims.nyu.edu/~brenden/LakeEtAlNips2013.pdf). \n",
    "We observe that humans have an error rate of 4.5% on this dataset which should be closed to the Bayes error rate.\n",
    "![image.png](attachment:image.png)\n",
    "Hierarchial Bayesian Program Learning (HBPL), managed to have an overall error rate of 4.8% which is really impressive. Therefore the model used in the HBPL also takes in account of the order of strokes in the images which definitely helps to get better results."
   ]
  },
  {
   "cell_type": "markdown",
   "metadata": {},
   "source": [
    "If we want to compare our model, with another one using only pixels, another paper called 'Siamese Neural Networks for One-shot Image Recognition' (http://www.cs.cmu.edu/~rsalakhu/papers/oneshot1.pdf) used Siamese network to do one-shot learning on the Omniglot Dataset.\n",
    "They managed to get an overall error rate of 8% for 20-way classification as ours.\n",
    "Yet, I believe their is still room for improvement for our model by using some of the following paths :\n",
    "- Increase the duration of the training as we are only using a patience of 2 before decreasing our learning rate.\n",
    "- Using Bayesian optimization to find a better set of hyperparameters\n",
    "- Using an learning rate finder to find a better value when we restart our SGD.\n",
    "- Select a better validation set. A more accurate validation set can be that instead of choosing whole alphabets, we could choose various characters from all the alphabets to keep in the validation set.\n",
    "- Ensembling several models to reduce overfitting.\n"
   ]
  },
  {
   "cell_type": "code",
   "execution_count": null,
   "metadata": {},
   "outputs": [],
   "source": []
  }
 ],
 "metadata": {
  "kernelspec": {
   "display_name": "Python 3",
   "language": "python",
   "name": "python3"
  },
  "language_info": {
   "codemirror_mode": {
    "name": "ipython",
    "version": 3
   },
   "file_extension": ".py",
   "mimetype": "text/x-python",
   "name": "python",
   "nbconvert_exporter": "python",
   "pygments_lexer": "ipython3",
   "version": "3.6.3"
  }
 },
 "nbformat": 4,
 "nbformat_minor": 2
}
