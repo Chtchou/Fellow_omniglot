{
 "cells": [
  {
   "cell_type": "markdown",
   "metadata": {},
   "source": [
    "# Omniplot - Fellowship.ai"
   ]
  },
  {
   "cell_type": "markdown",
   "metadata": {},
   "source": [
    "### TCHOU Christian"
   ]
  },
  {
   "cell_type": "markdown",
   "metadata": {},
   "source": [
    "## Main Goal"
   ]
  },
  {
   "cell_type": "markdown",
   "metadata": {},
   "source": [
    "### Import main libraries"
   ]
  },
  {
   "cell_type": "markdown",
   "metadata": {},
   "source": [
    "We import all useful libraries"
   ]
  },
  {
   "cell_type": "code",
   "execution_count": 1,
   "metadata": {},
   "outputs": [
    {
     "name": "stderr",
     "output_type": "stream",
     "text": [
      "C:\\Users\\Xyrion\\Anaconda3\\envs\\fastai\\lib\\site-packages\\h5py\\__init__.py:36: FutureWarning: Conversion of the second argument of issubdtype from `float` to `np.floating` is deprecated. In future, it will be treated as `np.float64 == np.dtype(float).type`.\n",
      "  from ._conv import register_converters as _register_converters\n",
      "Using TensorFlow backend.\n"
     ]
    }
   ],
   "source": [
    "import os,sys\n",
    "from __future__ import print_function\n",
    "from DataGenerator import DataGenerator\n",
    "\n",
    "import tensorflow as tf\n",
    "import numpy as np\n",
    "from keras.models import Sequential, Model, load_model\n",
    "from keras.layers import Input, Dense, Activation, ZeroPadding2D, BatchNormalization, Flatten, Conv2D, concatenate\n",
    "from keras.layers import AveragePooling2D, MaxPooling2D, Dropout, GlobalMaxPooling2D, GlobalAveragePooling2D, Lambda\n",
    "from keras.layers.core import Dense, Activation\n",
    "from keras.optimizers import SGD, Adam\n",
    "from keras.utils import np_utils\n",
    "from keras.preprocessing.image import ImageDataGenerator\n",
    "from keras import backend as K\n",
    "from keras.callbacks import ModelCheckpoint\n",
    "from keras import regularizers\n",
    "\n",
    "from sklearn.model_selection import train_test_split\n",
    "\n",
    "from PIL import Image                                                            \n",
    "import numpy                                                                     \n",
    "import matplotlib.pyplot as plt\n",
    "import matplotlib.image as mpimg\n",
    "import glob\n",
    "import cv2\n",
    "from skimage.transform import resize\n",
    "import h5py\n",
    "\n",
    "\n",
    "%matplotlib inline\n",
    "%load_ext autoreload\n",
    "%autoreload 2"
   ]
  },
  {
   "cell_type": "markdown",
   "metadata": {},
   "source": [
    "### Hyperparameters"
   ]
  },
  {
   "cell_type": "markdown",
   "metadata": {},
   "source": [
    "We set the main hyperparameters and settings of our notebook"
   ]
  },
  {
   "cell_type": "code",
   "execution_count": 2,
   "metadata": {},
   "outputs": [],
   "source": [
    "np.random.seed(1671)  # for reproducibility\n",
    "\n",
    "# network and training\n",
    "NB_EPOCH = 5\n",
    "BATCH_SZ = 1024\n",
    "#NB_CLASSES = 10   # number of outputs = number of digits\n",
    "OPTIMIZER = SGD() # SGD optimizer, explained later in this chapter\n",
    "VALIDATION_SPLIT=0.2 # how much TRAIN is reserved for VALIDATION\n",
    "SZ= 64 #image target size"
   ]
  },
  {
   "cell_type": "markdown",
   "metadata": {},
   "source": [
    "### PATH"
   ]
  },
  {
   "cell_type": "markdown",
   "metadata": {},
   "source": [
    "We indicate the PATH where we can find all our training examples."
   ]
  },
  {
   "cell_type": "code",
   "execution_count": 3,
   "metadata": {},
   "outputs": [],
   "source": [
    "##Add path\n",
    "PATH=\"images_background/\""
   ]
  },
  {
   "cell_type": "markdown",
   "metadata": {},
   "source": [
    "### Data Analysis"
   ]
  },
  {
   "cell_type": "markdown",
   "metadata": {},
   "source": [
    "We obtain a list of all alphabets contained in the training set, and the total number of alphabets."
   ]
  },
  {
   "cell_type": "code",
   "execution_count": 4,
   "metadata": {
    "scrolled": true
   },
   "outputs": [
    {
     "name": "stdout",
     "output_type": "stream",
     "text": [
      "List of the different alphabets:\n",
      "\n",
      " ['Alphabet_of_the_Magi' 'Anglo-Saxon_Futhorc' 'Arcadian' 'Armenian'\n",
      " 'Asomtavruli_(Georgian)' 'Balinese' 'Bengali'\n",
      " 'Blackfoot_(Canadian_Aboriginal_Syllabics)' 'Braille' 'Burmese_(Myanmar)'\n",
      " 'Cyrillic' 'Early_Aramaic' 'Futurama' 'Grantha' 'Greek' 'Gujarati'\n",
      " 'Hebrew' 'Inuktitut_(Canadian_Aboriginal_Syllabics)'\n",
      " 'Japanese_(hiragana)' 'Japanese_(katakana)' 'Korean' 'Latin'\n",
      " 'Malay_(Jawi_-_Arabic)' 'Mkhedruli_(Georgian)' 'N_Ko'\n",
      " 'Ojibwe_(Canadian_Aboriginal_Syllabics)' 'Sanskrit' 'Syriac_(Estrangelo)'\n",
      " 'Tagalog' 'Tifinagh']\n",
      "\n",
      "Number of different alphabets: 30\n"
     ]
    }
   ],
   "source": [
    "alph_type = np.array(os.listdir(PATH)) #Give the different types of alphabet in our data\n",
    "print(\"List of the different alphabets:\\n\\n {}\".format(alph_type))\n",
    "print(\"\\nNumber of different alphabets: {}\".format(len(alph_type)))"
   ]
  },
  {
   "cell_type": "code",
   "execution_count": 5,
   "metadata": {
    "scrolled": false
   },
   "outputs": [
    {
     "name": "stdout",
     "output_type": "stream",
     "text": [
      "The number of chracters corresponding to each alphabet is : \n",
      "{'Alphabet_of_the_Magi': 20, 'Anglo-Saxon_Futhorc': 29, 'Arcadian': 26, 'Armenian': 41, 'Asomtavruli_(Georgian)': 40, 'Balinese': 24, 'Bengali': 46, 'Blackfoot_(Canadian_Aboriginal_Syllabics)': 14, 'Braille': 26, 'Burmese_(Myanmar)': 34, 'Cyrillic': 33, 'Early_Aramaic': 22, 'Futurama': 26, 'Grantha': 43, 'Greek': 24, 'Gujarati': 48, 'Hebrew': 22, 'Inuktitut_(Canadian_Aboriginal_Syllabics)': 16, 'Japanese_(hiragana)': 52, 'Japanese_(katakana)': 47, 'Korean': 40, 'Latin': 26, 'Malay_(Jawi_-_Arabic)': 40, 'Mkhedruli_(Georgian)': 41, 'N_Ko': 33, 'Ojibwe_(Canadian_Aboriginal_Syllabics)': 14, 'Sanskrit': 42, 'Syriac_(Estrangelo)': 23, 'Tagalog': 17, 'Tifinagh': 55}\n",
      "\n",
      "The maximum number of different character for one alphabet is 55\n",
      "The minimum number of different character for one alphabet is 14\n",
      "The total number of different character is 964\n"
     ]
    }
   ],
   "source": [
    "alph_num_char ={}\n",
    "for alphabet in alph_type:\n",
    "    alph_num_char[alphabet]= len(os.listdir(f'{PATH}{alphabet}'))\n",
    "print(\"The number of chracters corresponding to each alphabet is : \\n{}\".format(alph_num_char))\n",
    "\n",
    "num_of_char = alph_num_char.values()\n",
    "print('\\nThe maximum number of different character for one alphabet is {}'.format(max(num_of_char)))\n",
    "print('The minimum number of different character for one alphabet is {}'.format(min(num_of_char)))\n",
    "print('The total number of different character is {}'.format(sum(num_of_char)))\n",
    "\n"
   ]
  },
  {
   "cell_type": "code",
   "execution_count": 6,
   "metadata": {
    "scrolled": true
   },
   "outputs": [
    {
     "name": "stdout",
     "output_type": "stream",
     "text": [
      "The maximum number of different examples for one character is 20\n",
      "The minimum number of different examples for one character is 20\n",
      "The total number of different pictures is 19280\n"
     ]
    }
   ],
   "source": [
    "alph_num_char_ex={}\n",
    "class_num=0\n",
    "for alphabet in alph_type:\n",
    "    char_list=os.listdir(f'{PATH}{alphabet}')\n",
    "    for char in char_list:\n",
    "        alph_num_char_ex[(alphabet,char)]= len(os.listdir(f'{PATH}{alphabet}/{char}'))\n",
    "\n",
    "num_of_example = alph_num_char_ex.values()\n",
    "print('The maximum number of different examples for one character is {}'.format(max(num_of_example)))\n",
    "print('The minimum number of different examples for one character is {}'.format(min(num_of_example)))\n",
    "print('The total number of different pictures is {}'.format(sum(num_of_example)))"
   ]
  },
  {
   "cell_type": "markdown",
   "metadata": {},
   "source": [
    "We can observe that each character have 20 examples(pictures)."
   ]
  },
  {
   "cell_type": "markdown",
   "metadata": {},
   "source": [
    "### Add label for each character\n"
   ]
  },
  {
   "cell_type": "markdown",
   "metadata": {},
   "source": [
    "For each picture in our dataset we give a corresponding label(here an integer) which allow us to determine the corresponding character. Here an integer is sufficient as we are not really interested in knowing from which alphabet an image is coming from and as we don't have any clues have the character name."
   ]
  },
  {
   "cell_type": "code",
   "execution_count": 7,
   "metadata": {},
   "outputs": [
    {
     "name": "stdout",
     "output_type": "stream",
     "text": [
      "(19280,)\n"
     ]
    }
   ],
   "source": [
    "class_char=np.array([])\n",
    "for i in range(sum(num_of_char)):\n",
    "    class_char= np.concatenate((class_char, np.ones(20)*(i+1)))\n",
    "class_char = class_char.astype(int)\n",
    "print(class_char.shape)\n"
   ]
  },
  {
   "cell_type": "markdown",
   "metadata": {},
   "source": [
    "We reshape, our data to have the number of channel including (here is 1)."
   ]
  },
  {
   "cell_type": "code",
   "execution_count": 8,
   "metadata": {},
   "outputs": [
    {
     "name": "stdout",
     "output_type": "stream",
     "text": [
      "(19280, 1)\n"
     ]
    }
   ],
   "source": [
    "class_char=class_char.reshape(class_char.shape[0],1)\n",
    "print(class_char.shape)"
   ]
  },
  {
   "cell_type": "markdown",
   "metadata": {},
   "source": [
    "### Convert images to datafile"
   ]
  },
  {
   "cell_type": "markdown",
   "metadata": {},
   "source": [
    "We first retrieve the path for each picture in the dataset."
   ]
  },
  {
   "cell_type": "code",
   "execution_count": 9,
   "metadata": {},
   "outputs": [
    {
     "data": {
      "text/plain": [
       "['images_background\\\\Alphabet_of_the_Magi\\\\character01\\\\0709_01.png',\n",
       " 'images_background\\\\Alphabet_of_the_Magi\\\\character01\\\\0709_02.png',\n",
       " 'images_background\\\\Alphabet_of_the_Magi\\\\character01\\\\0709_03.png',\n",
       " 'images_background\\\\Alphabet_of_the_Magi\\\\character01\\\\0709_04.png',\n",
       " 'images_background\\\\Alphabet_of_the_Magi\\\\character01\\\\0709_05.png',\n",
       " 'images_background\\\\Alphabet_of_the_Magi\\\\character01\\\\0709_06.png',\n",
       " 'images_background\\\\Alphabet_of_the_Magi\\\\character01\\\\0709_07.png',\n",
       " 'images_background\\\\Alphabet_of_the_Magi\\\\character01\\\\0709_08.png',\n",
       " 'images_background\\\\Alphabet_of_the_Magi\\\\character01\\\\0709_09.png',\n",
       " 'images_background\\\\Alphabet_of_the_Magi\\\\character01\\\\0709_10.png',\n",
       " 'images_background\\\\Alphabet_of_the_Magi\\\\character01\\\\0709_11.png',\n",
       " 'images_background\\\\Alphabet_of_the_Magi\\\\character01\\\\0709_12.png',\n",
       " 'images_background\\\\Alphabet_of_the_Magi\\\\character01\\\\0709_13.png',\n",
       " 'images_background\\\\Alphabet_of_the_Magi\\\\character01\\\\0709_14.png',\n",
       " 'images_background\\\\Alphabet_of_the_Magi\\\\character01\\\\0709_15.png',\n",
       " 'images_background\\\\Alphabet_of_the_Magi\\\\character01\\\\0709_16.png',\n",
       " 'images_background\\\\Alphabet_of_the_Magi\\\\character01\\\\0709_17.png',\n",
       " 'images_background\\\\Alphabet_of_the_Magi\\\\character01\\\\0709_18.png',\n",
       " 'images_background\\\\Alphabet_of_the_Magi\\\\character01\\\\0709_19.png',\n",
       " 'images_background\\\\Alphabet_of_the_Magi\\\\character01\\\\0709_20.png',\n",
       " 'images_background\\\\Alphabet_of_the_Magi\\\\character02\\\\0710_01.png',\n",
       " 'images_background\\\\Alphabet_of_the_Magi\\\\character02\\\\0710_02.png',\n",
       " 'images_background\\\\Alphabet_of_the_Magi\\\\character02\\\\0710_03.png',\n",
       " 'images_background\\\\Alphabet_of_the_Magi\\\\character02\\\\0710_04.png',\n",
       " 'images_background\\\\Alphabet_of_the_Magi\\\\character02\\\\0710_05.png',\n",
       " 'images_background\\\\Alphabet_of_the_Magi\\\\character02\\\\0710_06.png',\n",
       " 'images_background\\\\Alphabet_of_the_Magi\\\\character02\\\\0710_07.png',\n",
       " 'images_background\\\\Alphabet_of_the_Magi\\\\character02\\\\0710_08.png',\n",
       " 'images_background\\\\Alphabet_of_the_Magi\\\\character02\\\\0710_09.png',\n",
       " 'images_background\\\\Alphabet_of_the_Magi\\\\character02\\\\0710_10.png',\n",
       " 'images_background\\\\Alphabet_of_the_Magi\\\\character02\\\\0710_11.png',\n",
       " 'images_background\\\\Alphabet_of_the_Magi\\\\character02\\\\0710_12.png',\n",
       " 'images_background\\\\Alphabet_of_the_Magi\\\\character02\\\\0710_13.png',\n",
       " 'images_background\\\\Alphabet_of_the_Magi\\\\character02\\\\0710_14.png',\n",
       " 'images_background\\\\Alphabet_of_the_Magi\\\\character02\\\\0710_15.png',\n",
       " 'images_background\\\\Alphabet_of_the_Magi\\\\character02\\\\0710_16.png',\n",
       " 'images_background\\\\Alphabet_of_the_Magi\\\\character02\\\\0710_17.png',\n",
       " 'images_background\\\\Alphabet_of_the_Magi\\\\character02\\\\0710_18.png',\n",
       " 'images_background\\\\Alphabet_of_the_Magi\\\\character02\\\\0710_19.png',\n",
       " 'images_background\\\\Alphabet_of_the_Magi\\\\character02\\\\0710_20.png',\n",
       " 'images_background\\\\Alphabet_of_the_Magi\\\\character03\\\\0711_01.png',\n",
       " 'images_background\\\\Alphabet_of_the_Magi\\\\character03\\\\0711_02.png',\n",
       " 'images_background\\\\Alphabet_of_the_Magi\\\\character03\\\\0711_03.png',\n",
       " 'images_background\\\\Alphabet_of_the_Magi\\\\character03\\\\0711_04.png',\n",
       " 'images_background\\\\Alphabet_of_the_Magi\\\\character03\\\\0711_05.png',\n",
       " 'images_background\\\\Alphabet_of_the_Magi\\\\character03\\\\0711_06.png',\n",
       " 'images_background\\\\Alphabet_of_the_Magi\\\\character03\\\\0711_07.png',\n",
       " 'images_background\\\\Alphabet_of_the_Magi\\\\character03\\\\0711_08.png',\n",
       " 'images_background\\\\Alphabet_of_the_Magi\\\\character03\\\\0711_09.png',\n",
       " 'images_background\\\\Alphabet_of_the_Magi\\\\character03\\\\0711_10.png',\n",
       " 'images_background\\\\Alphabet_of_the_Magi\\\\character03\\\\0711_11.png',\n",
       " 'images_background\\\\Alphabet_of_the_Magi\\\\character03\\\\0711_12.png',\n",
       " 'images_background\\\\Alphabet_of_the_Magi\\\\character03\\\\0711_13.png',\n",
       " 'images_background\\\\Alphabet_of_the_Magi\\\\character03\\\\0711_14.png',\n",
       " 'images_background\\\\Alphabet_of_the_Magi\\\\character03\\\\0711_15.png',\n",
       " 'images_background\\\\Alphabet_of_the_Magi\\\\character03\\\\0711_16.png',\n",
       " 'images_background\\\\Alphabet_of_the_Magi\\\\character03\\\\0711_17.png',\n",
       " 'images_background\\\\Alphabet_of_the_Magi\\\\character03\\\\0711_18.png',\n",
       " 'images_background\\\\Alphabet_of_the_Magi\\\\character03\\\\0711_19.png',\n",
       " 'images_background\\\\Alphabet_of_the_Magi\\\\character03\\\\0711_20.png',\n",
       " 'images_background\\\\Alphabet_of_the_Magi\\\\character04\\\\0712_01.png',\n",
       " 'images_background\\\\Alphabet_of_the_Magi\\\\character04\\\\0712_02.png',\n",
       " 'images_background\\\\Alphabet_of_the_Magi\\\\character04\\\\0712_03.png',\n",
       " 'images_background\\\\Alphabet_of_the_Magi\\\\character04\\\\0712_04.png',\n",
       " 'images_background\\\\Alphabet_of_the_Magi\\\\character04\\\\0712_05.png',\n",
       " 'images_background\\\\Alphabet_of_the_Magi\\\\character04\\\\0712_06.png',\n",
       " 'images_background\\\\Alphabet_of_the_Magi\\\\character04\\\\0712_07.png',\n",
       " 'images_background\\\\Alphabet_of_the_Magi\\\\character04\\\\0712_08.png',\n",
       " 'images_background\\\\Alphabet_of_the_Magi\\\\character04\\\\0712_09.png',\n",
       " 'images_background\\\\Alphabet_of_the_Magi\\\\character04\\\\0712_10.png',\n",
       " 'images_background\\\\Alphabet_of_the_Magi\\\\character04\\\\0712_11.png',\n",
       " 'images_background\\\\Alphabet_of_the_Magi\\\\character04\\\\0712_12.png',\n",
       " 'images_background\\\\Alphabet_of_the_Magi\\\\character04\\\\0712_13.png',\n",
       " 'images_background\\\\Alphabet_of_the_Magi\\\\character04\\\\0712_14.png',\n",
       " 'images_background\\\\Alphabet_of_the_Magi\\\\character04\\\\0712_15.png',\n",
       " 'images_background\\\\Alphabet_of_the_Magi\\\\character04\\\\0712_16.png',\n",
       " 'images_background\\\\Alphabet_of_the_Magi\\\\character04\\\\0712_17.png',\n",
       " 'images_background\\\\Alphabet_of_the_Magi\\\\character04\\\\0712_18.png',\n",
       " 'images_background\\\\Alphabet_of_the_Magi\\\\character04\\\\0712_19.png',\n",
       " 'images_background\\\\Alphabet_of_the_Magi\\\\character04\\\\0712_20.png',\n",
       " 'images_background\\\\Alphabet_of_the_Magi\\\\character05\\\\0713_01.png',\n",
       " 'images_background\\\\Alphabet_of_the_Magi\\\\character05\\\\0713_02.png',\n",
       " 'images_background\\\\Alphabet_of_the_Magi\\\\character05\\\\0713_03.png',\n",
       " 'images_background\\\\Alphabet_of_the_Magi\\\\character05\\\\0713_04.png',\n",
       " 'images_background\\\\Alphabet_of_the_Magi\\\\character05\\\\0713_05.png',\n",
       " 'images_background\\\\Alphabet_of_the_Magi\\\\character05\\\\0713_06.png',\n",
       " 'images_background\\\\Alphabet_of_the_Magi\\\\character05\\\\0713_07.png',\n",
       " 'images_background\\\\Alphabet_of_the_Magi\\\\character05\\\\0713_08.png',\n",
       " 'images_background\\\\Alphabet_of_the_Magi\\\\character05\\\\0713_09.png',\n",
       " 'images_background\\\\Alphabet_of_the_Magi\\\\character05\\\\0713_10.png',\n",
       " 'images_background\\\\Alphabet_of_the_Magi\\\\character05\\\\0713_11.png',\n",
       " 'images_background\\\\Alphabet_of_the_Magi\\\\character05\\\\0713_12.png',\n",
       " 'images_background\\\\Alphabet_of_the_Magi\\\\character05\\\\0713_13.png',\n",
       " 'images_background\\\\Alphabet_of_the_Magi\\\\character05\\\\0713_14.png',\n",
       " 'images_background\\\\Alphabet_of_the_Magi\\\\character05\\\\0713_15.png',\n",
       " 'images_background\\\\Alphabet_of_the_Magi\\\\character05\\\\0713_16.png',\n",
       " 'images_background\\\\Alphabet_of_the_Magi\\\\character05\\\\0713_17.png',\n",
       " 'images_background\\\\Alphabet_of_the_Magi\\\\character05\\\\0713_18.png',\n",
       " 'images_background\\\\Alphabet_of_the_Magi\\\\character05\\\\0713_19.png',\n",
       " 'images_background\\\\Alphabet_of_the_Magi\\\\character05\\\\0713_20.png',\n",
       " 'images_background\\\\Alphabet_of_the_Magi\\\\character06\\\\0714_01.png',\n",
       " 'images_background\\\\Alphabet_of_the_Magi\\\\character06\\\\0714_02.png',\n",
       " 'images_background\\\\Alphabet_of_the_Magi\\\\character06\\\\0714_03.png',\n",
       " 'images_background\\\\Alphabet_of_the_Magi\\\\character06\\\\0714_04.png',\n",
       " 'images_background\\\\Alphabet_of_the_Magi\\\\character06\\\\0714_05.png',\n",
       " 'images_background\\\\Alphabet_of_the_Magi\\\\character06\\\\0714_06.png',\n",
       " 'images_background\\\\Alphabet_of_the_Magi\\\\character06\\\\0714_07.png',\n",
       " 'images_background\\\\Alphabet_of_the_Magi\\\\character06\\\\0714_08.png',\n",
       " 'images_background\\\\Alphabet_of_the_Magi\\\\character06\\\\0714_09.png',\n",
       " 'images_background\\\\Alphabet_of_the_Magi\\\\character06\\\\0714_10.png',\n",
       " 'images_background\\\\Alphabet_of_the_Magi\\\\character06\\\\0714_11.png',\n",
       " 'images_background\\\\Alphabet_of_the_Magi\\\\character06\\\\0714_12.png',\n",
       " 'images_background\\\\Alphabet_of_the_Magi\\\\character06\\\\0714_13.png',\n",
       " 'images_background\\\\Alphabet_of_the_Magi\\\\character06\\\\0714_14.png',\n",
       " 'images_background\\\\Alphabet_of_the_Magi\\\\character06\\\\0714_15.png',\n",
       " 'images_background\\\\Alphabet_of_the_Magi\\\\character06\\\\0714_16.png',\n",
       " 'images_background\\\\Alphabet_of_the_Magi\\\\character06\\\\0714_17.png',\n",
       " 'images_background\\\\Alphabet_of_the_Magi\\\\character06\\\\0714_18.png',\n",
       " 'images_background\\\\Alphabet_of_the_Magi\\\\character06\\\\0714_19.png',\n",
       " 'images_background\\\\Alphabet_of_the_Magi\\\\character06\\\\0714_20.png',\n",
       " 'images_background\\\\Alphabet_of_the_Magi\\\\character07\\\\0715_01.png',\n",
       " 'images_background\\\\Alphabet_of_the_Magi\\\\character07\\\\0715_02.png',\n",
       " 'images_background\\\\Alphabet_of_the_Magi\\\\character07\\\\0715_03.png',\n",
       " 'images_background\\\\Alphabet_of_the_Magi\\\\character07\\\\0715_04.png',\n",
       " 'images_background\\\\Alphabet_of_the_Magi\\\\character07\\\\0715_05.png',\n",
       " 'images_background\\\\Alphabet_of_the_Magi\\\\character07\\\\0715_06.png',\n",
       " 'images_background\\\\Alphabet_of_the_Magi\\\\character07\\\\0715_07.png',\n",
       " 'images_background\\\\Alphabet_of_the_Magi\\\\character07\\\\0715_08.png',\n",
       " 'images_background\\\\Alphabet_of_the_Magi\\\\character07\\\\0715_09.png',\n",
       " 'images_background\\\\Alphabet_of_the_Magi\\\\character07\\\\0715_10.png',\n",
       " 'images_background\\\\Alphabet_of_the_Magi\\\\character07\\\\0715_11.png',\n",
       " 'images_background\\\\Alphabet_of_the_Magi\\\\character07\\\\0715_12.png',\n",
       " 'images_background\\\\Alphabet_of_the_Magi\\\\character07\\\\0715_13.png',\n",
       " 'images_background\\\\Alphabet_of_the_Magi\\\\character07\\\\0715_14.png',\n",
       " 'images_background\\\\Alphabet_of_the_Magi\\\\character07\\\\0715_15.png',\n",
       " 'images_background\\\\Alphabet_of_the_Magi\\\\character07\\\\0715_16.png',\n",
       " 'images_background\\\\Alphabet_of_the_Magi\\\\character07\\\\0715_17.png',\n",
       " 'images_background\\\\Alphabet_of_the_Magi\\\\character07\\\\0715_18.png',\n",
       " 'images_background\\\\Alphabet_of_the_Magi\\\\character07\\\\0715_19.png',\n",
       " 'images_background\\\\Alphabet_of_the_Magi\\\\character07\\\\0715_20.png',\n",
       " 'images_background\\\\Alphabet_of_the_Magi\\\\character08\\\\0716_01.png',\n",
       " 'images_background\\\\Alphabet_of_the_Magi\\\\character08\\\\0716_02.png',\n",
       " 'images_background\\\\Alphabet_of_the_Magi\\\\character08\\\\0716_03.png',\n",
       " 'images_background\\\\Alphabet_of_the_Magi\\\\character08\\\\0716_04.png',\n",
       " 'images_background\\\\Alphabet_of_the_Magi\\\\character08\\\\0716_05.png',\n",
       " 'images_background\\\\Alphabet_of_the_Magi\\\\character08\\\\0716_06.png',\n",
       " 'images_background\\\\Alphabet_of_the_Magi\\\\character08\\\\0716_07.png',\n",
       " 'images_background\\\\Alphabet_of_the_Magi\\\\character08\\\\0716_08.png',\n",
       " 'images_background\\\\Alphabet_of_the_Magi\\\\character08\\\\0716_09.png',\n",
       " 'images_background\\\\Alphabet_of_the_Magi\\\\character08\\\\0716_10.png',\n",
       " 'images_background\\\\Alphabet_of_the_Magi\\\\character08\\\\0716_11.png',\n",
       " 'images_background\\\\Alphabet_of_the_Magi\\\\character08\\\\0716_12.png',\n",
       " 'images_background\\\\Alphabet_of_the_Magi\\\\character08\\\\0716_13.png',\n",
       " 'images_background\\\\Alphabet_of_the_Magi\\\\character08\\\\0716_14.png',\n",
       " 'images_background\\\\Alphabet_of_the_Magi\\\\character08\\\\0716_15.png',\n",
       " 'images_background\\\\Alphabet_of_the_Magi\\\\character08\\\\0716_16.png',\n",
       " 'images_background\\\\Alphabet_of_the_Magi\\\\character08\\\\0716_17.png',\n",
       " 'images_background\\\\Alphabet_of_the_Magi\\\\character08\\\\0716_18.png',\n",
       " 'images_background\\\\Alphabet_of_the_Magi\\\\character08\\\\0716_19.png',\n",
       " 'images_background\\\\Alphabet_of_the_Magi\\\\character08\\\\0716_20.png',\n",
       " 'images_background\\\\Alphabet_of_the_Magi\\\\character09\\\\0717_01.png',\n",
       " 'images_background\\\\Alphabet_of_the_Magi\\\\character09\\\\0717_02.png',\n",
       " 'images_background\\\\Alphabet_of_the_Magi\\\\character09\\\\0717_03.png',\n",
       " 'images_background\\\\Alphabet_of_the_Magi\\\\character09\\\\0717_04.png',\n",
       " 'images_background\\\\Alphabet_of_the_Magi\\\\character09\\\\0717_05.png',\n",
       " 'images_background\\\\Alphabet_of_the_Magi\\\\character09\\\\0717_06.png',\n",
       " 'images_background\\\\Alphabet_of_the_Magi\\\\character09\\\\0717_07.png',\n",
       " 'images_background\\\\Alphabet_of_the_Magi\\\\character09\\\\0717_08.png',\n",
       " 'images_background\\\\Alphabet_of_the_Magi\\\\character09\\\\0717_09.png',\n",
       " 'images_background\\\\Alphabet_of_the_Magi\\\\character09\\\\0717_10.png',\n",
       " 'images_background\\\\Alphabet_of_the_Magi\\\\character09\\\\0717_11.png',\n",
       " 'images_background\\\\Alphabet_of_the_Magi\\\\character09\\\\0717_12.png',\n",
       " 'images_background\\\\Alphabet_of_the_Magi\\\\character09\\\\0717_13.png',\n",
       " 'images_background\\\\Alphabet_of_the_Magi\\\\character09\\\\0717_14.png',\n",
       " 'images_background\\\\Alphabet_of_the_Magi\\\\character09\\\\0717_15.png',\n",
       " 'images_background\\\\Alphabet_of_the_Magi\\\\character09\\\\0717_16.png',\n",
       " 'images_background\\\\Alphabet_of_the_Magi\\\\character09\\\\0717_17.png',\n",
       " 'images_background\\\\Alphabet_of_the_Magi\\\\character09\\\\0717_18.png',\n",
       " 'images_background\\\\Alphabet_of_the_Magi\\\\character09\\\\0717_19.png',\n",
       " 'images_background\\\\Alphabet_of_the_Magi\\\\character09\\\\0717_20.png',\n",
       " 'images_background\\\\Alphabet_of_the_Magi\\\\character10\\\\0718_01.png',\n",
       " 'images_background\\\\Alphabet_of_the_Magi\\\\character10\\\\0718_02.png',\n",
       " 'images_background\\\\Alphabet_of_the_Magi\\\\character10\\\\0718_03.png',\n",
       " 'images_background\\\\Alphabet_of_the_Magi\\\\character10\\\\0718_04.png',\n",
       " 'images_background\\\\Alphabet_of_the_Magi\\\\character10\\\\0718_05.png',\n",
       " 'images_background\\\\Alphabet_of_the_Magi\\\\character10\\\\0718_06.png',\n",
       " 'images_background\\\\Alphabet_of_the_Magi\\\\character10\\\\0718_07.png',\n",
       " 'images_background\\\\Alphabet_of_the_Magi\\\\character10\\\\0718_08.png',\n",
       " 'images_background\\\\Alphabet_of_the_Magi\\\\character10\\\\0718_09.png',\n",
       " 'images_background\\\\Alphabet_of_the_Magi\\\\character10\\\\0718_10.png',\n",
       " 'images_background\\\\Alphabet_of_the_Magi\\\\character10\\\\0718_11.png',\n",
       " 'images_background\\\\Alphabet_of_the_Magi\\\\character10\\\\0718_12.png',\n",
       " 'images_background\\\\Alphabet_of_the_Magi\\\\character10\\\\0718_13.png',\n",
       " 'images_background\\\\Alphabet_of_the_Magi\\\\character10\\\\0718_14.png',\n",
       " 'images_background\\\\Alphabet_of_the_Magi\\\\character10\\\\0718_15.png',\n",
       " 'images_background\\\\Alphabet_of_the_Magi\\\\character10\\\\0718_16.png',\n",
       " 'images_background\\\\Alphabet_of_the_Magi\\\\character10\\\\0718_17.png',\n",
       " 'images_background\\\\Alphabet_of_the_Magi\\\\character10\\\\0718_18.png',\n",
       " 'images_background\\\\Alphabet_of_the_Magi\\\\character10\\\\0718_19.png',\n",
       " 'images_background\\\\Alphabet_of_the_Magi\\\\character10\\\\0718_20.png',\n",
       " 'images_background\\\\Alphabet_of_the_Magi\\\\character11\\\\0719_01.png',\n",
       " 'images_background\\\\Alphabet_of_the_Magi\\\\character11\\\\0719_02.png',\n",
       " 'images_background\\\\Alphabet_of_the_Magi\\\\character11\\\\0719_03.png',\n",
       " 'images_background\\\\Alphabet_of_the_Magi\\\\character11\\\\0719_04.png',\n",
       " 'images_background\\\\Alphabet_of_the_Magi\\\\character11\\\\0719_05.png',\n",
       " 'images_background\\\\Alphabet_of_the_Magi\\\\character11\\\\0719_06.png',\n",
       " 'images_background\\\\Alphabet_of_the_Magi\\\\character11\\\\0719_07.png',\n",
       " 'images_background\\\\Alphabet_of_the_Magi\\\\character11\\\\0719_08.png',\n",
       " 'images_background\\\\Alphabet_of_the_Magi\\\\character11\\\\0719_09.png',\n",
       " 'images_background\\\\Alphabet_of_the_Magi\\\\character11\\\\0719_10.png',\n",
       " 'images_background\\\\Alphabet_of_the_Magi\\\\character11\\\\0719_11.png',\n",
       " 'images_background\\\\Alphabet_of_the_Magi\\\\character11\\\\0719_12.png',\n",
       " 'images_background\\\\Alphabet_of_the_Magi\\\\character11\\\\0719_13.png',\n",
       " 'images_background\\\\Alphabet_of_the_Magi\\\\character11\\\\0719_14.png',\n",
       " 'images_background\\\\Alphabet_of_the_Magi\\\\character11\\\\0719_15.png',\n",
       " 'images_background\\\\Alphabet_of_the_Magi\\\\character11\\\\0719_16.png',\n",
       " 'images_background\\\\Alphabet_of_the_Magi\\\\character11\\\\0719_17.png',\n",
       " 'images_background\\\\Alphabet_of_the_Magi\\\\character11\\\\0719_18.png',\n",
       " 'images_background\\\\Alphabet_of_the_Magi\\\\character11\\\\0719_19.png',\n",
       " 'images_background\\\\Alphabet_of_the_Magi\\\\character11\\\\0719_20.png',\n",
       " 'images_background\\\\Alphabet_of_the_Magi\\\\character12\\\\0720_01.png',\n",
       " 'images_background\\\\Alphabet_of_the_Magi\\\\character12\\\\0720_02.png',\n",
       " 'images_background\\\\Alphabet_of_the_Magi\\\\character12\\\\0720_03.png',\n",
       " 'images_background\\\\Alphabet_of_the_Magi\\\\character12\\\\0720_04.png',\n",
       " 'images_background\\\\Alphabet_of_the_Magi\\\\character12\\\\0720_05.png',\n",
       " 'images_background\\\\Alphabet_of_the_Magi\\\\character12\\\\0720_06.png',\n",
       " 'images_background\\\\Alphabet_of_the_Magi\\\\character12\\\\0720_07.png',\n",
       " 'images_background\\\\Alphabet_of_the_Magi\\\\character12\\\\0720_08.png',\n",
       " 'images_background\\\\Alphabet_of_the_Magi\\\\character12\\\\0720_09.png',\n",
       " 'images_background\\\\Alphabet_of_the_Magi\\\\character12\\\\0720_10.png',\n",
       " 'images_background\\\\Alphabet_of_the_Magi\\\\character12\\\\0720_11.png',\n",
       " 'images_background\\\\Alphabet_of_the_Magi\\\\character12\\\\0720_12.png',\n",
       " 'images_background\\\\Alphabet_of_the_Magi\\\\character12\\\\0720_13.png',\n",
       " 'images_background\\\\Alphabet_of_the_Magi\\\\character12\\\\0720_14.png',\n",
       " 'images_background\\\\Alphabet_of_the_Magi\\\\character12\\\\0720_15.png',\n",
       " 'images_background\\\\Alphabet_of_the_Magi\\\\character12\\\\0720_16.png',\n",
       " 'images_background\\\\Alphabet_of_the_Magi\\\\character12\\\\0720_17.png',\n",
       " 'images_background\\\\Alphabet_of_the_Magi\\\\character12\\\\0720_18.png',\n",
       " 'images_background\\\\Alphabet_of_the_Magi\\\\character12\\\\0720_19.png',\n",
       " 'images_background\\\\Alphabet_of_the_Magi\\\\character12\\\\0720_20.png',\n",
       " 'images_background\\\\Alphabet_of_the_Magi\\\\character13\\\\0721_01.png',\n",
       " 'images_background\\\\Alphabet_of_the_Magi\\\\character13\\\\0721_02.png',\n",
       " 'images_background\\\\Alphabet_of_the_Magi\\\\character13\\\\0721_03.png',\n",
       " 'images_background\\\\Alphabet_of_the_Magi\\\\character13\\\\0721_04.png',\n",
       " 'images_background\\\\Alphabet_of_the_Magi\\\\character13\\\\0721_05.png',\n",
       " 'images_background\\\\Alphabet_of_the_Magi\\\\character13\\\\0721_06.png',\n",
       " 'images_background\\\\Alphabet_of_the_Magi\\\\character13\\\\0721_07.png',\n",
       " 'images_background\\\\Alphabet_of_the_Magi\\\\character13\\\\0721_08.png',\n",
       " 'images_background\\\\Alphabet_of_the_Magi\\\\character13\\\\0721_09.png',\n",
       " 'images_background\\\\Alphabet_of_the_Magi\\\\character13\\\\0721_10.png',\n",
       " 'images_background\\\\Alphabet_of_the_Magi\\\\character13\\\\0721_11.png',\n",
       " 'images_background\\\\Alphabet_of_the_Magi\\\\character13\\\\0721_12.png',\n",
       " 'images_background\\\\Alphabet_of_the_Magi\\\\character13\\\\0721_13.png',\n",
       " 'images_background\\\\Alphabet_of_the_Magi\\\\character13\\\\0721_14.png',\n",
       " 'images_background\\\\Alphabet_of_the_Magi\\\\character13\\\\0721_15.png',\n",
       " 'images_background\\\\Alphabet_of_the_Magi\\\\character13\\\\0721_16.png',\n",
       " 'images_background\\\\Alphabet_of_the_Magi\\\\character13\\\\0721_17.png',\n",
       " 'images_background\\\\Alphabet_of_the_Magi\\\\character13\\\\0721_18.png',\n",
       " 'images_background\\\\Alphabet_of_the_Magi\\\\character13\\\\0721_19.png',\n",
       " 'images_background\\\\Alphabet_of_the_Magi\\\\character13\\\\0721_20.png',\n",
       " 'images_background\\\\Alphabet_of_the_Magi\\\\character14\\\\0722_01.png',\n",
       " 'images_background\\\\Alphabet_of_the_Magi\\\\character14\\\\0722_02.png',\n",
       " 'images_background\\\\Alphabet_of_the_Magi\\\\character14\\\\0722_03.png',\n",
       " 'images_background\\\\Alphabet_of_the_Magi\\\\character14\\\\0722_04.png',\n",
       " 'images_background\\\\Alphabet_of_the_Magi\\\\character14\\\\0722_05.png',\n",
       " 'images_background\\\\Alphabet_of_the_Magi\\\\character14\\\\0722_06.png',\n",
       " 'images_background\\\\Alphabet_of_the_Magi\\\\character14\\\\0722_07.png',\n",
       " 'images_background\\\\Alphabet_of_the_Magi\\\\character14\\\\0722_08.png',\n",
       " 'images_background\\\\Alphabet_of_the_Magi\\\\character14\\\\0722_09.png',\n",
       " 'images_background\\\\Alphabet_of_the_Magi\\\\character14\\\\0722_10.png',\n",
       " 'images_background\\\\Alphabet_of_the_Magi\\\\character14\\\\0722_11.png',\n",
       " 'images_background\\\\Alphabet_of_the_Magi\\\\character14\\\\0722_12.png',\n",
       " 'images_background\\\\Alphabet_of_the_Magi\\\\character14\\\\0722_13.png',\n",
       " 'images_background\\\\Alphabet_of_the_Magi\\\\character14\\\\0722_14.png',\n",
       " 'images_background\\\\Alphabet_of_the_Magi\\\\character14\\\\0722_15.png',\n",
       " 'images_background\\\\Alphabet_of_the_Magi\\\\character14\\\\0722_16.png',\n",
       " 'images_background\\\\Alphabet_of_the_Magi\\\\character14\\\\0722_17.png',\n",
       " 'images_background\\\\Alphabet_of_the_Magi\\\\character14\\\\0722_18.png',\n",
       " 'images_background\\\\Alphabet_of_the_Magi\\\\character14\\\\0722_19.png',\n",
       " 'images_background\\\\Alphabet_of_the_Magi\\\\character14\\\\0722_20.png',\n",
       " 'images_background\\\\Alphabet_of_the_Magi\\\\character15\\\\0723_01.png',\n",
       " 'images_background\\\\Alphabet_of_the_Magi\\\\character15\\\\0723_02.png',\n",
       " 'images_background\\\\Alphabet_of_the_Magi\\\\character15\\\\0723_03.png',\n",
       " 'images_background\\\\Alphabet_of_the_Magi\\\\character15\\\\0723_04.png',\n",
       " 'images_background\\\\Alphabet_of_the_Magi\\\\character15\\\\0723_05.png',\n",
       " 'images_background\\\\Alphabet_of_the_Magi\\\\character15\\\\0723_06.png',\n",
       " 'images_background\\\\Alphabet_of_the_Magi\\\\character15\\\\0723_07.png',\n",
       " 'images_background\\\\Alphabet_of_the_Magi\\\\character15\\\\0723_08.png',\n",
       " 'images_background\\\\Alphabet_of_the_Magi\\\\character15\\\\0723_09.png',\n",
       " 'images_background\\\\Alphabet_of_the_Magi\\\\character15\\\\0723_10.png',\n",
       " 'images_background\\\\Alphabet_of_the_Magi\\\\character15\\\\0723_11.png',\n",
       " 'images_background\\\\Alphabet_of_the_Magi\\\\character15\\\\0723_12.png',\n",
       " 'images_background\\\\Alphabet_of_the_Magi\\\\character15\\\\0723_13.png',\n",
       " 'images_background\\\\Alphabet_of_the_Magi\\\\character15\\\\0723_14.png',\n",
       " 'images_background\\\\Alphabet_of_the_Magi\\\\character15\\\\0723_15.png',\n",
       " 'images_background\\\\Alphabet_of_the_Magi\\\\character15\\\\0723_16.png',\n",
       " 'images_background\\\\Alphabet_of_the_Magi\\\\character15\\\\0723_17.png',\n",
       " 'images_background\\\\Alphabet_of_the_Magi\\\\character15\\\\0723_18.png',\n",
       " 'images_background\\\\Alphabet_of_the_Magi\\\\character15\\\\0723_19.png',\n",
       " 'images_background\\\\Alphabet_of_the_Magi\\\\character15\\\\0723_20.png',\n",
       " 'images_background\\\\Alphabet_of_the_Magi\\\\character16\\\\0724_01.png',\n",
       " 'images_background\\\\Alphabet_of_the_Magi\\\\character16\\\\0724_02.png',\n",
       " 'images_background\\\\Alphabet_of_the_Magi\\\\character16\\\\0724_03.png',\n",
       " 'images_background\\\\Alphabet_of_the_Magi\\\\character16\\\\0724_04.png',\n",
       " 'images_background\\\\Alphabet_of_the_Magi\\\\character16\\\\0724_05.png',\n",
       " 'images_background\\\\Alphabet_of_the_Magi\\\\character16\\\\0724_06.png',\n",
       " 'images_background\\\\Alphabet_of_the_Magi\\\\character16\\\\0724_07.png',\n",
       " 'images_background\\\\Alphabet_of_the_Magi\\\\character16\\\\0724_08.png',\n",
       " 'images_background\\\\Alphabet_of_the_Magi\\\\character16\\\\0724_09.png',\n",
       " 'images_background\\\\Alphabet_of_the_Magi\\\\character16\\\\0724_10.png',\n",
       " 'images_background\\\\Alphabet_of_the_Magi\\\\character16\\\\0724_11.png',\n",
       " 'images_background\\\\Alphabet_of_the_Magi\\\\character16\\\\0724_12.png',\n",
       " 'images_background\\\\Alphabet_of_the_Magi\\\\character16\\\\0724_13.png',\n",
       " 'images_background\\\\Alphabet_of_the_Magi\\\\character16\\\\0724_14.png',\n",
       " 'images_background\\\\Alphabet_of_the_Magi\\\\character16\\\\0724_15.png',\n",
       " 'images_background\\\\Alphabet_of_the_Magi\\\\character16\\\\0724_16.png',\n",
       " 'images_background\\\\Alphabet_of_the_Magi\\\\character16\\\\0724_17.png',\n",
       " 'images_background\\\\Alphabet_of_the_Magi\\\\character16\\\\0724_18.png',\n",
       " 'images_background\\\\Alphabet_of_the_Magi\\\\character16\\\\0724_19.png',\n",
       " 'images_background\\\\Alphabet_of_the_Magi\\\\character16\\\\0724_20.png',\n",
       " 'images_background\\\\Alphabet_of_the_Magi\\\\character17\\\\0725_01.png',\n",
       " 'images_background\\\\Alphabet_of_the_Magi\\\\character17\\\\0725_02.png',\n",
       " 'images_background\\\\Alphabet_of_the_Magi\\\\character17\\\\0725_03.png',\n",
       " 'images_background\\\\Alphabet_of_the_Magi\\\\character17\\\\0725_04.png',\n",
       " 'images_background\\\\Alphabet_of_the_Magi\\\\character17\\\\0725_05.png',\n",
       " 'images_background\\\\Alphabet_of_the_Magi\\\\character17\\\\0725_06.png',\n",
       " 'images_background\\\\Alphabet_of_the_Magi\\\\character17\\\\0725_07.png',\n",
       " 'images_background\\\\Alphabet_of_the_Magi\\\\character17\\\\0725_08.png',\n",
       " 'images_background\\\\Alphabet_of_the_Magi\\\\character17\\\\0725_09.png',\n",
       " 'images_background\\\\Alphabet_of_the_Magi\\\\character17\\\\0725_10.png',\n",
       " 'images_background\\\\Alphabet_of_the_Magi\\\\character17\\\\0725_11.png',\n",
       " 'images_background\\\\Alphabet_of_the_Magi\\\\character17\\\\0725_12.png',\n",
       " 'images_background\\\\Alphabet_of_the_Magi\\\\character17\\\\0725_13.png',\n",
       " 'images_background\\\\Alphabet_of_the_Magi\\\\character17\\\\0725_14.png',\n",
       " 'images_background\\\\Alphabet_of_the_Magi\\\\character17\\\\0725_15.png',\n",
       " 'images_background\\\\Alphabet_of_the_Magi\\\\character17\\\\0725_16.png',\n",
       " 'images_background\\\\Alphabet_of_the_Magi\\\\character17\\\\0725_17.png',\n",
       " 'images_background\\\\Alphabet_of_the_Magi\\\\character17\\\\0725_18.png',\n",
       " 'images_background\\\\Alphabet_of_the_Magi\\\\character17\\\\0725_19.png',\n",
       " 'images_background\\\\Alphabet_of_the_Magi\\\\character17\\\\0725_20.png',\n",
       " 'images_background\\\\Alphabet_of_the_Magi\\\\character18\\\\0726_01.png',\n",
       " 'images_background\\\\Alphabet_of_the_Magi\\\\character18\\\\0726_02.png',\n",
       " 'images_background\\\\Alphabet_of_the_Magi\\\\character18\\\\0726_03.png',\n",
       " 'images_background\\\\Alphabet_of_the_Magi\\\\character18\\\\0726_04.png',\n",
       " 'images_background\\\\Alphabet_of_the_Magi\\\\character18\\\\0726_05.png',\n",
       " 'images_background\\\\Alphabet_of_the_Magi\\\\character18\\\\0726_06.png',\n",
       " 'images_background\\\\Alphabet_of_the_Magi\\\\character18\\\\0726_07.png',\n",
       " 'images_background\\\\Alphabet_of_the_Magi\\\\character18\\\\0726_08.png',\n",
       " 'images_background\\\\Alphabet_of_the_Magi\\\\character18\\\\0726_09.png',\n",
       " 'images_background\\\\Alphabet_of_the_Magi\\\\character18\\\\0726_10.png',\n",
       " 'images_background\\\\Alphabet_of_the_Magi\\\\character18\\\\0726_11.png',\n",
       " 'images_background\\\\Alphabet_of_the_Magi\\\\character18\\\\0726_12.png',\n",
       " 'images_background\\\\Alphabet_of_the_Magi\\\\character18\\\\0726_13.png',\n",
       " 'images_background\\\\Alphabet_of_the_Magi\\\\character18\\\\0726_14.png',\n",
       " 'images_background\\\\Alphabet_of_the_Magi\\\\character18\\\\0726_15.png',\n",
       " 'images_background\\\\Alphabet_of_the_Magi\\\\character18\\\\0726_16.png',\n",
       " 'images_background\\\\Alphabet_of_the_Magi\\\\character18\\\\0726_17.png',\n",
       " 'images_background\\\\Alphabet_of_the_Magi\\\\character18\\\\0726_18.png',\n",
       " 'images_background\\\\Alphabet_of_the_Magi\\\\character18\\\\0726_19.png',\n",
       " 'images_background\\\\Alphabet_of_the_Magi\\\\character18\\\\0726_20.png',\n",
       " 'images_background\\\\Alphabet_of_the_Magi\\\\character19\\\\0727_01.png',\n",
       " 'images_background\\\\Alphabet_of_the_Magi\\\\character19\\\\0727_02.png',\n",
       " 'images_background\\\\Alphabet_of_the_Magi\\\\character19\\\\0727_03.png',\n",
       " 'images_background\\\\Alphabet_of_the_Magi\\\\character19\\\\0727_04.png',\n",
       " 'images_background\\\\Alphabet_of_the_Magi\\\\character19\\\\0727_05.png',\n",
       " 'images_background\\\\Alphabet_of_the_Magi\\\\character19\\\\0727_06.png',\n",
       " 'images_background\\\\Alphabet_of_the_Magi\\\\character19\\\\0727_07.png',\n",
       " 'images_background\\\\Alphabet_of_the_Magi\\\\character19\\\\0727_08.png',\n",
       " 'images_background\\\\Alphabet_of_the_Magi\\\\character19\\\\0727_09.png',\n",
       " 'images_background\\\\Alphabet_of_the_Magi\\\\character19\\\\0727_10.png',\n",
       " 'images_background\\\\Alphabet_of_the_Magi\\\\character19\\\\0727_11.png',\n",
       " 'images_background\\\\Alphabet_of_the_Magi\\\\character19\\\\0727_12.png',\n",
       " 'images_background\\\\Alphabet_of_the_Magi\\\\character19\\\\0727_13.png',\n",
       " 'images_background\\\\Alphabet_of_the_Magi\\\\character19\\\\0727_14.png',\n",
       " 'images_background\\\\Alphabet_of_the_Magi\\\\character19\\\\0727_15.png',\n",
       " 'images_background\\\\Alphabet_of_the_Magi\\\\character19\\\\0727_16.png',\n",
       " 'images_background\\\\Alphabet_of_the_Magi\\\\character19\\\\0727_17.png',\n",
       " 'images_background\\\\Alphabet_of_the_Magi\\\\character19\\\\0727_18.png',\n",
       " 'images_background\\\\Alphabet_of_the_Magi\\\\character19\\\\0727_19.png',\n",
       " 'images_background\\\\Alphabet_of_the_Magi\\\\character19\\\\0727_20.png',\n",
       " 'images_background\\\\Alphabet_of_the_Magi\\\\character20\\\\0728_01.png',\n",
       " 'images_background\\\\Alphabet_of_the_Magi\\\\character20\\\\0728_02.png',\n",
       " 'images_background\\\\Alphabet_of_the_Magi\\\\character20\\\\0728_03.png',\n",
       " 'images_background\\\\Alphabet_of_the_Magi\\\\character20\\\\0728_04.png',\n",
       " 'images_background\\\\Alphabet_of_the_Magi\\\\character20\\\\0728_05.png',\n",
       " 'images_background\\\\Alphabet_of_the_Magi\\\\character20\\\\0728_06.png',\n",
       " 'images_background\\\\Alphabet_of_the_Magi\\\\character20\\\\0728_07.png',\n",
       " 'images_background\\\\Alphabet_of_the_Magi\\\\character20\\\\0728_08.png',\n",
       " 'images_background\\\\Alphabet_of_the_Magi\\\\character20\\\\0728_09.png',\n",
       " 'images_background\\\\Alphabet_of_the_Magi\\\\character20\\\\0728_10.png',\n",
       " 'images_background\\\\Alphabet_of_the_Magi\\\\character20\\\\0728_11.png',\n",
       " 'images_background\\\\Alphabet_of_the_Magi\\\\character20\\\\0728_12.png',\n",
       " 'images_background\\\\Alphabet_of_the_Magi\\\\character20\\\\0728_13.png',\n",
       " 'images_background\\\\Alphabet_of_the_Magi\\\\character20\\\\0728_14.png',\n",
       " 'images_background\\\\Alphabet_of_the_Magi\\\\character20\\\\0728_15.png',\n",
       " 'images_background\\\\Alphabet_of_the_Magi\\\\character20\\\\0728_16.png',\n",
       " 'images_background\\\\Alphabet_of_the_Magi\\\\character20\\\\0728_17.png',\n",
       " 'images_background\\\\Alphabet_of_the_Magi\\\\character20\\\\0728_18.png',\n",
       " 'images_background\\\\Alphabet_of_the_Magi\\\\character20\\\\0728_19.png',\n",
       " 'images_background\\\\Alphabet_of_the_Magi\\\\character20\\\\0728_20.png',\n",
       " 'images_background\\\\Anglo-Saxon_Futhorc\\\\character01\\\\0296_01.png',\n",
       " 'images_background\\\\Anglo-Saxon_Futhorc\\\\character01\\\\0296_02.png',\n",
       " 'images_background\\\\Anglo-Saxon_Futhorc\\\\character01\\\\0296_03.png',\n",
       " 'images_background\\\\Anglo-Saxon_Futhorc\\\\character01\\\\0296_04.png',\n",
       " 'images_background\\\\Anglo-Saxon_Futhorc\\\\character01\\\\0296_05.png',\n",
       " 'images_background\\\\Anglo-Saxon_Futhorc\\\\character01\\\\0296_06.png',\n",
       " 'images_background\\\\Anglo-Saxon_Futhorc\\\\character01\\\\0296_07.png',\n",
       " 'images_background\\\\Anglo-Saxon_Futhorc\\\\character01\\\\0296_08.png',\n",
       " 'images_background\\\\Anglo-Saxon_Futhorc\\\\character01\\\\0296_09.png',\n",
       " 'images_background\\\\Anglo-Saxon_Futhorc\\\\character01\\\\0296_10.png',\n",
       " 'images_background\\\\Anglo-Saxon_Futhorc\\\\character01\\\\0296_11.png',\n",
       " 'images_background\\\\Anglo-Saxon_Futhorc\\\\character01\\\\0296_12.png',\n",
       " 'images_background\\\\Anglo-Saxon_Futhorc\\\\character01\\\\0296_13.png',\n",
       " 'images_background\\\\Anglo-Saxon_Futhorc\\\\character01\\\\0296_14.png',\n",
       " 'images_background\\\\Anglo-Saxon_Futhorc\\\\character01\\\\0296_15.png',\n",
       " 'images_background\\\\Anglo-Saxon_Futhorc\\\\character01\\\\0296_16.png',\n",
       " 'images_background\\\\Anglo-Saxon_Futhorc\\\\character01\\\\0296_17.png',\n",
       " 'images_background\\\\Anglo-Saxon_Futhorc\\\\character01\\\\0296_18.png',\n",
       " 'images_background\\\\Anglo-Saxon_Futhorc\\\\character01\\\\0296_19.png',\n",
       " 'images_background\\\\Anglo-Saxon_Futhorc\\\\character01\\\\0296_20.png',\n",
       " 'images_background\\\\Anglo-Saxon_Futhorc\\\\character02\\\\0297_01.png',\n",
       " 'images_background\\\\Anglo-Saxon_Futhorc\\\\character02\\\\0297_02.png',\n",
       " 'images_background\\\\Anglo-Saxon_Futhorc\\\\character02\\\\0297_03.png',\n",
       " 'images_background\\\\Anglo-Saxon_Futhorc\\\\character02\\\\0297_04.png',\n",
       " 'images_background\\\\Anglo-Saxon_Futhorc\\\\character02\\\\0297_05.png',\n",
       " 'images_background\\\\Anglo-Saxon_Futhorc\\\\character02\\\\0297_06.png',\n",
       " 'images_background\\\\Anglo-Saxon_Futhorc\\\\character02\\\\0297_07.png',\n",
       " 'images_background\\\\Anglo-Saxon_Futhorc\\\\character02\\\\0297_08.png',\n",
       " 'images_background\\\\Anglo-Saxon_Futhorc\\\\character02\\\\0297_09.png',\n",
       " 'images_background\\\\Anglo-Saxon_Futhorc\\\\character02\\\\0297_10.png',\n",
       " 'images_background\\\\Anglo-Saxon_Futhorc\\\\character02\\\\0297_11.png',\n",
       " 'images_background\\\\Anglo-Saxon_Futhorc\\\\character02\\\\0297_12.png',\n",
       " 'images_background\\\\Anglo-Saxon_Futhorc\\\\character02\\\\0297_13.png',\n",
       " 'images_background\\\\Anglo-Saxon_Futhorc\\\\character02\\\\0297_14.png',\n",
       " 'images_background\\\\Anglo-Saxon_Futhorc\\\\character02\\\\0297_15.png',\n",
       " 'images_background\\\\Anglo-Saxon_Futhorc\\\\character02\\\\0297_16.png',\n",
       " 'images_background\\\\Anglo-Saxon_Futhorc\\\\character02\\\\0297_17.png',\n",
       " 'images_background\\\\Anglo-Saxon_Futhorc\\\\character02\\\\0297_18.png',\n",
       " 'images_background\\\\Anglo-Saxon_Futhorc\\\\character02\\\\0297_19.png',\n",
       " 'images_background\\\\Anglo-Saxon_Futhorc\\\\character02\\\\0297_20.png',\n",
       " 'images_background\\\\Anglo-Saxon_Futhorc\\\\character03\\\\0298_01.png',\n",
       " 'images_background\\\\Anglo-Saxon_Futhorc\\\\character03\\\\0298_02.png',\n",
       " 'images_background\\\\Anglo-Saxon_Futhorc\\\\character03\\\\0298_03.png',\n",
       " 'images_background\\\\Anglo-Saxon_Futhorc\\\\character03\\\\0298_04.png',\n",
       " 'images_background\\\\Anglo-Saxon_Futhorc\\\\character03\\\\0298_05.png',\n",
       " 'images_background\\\\Anglo-Saxon_Futhorc\\\\character03\\\\0298_06.png',\n",
       " 'images_background\\\\Anglo-Saxon_Futhorc\\\\character03\\\\0298_07.png',\n",
       " 'images_background\\\\Anglo-Saxon_Futhorc\\\\character03\\\\0298_08.png',\n",
       " 'images_background\\\\Anglo-Saxon_Futhorc\\\\character03\\\\0298_09.png',\n",
       " 'images_background\\\\Anglo-Saxon_Futhorc\\\\character03\\\\0298_10.png',\n",
       " 'images_background\\\\Anglo-Saxon_Futhorc\\\\character03\\\\0298_11.png',\n",
       " 'images_background\\\\Anglo-Saxon_Futhorc\\\\character03\\\\0298_12.png',\n",
       " 'images_background\\\\Anglo-Saxon_Futhorc\\\\character03\\\\0298_13.png',\n",
       " 'images_background\\\\Anglo-Saxon_Futhorc\\\\character03\\\\0298_14.png',\n",
       " 'images_background\\\\Anglo-Saxon_Futhorc\\\\character03\\\\0298_15.png',\n",
       " 'images_background\\\\Anglo-Saxon_Futhorc\\\\character03\\\\0298_16.png',\n",
       " 'images_background\\\\Anglo-Saxon_Futhorc\\\\character03\\\\0298_17.png',\n",
       " 'images_background\\\\Anglo-Saxon_Futhorc\\\\character03\\\\0298_18.png',\n",
       " 'images_background\\\\Anglo-Saxon_Futhorc\\\\character03\\\\0298_19.png',\n",
       " 'images_background\\\\Anglo-Saxon_Futhorc\\\\character03\\\\0298_20.png',\n",
       " 'images_background\\\\Anglo-Saxon_Futhorc\\\\character04\\\\0299_01.png',\n",
       " 'images_background\\\\Anglo-Saxon_Futhorc\\\\character04\\\\0299_02.png',\n",
       " 'images_background\\\\Anglo-Saxon_Futhorc\\\\character04\\\\0299_03.png',\n",
       " 'images_background\\\\Anglo-Saxon_Futhorc\\\\character04\\\\0299_04.png',\n",
       " 'images_background\\\\Anglo-Saxon_Futhorc\\\\character04\\\\0299_05.png',\n",
       " 'images_background\\\\Anglo-Saxon_Futhorc\\\\character04\\\\0299_06.png',\n",
       " 'images_background\\\\Anglo-Saxon_Futhorc\\\\character04\\\\0299_07.png',\n",
       " 'images_background\\\\Anglo-Saxon_Futhorc\\\\character04\\\\0299_08.png',\n",
       " 'images_background\\\\Anglo-Saxon_Futhorc\\\\character04\\\\0299_09.png',\n",
       " 'images_background\\\\Anglo-Saxon_Futhorc\\\\character04\\\\0299_10.png',\n",
       " 'images_background\\\\Anglo-Saxon_Futhorc\\\\character04\\\\0299_11.png',\n",
       " 'images_background\\\\Anglo-Saxon_Futhorc\\\\character04\\\\0299_12.png',\n",
       " 'images_background\\\\Anglo-Saxon_Futhorc\\\\character04\\\\0299_13.png',\n",
       " 'images_background\\\\Anglo-Saxon_Futhorc\\\\character04\\\\0299_14.png',\n",
       " 'images_background\\\\Anglo-Saxon_Futhorc\\\\character04\\\\0299_15.png',\n",
       " 'images_background\\\\Anglo-Saxon_Futhorc\\\\character04\\\\0299_16.png',\n",
       " 'images_background\\\\Anglo-Saxon_Futhorc\\\\character04\\\\0299_17.png',\n",
       " 'images_background\\\\Anglo-Saxon_Futhorc\\\\character04\\\\0299_18.png',\n",
       " 'images_background\\\\Anglo-Saxon_Futhorc\\\\character04\\\\0299_19.png',\n",
       " 'images_background\\\\Anglo-Saxon_Futhorc\\\\character04\\\\0299_20.png',\n",
       " 'images_background\\\\Anglo-Saxon_Futhorc\\\\character05\\\\0300_01.png',\n",
       " 'images_background\\\\Anglo-Saxon_Futhorc\\\\character05\\\\0300_02.png',\n",
       " 'images_background\\\\Anglo-Saxon_Futhorc\\\\character05\\\\0300_03.png',\n",
       " 'images_background\\\\Anglo-Saxon_Futhorc\\\\character05\\\\0300_04.png',\n",
       " 'images_background\\\\Anglo-Saxon_Futhorc\\\\character05\\\\0300_05.png',\n",
       " 'images_background\\\\Anglo-Saxon_Futhorc\\\\character05\\\\0300_06.png',\n",
       " 'images_background\\\\Anglo-Saxon_Futhorc\\\\character05\\\\0300_07.png',\n",
       " 'images_background\\\\Anglo-Saxon_Futhorc\\\\character05\\\\0300_08.png',\n",
       " 'images_background\\\\Anglo-Saxon_Futhorc\\\\character05\\\\0300_09.png',\n",
       " 'images_background\\\\Anglo-Saxon_Futhorc\\\\character05\\\\0300_10.png',\n",
       " 'images_background\\\\Anglo-Saxon_Futhorc\\\\character05\\\\0300_11.png',\n",
       " 'images_background\\\\Anglo-Saxon_Futhorc\\\\character05\\\\0300_12.png',\n",
       " 'images_background\\\\Anglo-Saxon_Futhorc\\\\character05\\\\0300_13.png',\n",
       " 'images_background\\\\Anglo-Saxon_Futhorc\\\\character05\\\\0300_14.png',\n",
       " 'images_background\\\\Anglo-Saxon_Futhorc\\\\character05\\\\0300_15.png',\n",
       " 'images_background\\\\Anglo-Saxon_Futhorc\\\\character05\\\\0300_16.png',\n",
       " 'images_background\\\\Anglo-Saxon_Futhorc\\\\character05\\\\0300_17.png',\n",
       " 'images_background\\\\Anglo-Saxon_Futhorc\\\\character05\\\\0300_18.png',\n",
       " 'images_background\\\\Anglo-Saxon_Futhorc\\\\character05\\\\0300_19.png',\n",
       " 'images_background\\\\Anglo-Saxon_Futhorc\\\\character05\\\\0300_20.png',\n",
       " 'images_background\\\\Anglo-Saxon_Futhorc\\\\character06\\\\0301_01.png',\n",
       " 'images_background\\\\Anglo-Saxon_Futhorc\\\\character06\\\\0301_02.png',\n",
       " 'images_background\\\\Anglo-Saxon_Futhorc\\\\character06\\\\0301_03.png',\n",
       " 'images_background\\\\Anglo-Saxon_Futhorc\\\\character06\\\\0301_04.png',\n",
       " 'images_background\\\\Anglo-Saxon_Futhorc\\\\character06\\\\0301_05.png',\n",
       " 'images_background\\\\Anglo-Saxon_Futhorc\\\\character06\\\\0301_06.png',\n",
       " 'images_background\\\\Anglo-Saxon_Futhorc\\\\character06\\\\0301_07.png',\n",
       " 'images_background\\\\Anglo-Saxon_Futhorc\\\\character06\\\\0301_08.png',\n",
       " 'images_background\\\\Anglo-Saxon_Futhorc\\\\character06\\\\0301_09.png',\n",
       " 'images_background\\\\Anglo-Saxon_Futhorc\\\\character06\\\\0301_10.png',\n",
       " 'images_background\\\\Anglo-Saxon_Futhorc\\\\character06\\\\0301_11.png',\n",
       " 'images_background\\\\Anglo-Saxon_Futhorc\\\\character06\\\\0301_12.png',\n",
       " 'images_background\\\\Anglo-Saxon_Futhorc\\\\character06\\\\0301_13.png',\n",
       " 'images_background\\\\Anglo-Saxon_Futhorc\\\\character06\\\\0301_14.png',\n",
       " 'images_background\\\\Anglo-Saxon_Futhorc\\\\character06\\\\0301_15.png',\n",
       " 'images_background\\\\Anglo-Saxon_Futhorc\\\\character06\\\\0301_16.png',\n",
       " 'images_background\\\\Anglo-Saxon_Futhorc\\\\character06\\\\0301_17.png',\n",
       " 'images_background\\\\Anglo-Saxon_Futhorc\\\\character06\\\\0301_18.png',\n",
       " 'images_background\\\\Anglo-Saxon_Futhorc\\\\character06\\\\0301_19.png',\n",
       " 'images_background\\\\Anglo-Saxon_Futhorc\\\\character06\\\\0301_20.png',\n",
       " 'images_background\\\\Anglo-Saxon_Futhorc\\\\character07\\\\0302_01.png',\n",
       " 'images_background\\\\Anglo-Saxon_Futhorc\\\\character07\\\\0302_02.png',\n",
       " 'images_background\\\\Anglo-Saxon_Futhorc\\\\character07\\\\0302_03.png',\n",
       " 'images_background\\\\Anglo-Saxon_Futhorc\\\\character07\\\\0302_04.png',\n",
       " 'images_background\\\\Anglo-Saxon_Futhorc\\\\character07\\\\0302_05.png',\n",
       " 'images_background\\\\Anglo-Saxon_Futhorc\\\\character07\\\\0302_06.png',\n",
       " 'images_background\\\\Anglo-Saxon_Futhorc\\\\character07\\\\0302_07.png',\n",
       " 'images_background\\\\Anglo-Saxon_Futhorc\\\\character07\\\\0302_08.png',\n",
       " 'images_background\\\\Anglo-Saxon_Futhorc\\\\character07\\\\0302_09.png',\n",
       " 'images_background\\\\Anglo-Saxon_Futhorc\\\\character07\\\\0302_10.png',\n",
       " 'images_background\\\\Anglo-Saxon_Futhorc\\\\character07\\\\0302_11.png',\n",
       " 'images_background\\\\Anglo-Saxon_Futhorc\\\\character07\\\\0302_12.png',\n",
       " 'images_background\\\\Anglo-Saxon_Futhorc\\\\character07\\\\0302_13.png',\n",
       " 'images_background\\\\Anglo-Saxon_Futhorc\\\\character07\\\\0302_14.png',\n",
       " 'images_background\\\\Anglo-Saxon_Futhorc\\\\character07\\\\0302_15.png',\n",
       " 'images_background\\\\Anglo-Saxon_Futhorc\\\\character07\\\\0302_16.png',\n",
       " 'images_background\\\\Anglo-Saxon_Futhorc\\\\character07\\\\0302_17.png',\n",
       " 'images_background\\\\Anglo-Saxon_Futhorc\\\\character07\\\\0302_18.png',\n",
       " 'images_background\\\\Anglo-Saxon_Futhorc\\\\character07\\\\0302_19.png',\n",
       " 'images_background\\\\Anglo-Saxon_Futhorc\\\\character07\\\\0302_20.png',\n",
       " 'images_background\\\\Anglo-Saxon_Futhorc\\\\character08\\\\0303_01.png',\n",
       " 'images_background\\\\Anglo-Saxon_Futhorc\\\\character08\\\\0303_02.png',\n",
       " 'images_background\\\\Anglo-Saxon_Futhorc\\\\character08\\\\0303_03.png',\n",
       " 'images_background\\\\Anglo-Saxon_Futhorc\\\\character08\\\\0303_04.png',\n",
       " 'images_background\\\\Anglo-Saxon_Futhorc\\\\character08\\\\0303_05.png',\n",
       " 'images_background\\\\Anglo-Saxon_Futhorc\\\\character08\\\\0303_06.png',\n",
       " 'images_background\\\\Anglo-Saxon_Futhorc\\\\character08\\\\0303_07.png',\n",
       " 'images_background\\\\Anglo-Saxon_Futhorc\\\\character08\\\\0303_08.png',\n",
       " 'images_background\\\\Anglo-Saxon_Futhorc\\\\character08\\\\0303_09.png',\n",
       " 'images_background\\\\Anglo-Saxon_Futhorc\\\\character08\\\\0303_10.png',\n",
       " 'images_background\\\\Anglo-Saxon_Futhorc\\\\character08\\\\0303_11.png',\n",
       " 'images_background\\\\Anglo-Saxon_Futhorc\\\\character08\\\\0303_12.png',\n",
       " 'images_background\\\\Anglo-Saxon_Futhorc\\\\character08\\\\0303_13.png',\n",
       " 'images_background\\\\Anglo-Saxon_Futhorc\\\\character08\\\\0303_14.png',\n",
       " 'images_background\\\\Anglo-Saxon_Futhorc\\\\character08\\\\0303_15.png',\n",
       " 'images_background\\\\Anglo-Saxon_Futhorc\\\\character08\\\\0303_16.png',\n",
       " 'images_background\\\\Anglo-Saxon_Futhorc\\\\character08\\\\0303_17.png',\n",
       " 'images_background\\\\Anglo-Saxon_Futhorc\\\\character08\\\\0303_18.png',\n",
       " 'images_background\\\\Anglo-Saxon_Futhorc\\\\character08\\\\0303_19.png',\n",
       " 'images_background\\\\Anglo-Saxon_Futhorc\\\\character08\\\\0303_20.png',\n",
       " 'images_background\\\\Anglo-Saxon_Futhorc\\\\character09\\\\0304_01.png',\n",
       " 'images_background\\\\Anglo-Saxon_Futhorc\\\\character09\\\\0304_02.png',\n",
       " 'images_background\\\\Anglo-Saxon_Futhorc\\\\character09\\\\0304_03.png',\n",
       " 'images_background\\\\Anglo-Saxon_Futhorc\\\\character09\\\\0304_04.png',\n",
       " 'images_background\\\\Anglo-Saxon_Futhorc\\\\character09\\\\0304_05.png',\n",
       " 'images_background\\\\Anglo-Saxon_Futhorc\\\\character09\\\\0304_06.png',\n",
       " 'images_background\\\\Anglo-Saxon_Futhorc\\\\character09\\\\0304_07.png',\n",
       " 'images_background\\\\Anglo-Saxon_Futhorc\\\\character09\\\\0304_08.png',\n",
       " 'images_background\\\\Anglo-Saxon_Futhorc\\\\character09\\\\0304_09.png',\n",
       " 'images_background\\\\Anglo-Saxon_Futhorc\\\\character09\\\\0304_10.png',\n",
       " 'images_background\\\\Anglo-Saxon_Futhorc\\\\character09\\\\0304_11.png',\n",
       " 'images_background\\\\Anglo-Saxon_Futhorc\\\\character09\\\\0304_12.png',\n",
       " 'images_background\\\\Anglo-Saxon_Futhorc\\\\character09\\\\0304_13.png',\n",
       " 'images_background\\\\Anglo-Saxon_Futhorc\\\\character09\\\\0304_14.png',\n",
       " 'images_background\\\\Anglo-Saxon_Futhorc\\\\character09\\\\0304_15.png',\n",
       " 'images_background\\\\Anglo-Saxon_Futhorc\\\\character09\\\\0304_16.png',\n",
       " 'images_background\\\\Anglo-Saxon_Futhorc\\\\character09\\\\0304_17.png',\n",
       " 'images_background\\\\Anglo-Saxon_Futhorc\\\\character09\\\\0304_18.png',\n",
       " 'images_background\\\\Anglo-Saxon_Futhorc\\\\character09\\\\0304_19.png',\n",
       " 'images_background\\\\Anglo-Saxon_Futhorc\\\\character09\\\\0304_20.png',\n",
       " 'images_background\\\\Anglo-Saxon_Futhorc\\\\character10\\\\0305_01.png',\n",
       " 'images_background\\\\Anglo-Saxon_Futhorc\\\\character10\\\\0305_02.png',\n",
       " 'images_background\\\\Anglo-Saxon_Futhorc\\\\character10\\\\0305_03.png',\n",
       " 'images_background\\\\Anglo-Saxon_Futhorc\\\\character10\\\\0305_04.png',\n",
       " 'images_background\\\\Anglo-Saxon_Futhorc\\\\character10\\\\0305_05.png',\n",
       " 'images_background\\\\Anglo-Saxon_Futhorc\\\\character10\\\\0305_06.png',\n",
       " 'images_background\\\\Anglo-Saxon_Futhorc\\\\character10\\\\0305_07.png',\n",
       " 'images_background\\\\Anglo-Saxon_Futhorc\\\\character10\\\\0305_08.png',\n",
       " 'images_background\\\\Anglo-Saxon_Futhorc\\\\character10\\\\0305_09.png',\n",
       " 'images_background\\\\Anglo-Saxon_Futhorc\\\\character10\\\\0305_10.png',\n",
       " 'images_background\\\\Anglo-Saxon_Futhorc\\\\character10\\\\0305_11.png',\n",
       " 'images_background\\\\Anglo-Saxon_Futhorc\\\\character10\\\\0305_12.png',\n",
       " 'images_background\\\\Anglo-Saxon_Futhorc\\\\character10\\\\0305_13.png',\n",
       " 'images_background\\\\Anglo-Saxon_Futhorc\\\\character10\\\\0305_14.png',\n",
       " 'images_background\\\\Anglo-Saxon_Futhorc\\\\character10\\\\0305_15.png',\n",
       " 'images_background\\\\Anglo-Saxon_Futhorc\\\\character10\\\\0305_16.png',\n",
       " 'images_background\\\\Anglo-Saxon_Futhorc\\\\character10\\\\0305_17.png',\n",
       " 'images_background\\\\Anglo-Saxon_Futhorc\\\\character10\\\\0305_18.png',\n",
       " 'images_background\\\\Anglo-Saxon_Futhorc\\\\character10\\\\0305_19.png',\n",
       " 'images_background\\\\Anglo-Saxon_Futhorc\\\\character10\\\\0305_20.png',\n",
       " 'images_background\\\\Anglo-Saxon_Futhorc\\\\character11\\\\0306_01.png',\n",
       " 'images_background\\\\Anglo-Saxon_Futhorc\\\\character11\\\\0306_02.png',\n",
       " 'images_background\\\\Anglo-Saxon_Futhorc\\\\character11\\\\0306_03.png',\n",
       " 'images_background\\\\Anglo-Saxon_Futhorc\\\\character11\\\\0306_04.png',\n",
       " 'images_background\\\\Anglo-Saxon_Futhorc\\\\character11\\\\0306_05.png',\n",
       " 'images_background\\\\Anglo-Saxon_Futhorc\\\\character11\\\\0306_06.png',\n",
       " 'images_background\\\\Anglo-Saxon_Futhorc\\\\character11\\\\0306_07.png',\n",
       " 'images_background\\\\Anglo-Saxon_Futhorc\\\\character11\\\\0306_08.png',\n",
       " 'images_background\\\\Anglo-Saxon_Futhorc\\\\character11\\\\0306_09.png',\n",
       " 'images_background\\\\Anglo-Saxon_Futhorc\\\\character11\\\\0306_10.png',\n",
       " 'images_background\\\\Anglo-Saxon_Futhorc\\\\character11\\\\0306_11.png',\n",
       " 'images_background\\\\Anglo-Saxon_Futhorc\\\\character11\\\\0306_12.png',\n",
       " 'images_background\\\\Anglo-Saxon_Futhorc\\\\character11\\\\0306_13.png',\n",
       " 'images_background\\\\Anglo-Saxon_Futhorc\\\\character11\\\\0306_14.png',\n",
       " 'images_background\\\\Anglo-Saxon_Futhorc\\\\character11\\\\0306_15.png',\n",
       " 'images_background\\\\Anglo-Saxon_Futhorc\\\\character11\\\\0306_16.png',\n",
       " 'images_background\\\\Anglo-Saxon_Futhorc\\\\character11\\\\0306_17.png',\n",
       " 'images_background\\\\Anglo-Saxon_Futhorc\\\\character11\\\\0306_18.png',\n",
       " 'images_background\\\\Anglo-Saxon_Futhorc\\\\character11\\\\0306_19.png',\n",
       " 'images_background\\\\Anglo-Saxon_Futhorc\\\\character11\\\\0306_20.png',\n",
       " 'images_background\\\\Anglo-Saxon_Futhorc\\\\character12\\\\0307_01.png',\n",
       " 'images_background\\\\Anglo-Saxon_Futhorc\\\\character12\\\\0307_02.png',\n",
       " 'images_background\\\\Anglo-Saxon_Futhorc\\\\character12\\\\0307_03.png',\n",
       " 'images_background\\\\Anglo-Saxon_Futhorc\\\\character12\\\\0307_04.png',\n",
       " 'images_background\\\\Anglo-Saxon_Futhorc\\\\character12\\\\0307_05.png',\n",
       " 'images_background\\\\Anglo-Saxon_Futhorc\\\\character12\\\\0307_06.png',\n",
       " 'images_background\\\\Anglo-Saxon_Futhorc\\\\character12\\\\0307_07.png',\n",
       " 'images_background\\\\Anglo-Saxon_Futhorc\\\\character12\\\\0307_08.png',\n",
       " 'images_background\\\\Anglo-Saxon_Futhorc\\\\character12\\\\0307_09.png',\n",
       " 'images_background\\\\Anglo-Saxon_Futhorc\\\\character12\\\\0307_10.png',\n",
       " 'images_background\\\\Anglo-Saxon_Futhorc\\\\character12\\\\0307_11.png',\n",
       " 'images_background\\\\Anglo-Saxon_Futhorc\\\\character12\\\\0307_12.png',\n",
       " 'images_background\\\\Anglo-Saxon_Futhorc\\\\character12\\\\0307_13.png',\n",
       " 'images_background\\\\Anglo-Saxon_Futhorc\\\\character12\\\\0307_14.png',\n",
       " 'images_background\\\\Anglo-Saxon_Futhorc\\\\character12\\\\0307_15.png',\n",
       " 'images_background\\\\Anglo-Saxon_Futhorc\\\\character12\\\\0307_16.png',\n",
       " 'images_background\\\\Anglo-Saxon_Futhorc\\\\character12\\\\0307_17.png',\n",
       " 'images_background\\\\Anglo-Saxon_Futhorc\\\\character12\\\\0307_18.png',\n",
       " 'images_background\\\\Anglo-Saxon_Futhorc\\\\character12\\\\0307_19.png',\n",
       " 'images_background\\\\Anglo-Saxon_Futhorc\\\\character12\\\\0307_20.png',\n",
       " 'images_background\\\\Anglo-Saxon_Futhorc\\\\character13\\\\0308_01.png',\n",
       " 'images_background\\\\Anglo-Saxon_Futhorc\\\\character13\\\\0308_02.png',\n",
       " 'images_background\\\\Anglo-Saxon_Futhorc\\\\character13\\\\0308_03.png',\n",
       " 'images_background\\\\Anglo-Saxon_Futhorc\\\\character13\\\\0308_04.png',\n",
       " 'images_background\\\\Anglo-Saxon_Futhorc\\\\character13\\\\0308_05.png',\n",
       " 'images_background\\\\Anglo-Saxon_Futhorc\\\\character13\\\\0308_06.png',\n",
       " 'images_background\\\\Anglo-Saxon_Futhorc\\\\character13\\\\0308_07.png',\n",
       " 'images_background\\\\Anglo-Saxon_Futhorc\\\\character13\\\\0308_08.png',\n",
       " 'images_background\\\\Anglo-Saxon_Futhorc\\\\character13\\\\0308_09.png',\n",
       " 'images_background\\\\Anglo-Saxon_Futhorc\\\\character13\\\\0308_10.png',\n",
       " 'images_background\\\\Anglo-Saxon_Futhorc\\\\character13\\\\0308_11.png',\n",
       " 'images_background\\\\Anglo-Saxon_Futhorc\\\\character13\\\\0308_12.png',\n",
       " 'images_background\\\\Anglo-Saxon_Futhorc\\\\character13\\\\0308_13.png',\n",
       " 'images_background\\\\Anglo-Saxon_Futhorc\\\\character13\\\\0308_14.png',\n",
       " 'images_background\\\\Anglo-Saxon_Futhorc\\\\character13\\\\0308_15.png',\n",
       " 'images_background\\\\Anglo-Saxon_Futhorc\\\\character13\\\\0308_16.png',\n",
       " 'images_background\\\\Anglo-Saxon_Futhorc\\\\character13\\\\0308_17.png',\n",
       " 'images_background\\\\Anglo-Saxon_Futhorc\\\\character13\\\\0308_18.png',\n",
       " 'images_background\\\\Anglo-Saxon_Futhorc\\\\character13\\\\0308_19.png',\n",
       " 'images_background\\\\Anglo-Saxon_Futhorc\\\\character13\\\\0308_20.png',\n",
       " 'images_background\\\\Anglo-Saxon_Futhorc\\\\character14\\\\0309_01.png',\n",
       " 'images_background\\\\Anglo-Saxon_Futhorc\\\\character14\\\\0309_02.png',\n",
       " 'images_background\\\\Anglo-Saxon_Futhorc\\\\character14\\\\0309_03.png',\n",
       " 'images_background\\\\Anglo-Saxon_Futhorc\\\\character14\\\\0309_04.png',\n",
       " 'images_background\\\\Anglo-Saxon_Futhorc\\\\character14\\\\0309_05.png',\n",
       " 'images_background\\\\Anglo-Saxon_Futhorc\\\\character14\\\\0309_06.png',\n",
       " 'images_background\\\\Anglo-Saxon_Futhorc\\\\character14\\\\0309_07.png',\n",
       " 'images_background\\\\Anglo-Saxon_Futhorc\\\\character14\\\\0309_08.png',\n",
       " 'images_background\\\\Anglo-Saxon_Futhorc\\\\character14\\\\0309_09.png',\n",
       " 'images_background\\\\Anglo-Saxon_Futhorc\\\\character14\\\\0309_10.png',\n",
       " 'images_background\\\\Anglo-Saxon_Futhorc\\\\character14\\\\0309_11.png',\n",
       " 'images_background\\\\Anglo-Saxon_Futhorc\\\\character14\\\\0309_12.png',\n",
       " 'images_background\\\\Anglo-Saxon_Futhorc\\\\character14\\\\0309_13.png',\n",
       " 'images_background\\\\Anglo-Saxon_Futhorc\\\\character14\\\\0309_14.png',\n",
       " 'images_background\\\\Anglo-Saxon_Futhorc\\\\character14\\\\0309_15.png',\n",
       " 'images_background\\\\Anglo-Saxon_Futhorc\\\\character14\\\\0309_16.png',\n",
       " 'images_background\\\\Anglo-Saxon_Futhorc\\\\character14\\\\0309_17.png',\n",
       " 'images_background\\\\Anglo-Saxon_Futhorc\\\\character14\\\\0309_18.png',\n",
       " 'images_background\\\\Anglo-Saxon_Futhorc\\\\character14\\\\0309_19.png',\n",
       " 'images_background\\\\Anglo-Saxon_Futhorc\\\\character14\\\\0309_20.png',\n",
       " 'images_background\\\\Anglo-Saxon_Futhorc\\\\character15\\\\0310_01.png',\n",
       " 'images_background\\\\Anglo-Saxon_Futhorc\\\\character15\\\\0310_02.png',\n",
       " 'images_background\\\\Anglo-Saxon_Futhorc\\\\character15\\\\0310_03.png',\n",
       " 'images_background\\\\Anglo-Saxon_Futhorc\\\\character15\\\\0310_04.png',\n",
       " 'images_background\\\\Anglo-Saxon_Futhorc\\\\character15\\\\0310_05.png',\n",
       " 'images_background\\\\Anglo-Saxon_Futhorc\\\\character15\\\\0310_06.png',\n",
       " 'images_background\\\\Anglo-Saxon_Futhorc\\\\character15\\\\0310_07.png',\n",
       " 'images_background\\\\Anglo-Saxon_Futhorc\\\\character15\\\\0310_08.png',\n",
       " 'images_background\\\\Anglo-Saxon_Futhorc\\\\character15\\\\0310_09.png',\n",
       " 'images_background\\\\Anglo-Saxon_Futhorc\\\\character15\\\\0310_10.png',\n",
       " 'images_background\\\\Anglo-Saxon_Futhorc\\\\character15\\\\0310_11.png',\n",
       " 'images_background\\\\Anglo-Saxon_Futhorc\\\\character15\\\\0310_12.png',\n",
       " 'images_background\\\\Anglo-Saxon_Futhorc\\\\character15\\\\0310_13.png',\n",
       " 'images_background\\\\Anglo-Saxon_Futhorc\\\\character15\\\\0310_14.png',\n",
       " 'images_background\\\\Anglo-Saxon_Futhorc\\\\character15\\\\0310_15.png',\n",
       " 'images_background\\\\Anglo-Saxon_Futhorc\\\\character15\\\\0310_16.png',\n",
       " 'images_background\\\\Anglo-Saxon_Futhorc\\\\character15\\\\0310_17.png',\n",
       " 'images_background\\\\Anglo-Saxon_Futhorc\\\\character15\\\\0310_18.png',\n",
       " 'images_background\\\\Anglo-Saxon_Futhorc\\\\character15\\\\0310_19.png',\n",
       " 'images_background\\\\Anglo-Saxon_Futhorc\\\\character15\\\\0310_20.png',\n",
       " 'images_background\\\\Anglo-Saxon_Futhorc\\\\character16\\\\0311_01.png',\n",
       " 'images_background\\\\Anglo-Saxon_Futhorc\\\\character16\\\\0311_02.png',\n",
       " 'images_background\\\\Anglo-Saxon_Futhorc\\\\character16\\\\0311_03.png',\n",
       " 'images_background\\\\Anglo-Saxon_Futhorc\\\\character16\\\\0311_04.png',\n",
       " 'images_background\\\\Anglo-Saxon_Futhorc\\\\character16\\\\0311_05.png',\n",
       " 'images_background\\\\Anglo-Saxon_Futhorc\\\\character16\\\\0311_06.png',\n",
       " 'images_background\\\\Anglo-Saxon_Futhorc\\\\character16\\\\0311_07.png',\n",
       " 'images_background\\\\Anglo-Saxon_Futhorc\\\\character16\\\\0311_08.png',\n",
       " 'images_background\\\\Anglo-Saxon_Futhorc\\\\character16\\\\0311_09.png',\n",
       " 'images_background\\\\Anglo-Saxon_Futhorc\\\\character16\\\\0311_10.png',\n",
       " 'images_background\\\\Anglo-Saxon_Futhorc\\\\character16\\\\0311_11.png',\n",
       " 'images_background\\\\Anglo-Saxon_Futhorc\\\\character16\\\\0311_12.png',\n",
       " 'images_background\\\\Anglo-Saxon_Futhorc\\\\character16\\\\0311_13.png',\n",
       " 'images_background\\\\Anglo-Saxon_Futhorc\\\\character16\\\\0311_14.png',\n",
       " 'images_background\\\\Anglo-Saxon_Futhorc\\\\character16\\\\0311_15.png',\n",
       " 'images_background\\\\Anglo-Saxon_Futhorc\\\\character16\\\\0311_16.png',\n",
       " 'images_background\\\\Anglo-Saxon_Futhorc\\\\character16\\\\0311_17.png',\n",
       " 'images_background\\\\Anglo-Saxon_Futhorc\\\\character16\\\\0311_18.png',\n",
       " 'images_background\\\\Anglo-Saxon_Futhorc\\\\character16\\\\0311_19.png',\n",
       " 'images_background\\\\Anglo-Saxon_Futhorc\\\\character16\\\\0311_20.png',\n",
       " 'images_background\\\\Anglo-Saxon_Futhorc\\\\character17\\\\0312_01.png',\n",
       " 'images_background\\\\Anglo-Saxon_Futhorc\\\\character17\\\\0312_02.png',\n",
       " 'images_background\\\\Anglo-Saxon_Futhorc\\\\character17\\\\0312_03.png',\n",
       " 'images_background\\\\Anglo-Saxon_Futhorc\\\\character17\\\\0312_04.png',\n",
       " 'images_background\\\\Anglo-Saxon_Futhorc\\\\character17\\\\0312_05.png',\n",
       " 'images_background\\\\Anglo-Saxon_Futhorc\\\\character17\\\\0312_06.png',\n",
       " 'images_background\\\\Anglo-Saxon_Futhorc\\\\character17\\\\0312_07.png',\n",
       " 'images_background\\\\Anglo-Saxon_Futhorc\\\\character17\\\\0312_08.png',\n",
       " 'images_background\\\\Anglo-Saxon_Futhorc\\\\character17\\\\0312_09.png',\n",
       " 'images_background\\\\Anglo-Saxon_Futhorc\\\\character17\\\\0312_10.png',\n",
       " 'images_background\\\\Anglo-Saxon_Futhorc\\\\character17\\\\0312_11.png',\n",
       " 'images_background\\\\Anglo-Saxon_Futhorc\\\\character17\\\\0312_12.png',\n",
       " 'images_background\\\\Anglo-Saxon_Futhorc\\\\character17\\\\0312_13.png',\n",
       " 'images_background\\\\Anglo-Saxon_Futhorc\\\\character17\\\\0312_14.png',\n",
       " 'images_background\\\\Anglo-Saxon_Futhorc\\\\character17\\\\0312_15.png',\n",
       " 'images_background\\\\Anglo-Saxon_Futhorc\\\\character17\\\\0312_16.png',\n",
       " 'images_background\\\\Anglo-Saxon_Futhorc\\\\character17\\\\0312_17.png',\n",
       " 'images_background\\\\Anglo-Saxon_Futhorc\\\\character17\\\\0312_18.png',\n",
       " 'images_background\\\\Anglo-Saxon_Futhorc\\\\character17\\\\0312_19.png',\n",
       " 'images_background\\\\Anglo-Saxon_Futhorc\\\\character17\\\\0312_20.png',\n",
       " 'images_background\\\\Anglo-Saxon_Futhorc\\\\character18\\\\0313_01.png',\n",
       " 'images_background\\\\Anglo-Saxon_Futhorc\\\\character18\\\\0313_02.png',\n",
       " 'images_background\\\\Anglo-Saxon_Futhorc\\\\character18\\\\0313_03.png',\n",
       " 'images_background\\\\Anglo-Saxon_Futhorc\\\\character18\\\\0313_04.png',\n",
       " 'images_background\\\\Anglo-Saxon_Futhorc\\\\character18\\\\0313_05.png',\n",
       " 'images_background\\\\Anglo-Saxon_Futhorc\\\\character18\\\\0313_06.png',\n",
       " 'images_background\\\\Anglo-Saxon_Futhorc\\\\character18\\\\0313_07.png',\n",
       " 'images_background\\\\Anglo-Saxon_Futhorc\\\\character18\\\\0313_08.png',\n",
       " 'images_background\\\\Anglo-Saxon_Futhorc\\\\character18\\\\0313_09.png',\n",
       " 'images_background\\\\Anglo-Saxon_Futhorc\\\\character18\\\\0313_10.png',\n",
       " 'images_background\\\\Anglo-Saxon_Futhorc\\\\character18\\\\0313_11.png',\n",
       " 'images_background\\\\Anglo-Saxon_Futhorc\\\\character18\\\\0313_12.png',\n",
       " 'images_background\\\\Anglo-Saxon_Futhorc\\\\character18\\\\0313_13.png',\n",
       " 'images_background\\\\Anglo-Saxon_Futhorc\\\\character18\\\\0313_14.png',\n",
       " 'images_background\\\\Anglo-Saxon_Futhorc\\\\character18\\\\0313_15.png',\n",
       " 'images_background\\\\Anglo-Saxon_Futhorc\\\\character18\\\\0313_16.png',\n",
       " 'images_background\\\\Anglo-Saxon_Futhorc\\\\character18\\\\0313_17.png',\n",
       " 'images_background\\\\Anglo-Saxon_Futhorc\\\\character18\\\\0313_18.png',\n",
       " 'images_background\\\\Anglo-Saxon_Futhorc\\\\character18\\\\0313_19.png',\n",
       " 'images_background\\\\Anglo-Saxon_Futhorc\\\\character18\\\\0313_20.png',\n",
       " 'images_background\\\\Anglo-Saxon_Futhorc\\\\character19\\\\0314_01.png',\n",
       " 'images_background\\\\Anglo-Saxon_Futhorc\\\\character19\\\\0314_02.png',\n",
       " 'images_background\\\\Anglo-Saxon_Futhorc\\\\character19\\\\0314_03.png',\n",
       " 'images_background\\\\Anglo-Saxon_Futhorc\\\\character19\\\\0314_04.png',\n",
       " 'images_background\\\\Anglo-Saxon_Futhorc\\\\character19\\\\0314_05.png',\n",
       " 'images_background\\\\Anglo-Saxon_Futhorc\\\\character19\\\\0314_06.png',\n",
       " 'images_background\\\\Anglo-Saxon_Futhorc\\\\character19\\\\0314_07.png',\n",
       " 'images_background\\\\Anglo-Saxon_Futhorc\\\\character19\\\\0314_08.png',\n",
       " 'images_background\\\\Anglo-Saxon_Futhorc\\\\character19\\\\0314_09.png',\n",
       " 'images_background\\\\Anglo-Saxon_Futhorc\\\\character19\\\\0314_10.png',\n",
       " 'images_background\\\\Anglo-Saxon_Futhorc\\\\character19\\\\0314_11.png',\n",
       " 'images_background\\\\Anglo-Saxon_Futhorc\\\\character19\\\\0314_12.png',\n",
       " 'images_background\\\\Anglo-Saxon_Futhorc\\\\character19\\\\0314_13.png',\n",
       " 'images_background\\\\Anglo-Saxon_Futhorc\\\\character19\\\\0314_14.png',\n",
       " 'images_background\\\\Anglo-Saxon_Futhorc\\\\character19\\\\0314_15.png',\n",
       " 'images_background\\\\Anglo-Saxon_Futhorc\\\\character19\\\\0314_16.png',\n",
       " 'images_background\\\\Anglo-Saxon_Futhorc\\\\character19\\\\0314_17.png',\n",
       " 'images_background\\\\Anglo-Saxon_Futhorc\\\\character19\\\\0314_18.png',\n",
       " 'images_background\\\\Anglo-Saxon_Futhorc\\\\character19\\\\0314_19.png',\n",
       " 'images_background\\\\Anglo-Saxon_Futhorc\\\\character19\\\\0314_20.png',\n",
       " 'images_background\\\\Anglo-Saxon_Futhorc\\\\character20\\\\0315_01.png',\n",
       " 'images_background\\\\Anglo-Saxon_Futhorc\\\\character20\\\\0315_02.png',\n",
       " 'images_background\\\\Anglo-Saxon_Futhorc\\\\character20\\\\0315_03.png',\n",
       " 'images_background\\\\Anglo-Saxon_Futhorc\\\\character20\\\\0315_04.png',\n",
       " 'images_background\\\\Anglo-Saxon_Futhorc\\\\character20\\\\0315_05.png',\n",
       " 'images_background\\\\Anglo-Saxon_Futhorc\\\\character20\\\\0315_06.png',\n",
       " 'images_background\\\\Anglo-Saxon_Futhorc\\\\character20\\\\0315_07.png',\n",
       " 'images_background\\\\Anglo-Saxon_Futhorc\\\\character20\\\\0315_08.png',\n",
       " 'images_background\\\\Anglo-Saxon_Futhorc\\\\character20\\\\0315_09.png',\n",
       " 'images_background\\\\Anglo-Saxon_Futhorc\\\\character20\\\\0315_10.png',\n",
       " 'images_background\\\\Anglo-Saxon_Futhorc\\\\character20\\\\0315_11.png',\n",
       " 'images_background\\\\Anglo-Saxon_Futhorc\\\\character20\\\\0315_12.png',\n",
       " 'images_background\\\\Anglo-Saxon_Futhorc\\\\character20\\\\0315_13.png',\n",
       " 'images_background\\\\Anglo-Saxon_Futhorc\\\\character20\\\\0315_14.png',\n",
       " 'images_background\\\\Anglo-Saxon_Futhorc\\\\character20\\\\0315_15.png',\n",
       " 'images_background\\\\Anglo-Saxon_Futhorc\\\\character20\\\\0315_16.png',\n",
       " 'images_background\\\\Anglo-Saxon_Futhorc\\\\character20\\\\0315_17.png',\n",
       " 'images_background\\\\Anglo-Saxon_Futhorc\\\\character20\\\\0315_18.png',\n",
       " 'images_background\\\\Anglo-Saxon_Futhorc\\\\character20\\\\0315_19.png',\n",
       " 'images_background\\\\Anglo-Saxon_Futhorc\\\\character20\\\\0315_20.png',\n",
       " 'images_background\\\\Anglo-Saxon_Futhorc\\\\character21\\\\0316_01.png',\n",
       " 'images_background\\\\Anglo-Saxon_Futhorc\\\\character21\\\\0316_02.png',\n",
       " 'images_background\\\\Anglo-Saxon_Futhorc\\\\character21\\\\0316_03.png',\n",
       " 'images_background\\\\Anglo-Saxon_Futhorc\\\\character21\\\\0316_04.png',\n",
       " 'images_background\\\\Anglo-Saxon_Futhorc\\\\character21\\\\0316_05.png',\n",
       " 'images_background\\\\Anglo-Saxon_Futhorc\\\\character21\\\\0316_06.png',\n",
       " 'images_background\\\\Anglo-Saxon_Futhorc\\\\character21\\\\0316_07.png',\n",
       " 'images_background\\\\Anglo-Saxon_Futhorc\\\\character21\\\\0316_08.png',\n",
       " 'images_background\\\\Anglo-Saxon_Futhorc\\\\character21\\\\0316_09.png',\n",
       " 'images_background\\\\Anglo-Saxon_Futhorc\\\\character21\\\\0316_10.png',\n",
       " 'images_background\\\\Anglo-Saxon_Futhorc\\\\character21\\\\0316_11.png',\n",
       " 'images_background\\\\Anglo-Saxon_Futhorc\\\\character21\\\\0316_12.png',\n",
       " 'images_background\\\\Anglo-Saxon_Futhorc\\\\character21\\\\0316_13.png',\n",
       " 'images_background\\\\Anglo-Saxon_Futhorc\\\\character21\\\\0316_14.png',\n",
       " 'images_background\\\\Anglo-Saxon_Futhorc\\\\character21\\\\0316_15.png',\n",
       " 'images_background\\\\Anglo-Saxon_Futhorc\\\\character21\\\\0316_16.png',\n",
       " 'images_background\\\\Anglo-Saxon_Futhorc\\\\character21\\\\0316_17.png',\n",
       " 'images_background\\\\Anglo-Saxon_Futhorc\\\\character21\\\\0316_18.png',\n",
       " 'images_background\\\\Anglo-Saxon_Futhorc\\\\character21\\\\0316_19.png',\n",
       " 'images_background\\\\Anglo-Saxon_Futhorc\\\\character21\\\\0316_20.png',\n",
       " 'images_background\\\\Anglo-Saxon_Futhorc\\\\character22\\\\0317_01.png',\n",
       " 'images_background\\\\Anglo-Saxon_Futhorc\\\\character22\\\\0317_02.png',\n",
       " 'images_background\\\\Anglo-Saxon_Futhorc\\\\character22\\\\0317_03.png',\n",
       " 'images_background\\\\Anglo-Saxon_Futhorc\\\\character22\\\\0317_04.png',\n",
       " 'images_background\\\\Anglo-Saxon_Futhorc\\\\character22\\\\0317_05.png',\n",
       " 'images_background\\\\Anglo-Saxon_Futhorc\\\\character22\\\\0317_06.png',\n",
       " 'images_background\\\\Anglo-Saxon_Futhorc\\\\character22\\\\0317_07.png',\n",
       " 'images_background\\\\Anglo-Saxon_Futhorc\\\\character22\\\\0317_08.png',\n",
       " 'images_background\\\\Anglo-Saxon_Futhorc\\\\character22\\\\0317_09.png',\n",
       " 'images_background\\\\Anglo-Saxon_Futhorc\\\\character22\\\\0317_10.png',\n",
       " 'images_background\\\\Anglo-Saxon_Futhorc\\\\character22\\\\0317_11.png',\n",
       " 'images_background\\\\Anglo-Saxon_Futhorc\\\\character22\\\\0317_12.png',\n",
       " 'images_background\\\\Anglo-Saxon_Futhorc\\\\character22\\\\0317_13.png',\n",
       " 'images_background\\\\Anglo-Saxon_Futhorc\\\\character22\\\\0317_14.png',\n",
       " 'images_background\\\\Anglo-Saxon_Futhorc\\\\character22\\\\0317_15.png',\n",
       " 'images_background\\\\Anglo-Saxon_Futhorc\\\\character22\\\\0317_16.png',\n",
       " 'images_background\\\\Anglo-Saxon_Futhorc\\\\character22\\\\0317_17.png',\n",
       " 'images_background\\\\Anglo-Saxon_Futhorc\\\\character22\\\\0317_18.png',\n",
       " 'images_background\\\\Anglo-Saxon_Futhorc\\\\character22\\\\0317_19.png',\n",
       " 'images_background\\\\Anglo-Saxon_Futhorc\\\\character22\\\\0317_20.png',\n",
       " 'images_background\\\\Anglo-Saxon_Futhorc\\\\character23\\\\0318_01.png',\n",
       " 'images_background\\\\Anglo-Saxon_Futhorc\\\\character23\\\\0318_02.png',\n",
       " 'images_background\\\\Anglo-Saxon_Futhorc\\\\character23\\\\0318_03.png',\n",
       " 'images_background\\\\Anglo-Saxon_Futhorc\\\\character23\\\\0318_04.png',\n",
       " 'images_background\\\\Anglo-Saxon_Futhorc\\\\character23\\\\0318_05.png',\n",
       " 'images_background\\\\Anglo-Saxon_Futhorc\\\\character23\\\\0318_06.png',\n",
       " 'images_background\\\\Anglo-Saxon_Futhorc\\\\character23\\\\0318_07.png',\n",
       " 'images_background\\\\Anglo-Saxon_Futhorc\\\\character23\\\\0318_08.png',\n",
       " 'images_background\\\\Anglo-Saxon_Futhorc\\\\character23\\\\0318_09.png',\n",
       " 'images_background\\\\Anglo-Saxon_Futhorc\\\\character23\\\\0318_10.png',\n",
       " 'images_background\\\\Anglo-Saxon_Futhorc\\\\character23\\\\0318_11.png',\n",
       " 'images_background\\\\Anglo-Saxon_Futhorc\\\\character23\\\\0318_12.png',\n",
       " 'images_background\\\\Anglo-Saxon_Futhorc\\\\character23\\\\0318_13.png',\n",
       " 'images_background\\\\Anglo-Saxon_Futhorc\\\\character23\\\\0318_14.png',\n",
       " 'images_background\\\\Anglo-Saxon_Futhorc\\\\character23\\\\0318_15.png',\n",
       " 'images_background\\\\Anglo-Saxon_Futhorc\\\\character23\\\\0318_16.png',\n",
       " 'images_background\\\\Anglo-Saxon_Futhorc\\\\character23\\\\0318_17.png',\n",
       " 'images_background\\\\Anglo-Saxon_Futhorc\\\\character23\\\\0318_18.png',\n",
       " 'images_background\\\\Anglo-Saxon_Futhorc\\\\character23\\\\0318_19.png',\n",
       " 'images_background\\\\Anglo-Saxon_Futhorc\\\\character23\\\\0318_20.png',\n",
       " 'images_background\\\\Anglo-Saxon_Futhorc\\\\character24\\\\0319_01.png',\n",
       " 'images_background\\\\Anglo-Saxon_Futhorc\\\\character24\\\\0319_02.png',\n",
       " 'images_background\\\\Anglo-Saxon_Futhorc\\\\character24\\\\0319_03.png',\n",
       " 'images_background\\\\Anglo-Saxon_Futhorc\\\\character24\\\\0319_04.png',\n",
       " 'images_background\\\\Anglo-Saxon_Futhorc\\\\character24\\\\0319_05.png',\n",
       " 'images_background\\\\Anglo-Saxon_Futhorc\\\\character24\\\\0319_06.png',\n",
       " 'images_background\\\\Anglo-Saxon_Futhorc\\\\character24\\\\0319_07.png',\n",
       " 'images_background\\\\Anglo-Saxon_Futhorc\\\\character24\\\\0319_08.png',\n",
       " 'images_background\\\\Anglo-Saxon_Futhorc\\\\character24\\\\0319_09.png',\n",
       " 'images_background\\\\Anglo-Saxon_Futhorc\\\\character24\\\\0319_10.png',\n",
       " 'images_background\\\\Anglo-Saxon_Futhorc\\\\character24\\\\0319_11.png',\n",
       " 'images_background\\\\Anglo-Saxon_Futhorc\\\\character24\\\\0319_12.png',\n",
       " 'images_background\\\\Anglo-Saxon_Futhorc\\\\character24\\\\0319_13.png',\n",
       " 'images_background\\\\Anglo-Saxon_Futhorc\\\\character24\\\\0319_14.png',\n",
       " 'images_background\\\\Anglo-Saxon_Futhorc\\\\character24\\\\0319_15.png',\n",
       " 'images_background\\\\Anglo-Saxon_Futhorc\\\\character24\\\\0319_16.png',\n",
       " 'images_background\\\\Anglo-Saxon_Futhorc\\\\character24\\\\0319_17.png',\n",
       " 'images_background\\\\Anglo-Saxon_Futhorc\\\\character24\\\\0319_18.png',\n",
       " 'images_background\\\\Anglo-Saxon_Futhorc\\\\character24\\\\0319_19.png',\n",
       " 'images_background\\\\Anglo-Saxon_Futhorc\\\\character24\\\\0319_20.png',\n",
       " 'images_background\\\\Anglo-Saxon_Futhorc\\\\character25\\\\0320_01.png',\n",
       " 'images_background\\\\Anglo-Saxon_Futhorc\\\\character25\\\\0320_02.png',\n",
       " 'images_background\\\\Anglo-Saxon_Futhorc\\\\character25\\\\0320_03.png',\n",
       " 'images_background\\\\Anglo-Saxon_Futhorc\\\\character25\\\\0320_04.png',\n",
       " 'images_background\\\\Anglo-Saxon_Futhorc\\\\character25\\\\0320_05.png',\n",
       " 'images_background\\\\Anglo-Saxon_Futhorc\\\\character25\\\\0320_06.png',\n",
       " 'images_background\\\\Anglo-Saxon_Futhorc\\\\character25\\\\0320_07.png',\n",
       " 'images_background\\\\Anglo-Saxon_Futhorc\\\\character25\\\\0320_08.png',\n",
       " 'images_background\\\\Anglo-Saxon_Futhorc\\\\character25\\\\0320_09.png',\n",
       " 'images_background\\\\Anglo-Saxon_Futhorc\\\\character25\\\\0320_10.png',\n",
       " 'images_background\\\\Anglo-Saxon_Futhorc\\\\character25\\\\0320_11.png',\n",
       " 'images_background\\\\Anglo-Saxon_Futhorc\\\\character25\\\\0320_12.png',\n",
       " 'images_background\\\\Anglo-Saxon_Futhorc\\\\character25\\\\0320_13.png',\n",
       " 'images_background\\\\Anglo-Saxon_Futhorc\\\\character25\\\\0320_14.png',\n",
       " 'images_background\\\\Anglo-Saxon_Futhorc\\\\character25\\\\0320_15.png',\n",
       " 'images_background\\\\Anglo-Saxon_Futhorc\\\\character25\\\\0320_16.png',\n",
       " 'images_background\\\\Anglo-Saxon_Futhorc\\\\character25\\\\0320_17.png',\n",
       " 'images_background\\\\Anglo-Saxon_Futhorc\\\\character25\\\\0320_18.png',\n",
       " 'images_background\\\\Anglo-Saxon_Futhorc\\\\character25\\\\0320_19.png',\n",
       " 'images_background\\\\Anglo-Saxon_Futhorc\\\\character25\\\\0320_20.png',\n",
       " 'images_background\\\\Anglo-Saxon_Futhorc\\\\character26\\\\0321_01.png',\n",
       " 'images_background\\\\Anglo-Saxon_Futhorc\\\\character26\\\\0321_02.png',\n",
       " 'images_background\\\\Anglo-Saxon_Futhorc\\\\character26\\\\0321_03.png',\n",
       " 'images_background\\\\Anglo-Saxon_Futhorc\\\\character26\\\\0321_04.png',\n",
       " 'images_background\\\\Anglo-Saxon_Futhorc\\\\character26\\\\0321_05.png',\n",
       " 'images_background\\\\Anglo-Saxon_Futhorc\\\\character26\\\\0321_06.png',\n",
       " 'images_background\\\\Anglo-Saxon_Futhorc\\\\character26\\\\0321_07.png',\n",
       " 'images_background\\\\Anglo-Saxon_Futhorc\\\\character26\\\\0321_08.png',\n",
       " 'images_background\\\\Anglo-Saxon_Futhorc\\\\character26\\\\0321_09.png',\n",
       " 'images_background\\\\Anglo-Saxon_Futhorc\\\\character26\\\\0321_10.png',\n",
       " 'images_background\\\\Anglo-Saxon_Futhorc\\\\character26\\\\0321_11.png',\n",
       " 'images_background\\\\Anglo-Saxon_Futhorc\\\\character26\\\\0321_12.png',\n",
       " 'images_background\\\\Anglo-Saxon_Futhorc\\\\character26\\\\0321_13.png',\n",
       " 'images_background\\\\Anglo-Saxon_Futhorc\\\\character26\\\\0321_14.png',\n",
       " 'images_background\\\\Anglo-Saxon_Futhorc\\\\character26\\\\0321_15.png',\n",
       " 'images_background\\\\Anglo-Saxon_Futhorc\\\\character26\\\\0321_16.png',\n",
       " 'images_background\\\\Anglo-Saxon_Futhorc\\\\character26\\\\0321_17.png',\n",
       " 'images_background\\\\Anglo-Saxon_Futhorc\\\\character26\\\\0321_18.png',\n",
       " 'images_background\\\\Anglo-Saxon_Futhorc\\\\character26\\\\0321_19.png',\n",
       " 'images_background\\\\Anglo-Saxon_Futhorc\\\\character26\\\\0321_20.png',\n",
       " 'images_background\\\\Anglo-Saxon_Futhorc\\\\character27\\\\0322_01.png',\n",
       " 'images_background\\\\Anglo-Saxon_Futhorc\\\\character27\\\\0322_02.png',\n",
       " 'images_background\\\\Anglo-Saxon_Futhorc\\\\character27\\\\0322_03.png',\n",
       " 'images_background\\\\Anglo-Saxon_Futhorc\\\\character27\\\\0322_04.png',\n",
       " 'images_background\\\\Anglo-Saxon_Futhorc\\\\character27\\\\0322_05.png',\n",
       " 'images_background\\\\Anglo-Saxon_Futhorc\\\\character27\\\\0322_06.png',\n",
       " 'images_background\\\\Anglo-Saxon_Futhorc\\\\character27\\\\0322_07.png',\n",
       " 'images_background\\\\Anglo-Saxon_Futhorc\\\\character27\\\\0322_08.png',\n",
       " 'images_background\\\\Anglo-Saxon_Futhorc\\\\character27\\\\0322_09.png',\n",
       " 'images_background\\\\Anglo-Saxon_Futhorc\\\\character27\\\\0322_10.png',\n",
       " 'images_background\\\\Anglo-Saxon_Futhorc\\\\character27\\\\0322_11.png',\n",
       " 'images_background\\\\Anglo-Saxon_Futhorc\\\\character27\\\\0322_12.png',\n",
       " 'images_background\\\\Anglo-Saxon_Futhorc\\\\character27\\\\0322_13.png',\n",
       " 'images_background\\\\Anglo-Saxon_Futhorc\\\\character27\\\\0322_14.png',\n",
       " 'images_background\\\\Anglo-Saxon_Futhorc\\\\character27\\\\0322_15.png',\n",
       " 'images_background\\\\Anglo-Saxon_Futhorc\\\\character27\\\\0322_16.png',\n",
       " 'images_background\\\\Anglo-Saxon_Futhorc\\\\character27\\\\0322_17.png',\n",
       " 'images_background\\\\Anglo-Saxon_Futhorc\\\\character27\\\\0322_18.png',\n",
       " 'images_background\\\\Anglo-Saxon_Futhorc\\\\character27\\\\0322_19.png',\n",
       " 'images_background\\\\Anglo-Saxon_Futhorc\\\\character27\\\\0322_20.png',\n",
       " 'images_background\\\\Anglo-Saxon_Futhorc\\\\character28\\\\0323_01.png',\n",
       " 'images_background\\\\Anglo-Saxon_Futhorc\\\\character28\\\\0323_02.png',\n",
       " 'images_background\\\\Anglo-Saxon_Futhorc\\\\character28\\\\0323_03.png',\n",
       " 'images_background\\\\Anglo-Saxon_Futhorc\\\\character28\\\\0323_04.png',\n",
       " 'images_background\\\\Anglo-Saxon_Futhorc\\\\character28\\\\0323_05.png',\n",
       " 'images_background\\\\Anglo-Saxon_Futhorc\\\\character28\\\\0323_06.png',\n",
       " 'images_background\\\\Anglo-Saxon_Futhorc\\\\character28\\\\0323_07.png',\n",
       " 'images_background\\\\Anglo-Saxon_Futhorc\\\\character28\\\\0323_08.png',\n",
       " 'images_background\\\\Anglo-Saxon_Futhorc\\\\character28\\\\0323_09.png',\n",
       " 'images_background\\\\Anglo-Saxon_Futhorc\\\\character28\\\\0323_10.png',\n",
       " 'images_background\\\\Anglo-Saxon_Futhorc\\\\character28\\\\0323_11.png',\n",
       " 'images_background\\\\Anglo-Saxon_Futhorc\\\\character28\\\\0323_12.png',\n",
       " 'images_background\\\\Anglo-Saxon_Futhorc\\\\character28\\\\0323_13.png',\n",
       " 'images_background\\\\Anglo-Saxon_Futhorc\\\\character28\\\\0323_14.png',\n",
       " 'images_background\\\\Anglo-Saxon_Futhorc\\\\character28\\\\0323_15.png',\n",
       " 'images_background\\\\Anglo-Saxon_Futhorc\\\\character28\\\\0323_16.png',\n",
       " 'images_background\\\\Anglo-Saxon_Futhorc\\\\character28\\\\0323_17.png',\n",
       " 'images_background\\\\Anglo-Saxon_Futhorc\\\\character28\\\\0323_18.png',\n",
       " 'images_background\\\\Anglo-Saxon_Futhorc\\\\character28\\\\0323_19.png',\n",
       " 'images_background\\\\Anglo-Saxon_Futhorc\\\\character28\\\\0323_20.png',\n",
       " 'images_background\\\\Anglo-Saxon_Futhorc\\\\character29\\\\0324_01.png',\n",
       " 'images_background\\\\Anglo-Saxon_Futhorc\\\\character29\\\\0324_02.png',\n",
       " 'images_background\\\\Anglo-Saxon_Futhorc\\\\character29\\\\0324_03.png',\n",
       " 'images_background\\\\Anglo-Saxon_Futhorc\\\\character29\\\\0324_04.png',\n",
       " 'images_background\\\\Anglo-Saxon_Futhorc\\\\character29\\\\0324_05.png',\n",
       " 'images_background\\\\Anglo-Saxon_Futhorc\\\\character29\\\\0324_06.png',\n",
       " 'images_background\\\\Anglo-Saxon_Futhorc\\\\character29\\\\0324_07.png',\n",
       " 'images_background\\\\Anglo-Saxon_Futhorc\\\\character29\\\\0324_08.png',\n",
       " 'images_background\\\\Anglo-Saxon_Futhorc\\\\character29\\\\0324_09.png',\n",
       " 'images_background\\\\Anglo-Saxon_Futhorc\\\\character29\\\\0324_10.png',\n",
       " 'images_background\\\\Anglo-Saxon_Futhorc\\\\character29\\\\0324_11.png',\n",
       " 'images_background\\\\Anglo-Saxon_Futhorc\\\\character29\\\\0324_12.png',\n",
       " 'images_background\\\\Anglo-Saxon_Futhorc\\\\character29\\\\0324_13.png',\n",
       " 'images_background\\\\Anglo-Saxon_Futhorc\\\\character29\\\\0324_14.png',\n",
       " 'images_background\\\\Anglo-Saxon_Futhorc\\\\character29\\\\0324_15.png',\n",
       " 'images_background\\\\Anglo-Saxon_Futhorc\\\\character29\\\\0324_16.png',\n",
       " 'images_background\\\\Anglo-Saxon_Futhorc\\\\character29\\\\0324_17.png',\n",
       " 'images_background\\\\Anglo-Saxon_Futhorc\\\\character29\\\\0324_18.png',\n",
       " 'images_background\\\\Anglo-Saxon_Futhorc\\\\character29\\\\0324_19.png',\n",
       " 'images_background\\\\Anglo-Saxon_Futhorc\\\\character29\\\\0324_20.png',\n",
       " 'images_background\\\\Arcadian\\\\character01\\\\0001_01.png',\n",
       " 'images_background\\\\Arcadian\\\\character01\\\\0001_02.png',\n",
       " 'images_background\\\\Arcadian\\\\character01\\\\0001_03.png',\n",
       " 'images_background\\\\Arcadian\\\\character01\\\\0001_04.png',\n",
       " 'images_background\\\\Arcadian\\\\character01\\\\0001_05.png',\n",
       " 'images_background\\\\Arcadian\\\\character01\\\\0001_06.png',\n",
       " 'images_background\\\\Arcadian\\\\character01\\\\0001_07.png',\n",
       " 'images_background\\\\Arcadian\\\\character01\\\\0001_08.png',\n",
       " 'images_background\\\\Arcadian\\\\character01\\\\0001_09.png',\n",
       " 'images_background\\\\Arcadian\\\\character01\\\\0001_10.png',\n",
       " 'images_background\\\\Arcadian\\\\character01\\\\0001_11.png',\n",
       " 'images_background\\\\Arcadian\\\\character01\\\\0001_12.png',\n",
       " 'images_background\\\\Arcadian\\\\character01\\\\0001_13.png',\n",
       " 'images_background\\\\Arcadian\\\\character01\\\\0001_14.png',\n",
       " 'images_background\\\\Arcadian\\\\character01\\\\0001_15.png',\n",
       " 'images_background\\\\Arcadian\\\\character01\\\\0001_16.png',\n",
       " 'images_background\\\\Arcadian\\\\character01\\\\0001_17.png',\n",
       " 'images_background\\\\Arcadian\\\\character01\\\\0001_18.png',\n",
       " 'images_background\\\\Arcadian\\\\character01\\\\0001_19.png',\n",
       " 'images_background\\\\Arcadian\\\\character01\\\\0001_20.png',\n",
       " ...]"
      ]
     },
     "execution_count": 9,
     "metadata": {},
     "output_type": "execute_result"
    }
   ],
   "source": [
    "glob.glob(\"{}*/*/*.png\".format(PATH))\n"
   ]
  },
  {
   "cell_type": "markdown",
   "metadata": {},
   "source": [
    "Then we determine the total number of images in the dataset."
   ]
  },
  {
   "cell_type": "code",
   "execution_count": 13,
   "metadata": {
    "scrolled": true
   },
   "outputs": [
    {
     "data": {
      "text/plain": [
       "19280"
      ]
     },
     "execution_count": 13,
     "metadata": {},
     "output_type": "execute_result"
    }
   ],
   "source": [
    "len(glob.glob(\"{}*/*/*.png\".format(PATH)))"
   ]
  },
  {
   "cell_type": "markdown",
   "metadata": {},
   "source": [
    "We print an image of the dataset, convert it to an array and resize it."
   ]
  },
  {
   "cell_type": "code",
   "execution_count": 14,
   "metadata": {},
   "outputs": [
    {
     "data": {
      "image/png": "[encoded data removed]",
      "text/plain": [
       "<PIL.PngImagePlugin.PngImageFile image mode=1 size=105x105 at 0x1CAE6BE6E80>"
      ]
     },
     "execution_count": 14,
     "metadata": {},
     "output_type": "execute_result"
    }
   ],
   "source": [
    "pic = Image.open(imagePath[0])\n",
    "pic.size\n",
    "pic"
   ]
  },
  {
   "cell_type": "code",
   "execution_count": 12,
   "metadata": {
    "scrolled": true
   },
   "outputs": [
    {
     "name": "stdout",
     "output_type": "stream",
     "text": [
      "11025\n",
      "4096\n"
     ]
    },
    {
     "data": {
      "image/png": "[encoded data removed]",
      "text/plain": [
       "<Figure size 432x288 with 1 Axes>"
      ]
     },
     "metadata": {},
     "output_type": "display_data"
    }
   ],
   "source": [
    "imagePath = glob.glob(\"{}*/*/*.png\".format(PATH))\n",
    "picture = mpimg.imread(imagePath[0])\n",
    "plt.imshow(picture)\n",
    "print(picture.size)\n",
    "\n",
    "image = resize(picture, (SZ,SZ), mode='constant')\n",
    "image.shape\n",
    "plt.imshow(image)\n",
    "print(image.size)"
   ]
  },
  {
   "cell_type": "markdown",
   "metadata": {},
   "source": [
    "We convert all images into arrays and resize them to the 64x64 format. We concatenate all arrays into the variable im_array"
   ]
  },
  {
   "cell_type": "code",
   "execution_count": 15,
   "metadata": {},
   "outputs": [
    {
     "name": "stdout",
     "output_type": "stream",
     "text": [
      "(19280, 64, 64)\n"
     ]
    }
   ],
   "source": [
    "#Transform in array and resize all 19280 images \n",
    "im_array = numpy.array([resize(mpimg.imread(i), (SZ,SZ), mode='constant') for i in imagePath] )\n",
    "print (im_array.shape)"
   ]
  },
  {
   "cell_type": "markdown",
   "metadata": {},
   "source": [
    "We reshape the image to take into account the number of channel, which is 1 here."
   ]
  },
  {
   "cell_type": "code",
   "execution_count": 16,
   "metadata": {},
   "outputs": [
    {
     "name": "stdout",
     "output_type": "stream",
     "text": [
      "(19280, 64, 64, 1)\n"
     ]
    }
   ],
   "source": [
    "im_array= im_array.reshape(im_array.shape[0],im_array.shape[1],im_array.shape[2],1)\n",
    "print(im_array.shape)"
   ]
  },
  {
   "cell_type": "markdown",
   "metadata": {},
   "source": [
    "### Split Train/ validation\n"
   ]
  },
  {
   "cell_type": "markdown",
   "metadata": {},
   "source": [
    "We split the traning set into Train and validation sets of pictures"
   ]
  },
  {
   "cell_type": "code",
   "execution_count": 17,
   "metadata": {},
   "outputs": [],
   "source": [
    "X_train, X_test, Y_train, Y_test = train_test_split(im_array, class_char, test_size=0.3, stratify= class_char)"
   ]
  },
  {
   "cell_type": "code",
   "execution_count": 18,
   "metadata": {},
   "outputs": [
    {
     "data": {
      "text/plain": [
       "((13496, 64, 64, 1), (5784, 64, 64, 1), (13496, 1), (5784, 1))"
      ]
     },
     "execution_count": 18,
     "metadata": {},
     "output_type": "execute_result"
    }
   ],
   "source": [
    "X_train.shape, X_test.shape, Y_train.shape, Y_test.shape"
   ]
  },
  {
   "cell_type": "markdown",
   "metadata": {},
   "source": [
    "### Triplet loss function"
   ]
  },
  {
   "cell_type": "markdown",
   "metadata": {},
   "source": [
    "Our loss function is determined by the following triplet loss function"
   ]
  },
  {
   "cell_type": "code",
   "execution_count": 19,
   "metadata": {},
   "outputs": [],
   "source": [
    "def triplet_loss(y_true, y_pred, alpha = 0.2):\n",
    "    \"\"\"\n",
    "    Implementation of the triplet loss\n",
    "    \n",
    "    Arguments:\n",
    "    y_true -- true labels, required when you define a loss in Keras, you don't need it in this function.\n",
    "    y_pred -- python list containing three objects:\n",
    "            anchor -- the encodings for the anchor images, of shape (None, 64)\n",
    "            positive -- the encodings for the positive images, of shape (None, 64)\n",
    "            negative -- the encodings for the negative images, of shape (None, 64)\n",
    "    \n",
    "    Returns:\n",
    "    loss -- real number, value of the loss\n",
    "    \"\"\"\n",
    "    \n",
    "    anchor, positive, negative = y_pred[:,0:64], y_pred[:,64:128], y_pred[:,128:192]\n",
    "    \n",
    "    ### START CODE HERE ### (≈ 4 lines)\n",
    "    # Step 1: Compute the (encoding) distance between the anchor and the positive, you will need to sum over axis=-1\n",
    "    pos_dist = tf.reduce_sum(tf.square(tf.subtract(anchor, positive)), axis = -1)\n",
    "    # Step 2: Compute the (encoding) distance between the anchor and the negative, you will need to sum over axis=-1\n",
    "    neg_dist = tf.reduce_sum(tf.square(tf.subtract(anchor, negative)), axis = -1)\n",
    "    # Step 3: subtract the two previous distances and add alpha.\n",
    "    basic_loss = tf.add(tf.subtract(pos_dist, neg_dist), alpha)\n",
    "    # Step 4: Take the maximum of basic_loss and 0.0. Sum over the training examples.\n",
    "    loss = tf.reduce_sum(tf.maximum(basic_loss, 0))\n",
    "    ### END CODE HERE ###\n",
    "    \n",
    "    return loss"
   ]
  },
  {
   "cell_type": "markdown",
   "metadata": {},
   "source": [
    "Triplet Creation"
   ]
  },
  {
   "cell_type": "code",
   "execution_count": 20,
   "metadata": {},
   "outputs": [],
   "source": [
    "#Create triplet\n",
    "\n",
    "def create_triplets(X, Y):\n",
    "    Y=Y.reshape(Y.shape[0],)\n",
    "    A=[]\n",
    "    P=[]\n",
    "    N=[]\n",
    "    for i in range(np.max(Y)):  \n",
    "        list_pos = X[Y==Y[i]]\n",
    "        for j in list_pos:\n",
    "            rand_num = np.random.randint(X.shape[0])\n",
    "            if np.array_equal(X[i],j) == False:\n",
    "                A.append(X[i])\n",
    "                P.append(j)\n",
    "                while np.array_equal(Y[rand_num], Y[i]):\n",
    "                    rand_num = np.random.randint(X.shape[0])\n",
    "                N.append(X[rand_num])\n",
    "    A=np.array(A)\n",
    "    P=np.array(P)\n",
    "    N=np.array(N)\n",
    "    return (A, P, N)\n",
    "    "
   ]
  },
  {
   "cell_type": "code",
   "execution_count": 21,
   "metadata": {},
   "outputs": [],
   "source": [
    "#Create triplet\n",
    "\n",
    "def create_triplets_10(X, Y):\n",
    "    Y = Y.reshape(Y.shape[0],)\n",
    "    A = []\n",
    "    P = []\n",
    "    N = []\n",
    "    for i in range(X.shape[0]):  \n",
    "        list_pos = X[Y==Y[i]]\n",
    "        for j in list_pos:\n",
    "            for k in range(1):\n",
    "                rand_num = np.random.randint(X.shape[0])\n",
    "                if np.array_equal(X[i],j) == False:\n",
    "                    A.append(X[i])\n",
    "                    P.append(j)\n",
    "                    while np.array_equal(Y[rand_num], Y[i]):\n",
    "                        rand_num = np.random.randint(X.shape[0])\n",
    "                    N.append(X[rand_num])\n",
    "    \n",
    "    A = np.array(A)\n",
    "    P = np.array(P)\n",
    "    N = np.array(N)\n",
    "    return (A, P, N)"
   ]
  },
  {
   "cell_type": "code",
   "execution_count": 22,
   "metadata": {},
   "outputs": [],
   "source": [
    "#Create triplet\n",
    "\n",
    "def create_triplets_full(X, Y):\n",
    "    Y = Y.reshape(Y.shape[0],)\n",
    "    A = []\n",
    "    P = []\n",
    "    N = []\n",
    "    for i in range(X.shape[0]):  \n",
    "        list_pos = X[Y==Y[i]]\n",
    "        for j in list_pos:\n",
    "            for k in range(X.shape[0]):\n",
    "                if np.array_equal(X[i],j) == False:\n",
    "                    if np.array_equal(Y[i],Y[k]) == False:\n",
    "                        A.append(X[i])\n",
    "                        P.append(j)\n",
    "                        N.append(X[k])\n",
    "    \n",
    "    A = np.array(A)\n",
    "    P = np.array(P)\n",
    "    N = np.array(N)\n",
    "    return (A, P, N)"
   ]
  },
  {
   "cell_type": "code",
   "execution_count": 23,
   "metadata": {},
   "outputs": [],
   "source": [
    "triplets10_list_train = create_triplets_10(X_train,Y_train)"
   ]
  },
  {
   "cell_type": "code",
   "execution_count": 24,
   "metadata": {},
   "outputs": [
    {
     "name": "stdout",
     "output_type": "stream",
     "text": [
      "(175448, 64, 64, 1) (175448, 64, 64, 1) (175448, 64, 64, 1)\n"
     ]
    }
   ],
   "source": [
    "print(triplets10_list_train[0].shape, triplets10_list_train[1].shape, triplets10_list_train[2].shape)"
   ]
  },
  {
   "cell_type": "code",
   "execution_count": 65,
   "metadata": {},
   "outputs": [
    {
     "ename": "MemoryError",
     "evalue": "",
     "output_type": "error",
     "traceback": [
      "\u001b[1;31m---------------------------------------------------------------------------\u001b[0m",
      "\u001b[1;31mMemoryError\u001b[0m                               Traceback (most recent call last)",
      "\u001b[1;32m<ipython-input-65-34e3fdefcd6a>\u001b[0m in \u001b[0;36m<module>\u001b[1;34m()\u001b[0m\n\u001b[1;32m----> 1\u001b[1;33m \u001b[0mtriplets11_list_train\u001b[0m \u001b[1;33m=\u001b[0m \u001b[0mcreate_triplets_10\u001b[0m\u001b[1;33m(\u001b[0m\u001b[0mX_train\u001b[0m\u001b[1;33m,\u001b[0m\u001b[0mY_train\u001b[0m\u001b[1;33m)\u001b[0m\u001b[1;33m\u001b[0m\u001b[0m\n\u001b[0m",
      "\u001b[1;32m<ipython-input-21-48a7f8a39961>\u001b[0m in \u001b[0;36mcreate_triplets_10\u001b[1;34m(X, Y)\u001b[0m\n\u001b[0;32m     18\u001b[0m                     \u001b[0mN\u001b[0m\u001b[1;33m.\u001b[0m\u001b[0mappend\u001b[0m\u001b[1;33m(\u001b[0m\u001b[0mX\u001b[0m\u001b[1;33m[\u001b[0m\u001b[0mrand_num\u001b[0m\u001b[1;33m]\u001b[0m\u001b[1;33m)\u001b[0m\u001b[1;33m\u001b[0m\u001b[0m\n\u001b[0;32m     19\u001b[0m \u001b[1;33m\u001b[0m\u001b[0m\n\u001b[1;32m---> 20\u001b[1;33m     \u001b[0mA\u001b[0m \u001b[1;33m=\u001b[0m \u001b[0mnp\u001b[0m\u001b[1;33m.\u001b[0m\u001b[0marray\u001b[0m\u001b[1;33m(\u001b[0m\u001b[0mA\u001b[0m\u001b[1;33m)\u001b[0m\u001b[1;33m\u001b[0m\u001b[0m\n\u001b[0m\u001b[0;32m     21\u001b[0m     \u001b[0mP\u001b[0m \u001b[1;33m=\u001b[0m \u001b[0mnp\u001b[0m\u001b[1;33m.\u001b[0m\u001b[0marray\u001b[0m\u001b[1;33m(\u001b[0m\u001b[0mP\u001b[0m\u001b[1;33m)\u001b[0m\u001b[1;33m\u001b[0m\u001b[0m\n\u001b[0;32m     22\u001b[0m     \u001b[0mN\u001b[0m \u001b[1;33m=\u001b[0m \u001b[0mnp\u001b[0m\u001b[1;33m.\u001b[0m\u001b[0marray\u001b[0m\u001b[1;33m(\u001b[0m\u001b[0mN\u001b[0m\u001b[1;33m)\u001b[0m\u001b[1;33m\u001b[0m\u001b[0m\n",
      "\u001b[1;31mMemoryError\u001b[0m: "
     ]
    }
   ],
   "source": [
    "triplets11_list_train = create_triplets_10(X_train,Y_train)"
   ]
  },
  {
   "cell_type": "code",
   "execution_count": 25,
   "metadata": {},
   "outputs": [
    {
     "name": "stdout",
     "output_type": "stream",
     "text": [
      "(28920, 64, 64, 1) (28920, 64, 64, 1) (28920, 64, 64, 1)\n"
     ]
    }
   ],
   "source": [
    "triplets10_list_test = create_triplets_10(X_test,Y_test)\n",
    "print(triplets10_list_test[0].shape, triplets10_list_test[1].shape, triplets10_list_test[2].shape)"
   ]
  },
  {
   "cell_type": "code",
   "execution_count": 26,
   "metadata": {},
   "outputs": [],
   "source": [
    "##\n",
    "triplets_list_train = create_triplets(X_train,Y_train)\n",
    "triplets_list_test = create_triplets(X_test,Y_test)"
   ]
  },
  {
   "cell_type": "code",
   "execution_count": 27,
   "metadata": {
    "scrolled": true
   },
   "outputs": [
    {
     "name": "stdout",
     "output_type": "stream",
     "text": [
      "(12532, 64, 64, 1) (12532, 64, 64, 1) (12532, 64, 64, 1)\n",
      "(4820, 64, 64, 1) (4820, 64, 64, 1) (4820, 64, 64, 1)\n"
     ]
    }
   ],
   "source": [
    "print(triplets_list_train[0].shape, triplets_list_train[1].shape, triplets_list_train[2].shape)\n",
    "print(triplets_list_test[0].shape, triplets_list_test[1].shape, triplets_list_test[2].shape)"
   ]
  },
  {
   "cell_type": "markdown",
   "metadata": {},
   "source": [
    "Model creation"
   ]
  },
  {
   "cell_type": "code",
   "execution_count": 55,
   "metadata": {},
   "outputs": [],
   "source": [
    "def OmniModel(input_shape):\n",
    "    # Define the input placeholder as a tensor with shape input_shape.\n",
    "    X_input = Input(input_shape)\n",
    "    \n",
    "    #Padding\n",
    "    X = ZeroPadding2D((1,1))(X_input)\n",
    "    \n",
    "    #CONV\n",
    "    X = Conv2D(2,(3,3),strides =(1,1), name ='conv0') (X)\n",
    "    X = BatchNormalization(axis = 1, name = \"bn0\") (X)\n",
    "    X = Activation('relu', name='a0')(X)\n",
    "    \n",
    "    #MAXPOOL\n",
    "    X = MaxPooling2D((2,2), name='max_pool0')(X)\n",
    "    \n",
    "    #Padding\n",
    "    X = ZeroPadding2D((1,1))(X)\n",
    "    \n",
    "     #CONV\n",
    "    X = Conv2D(4,(3,3),strides =(1,1), name ='conv1') (X)\n",
    "    X = BatchNormalization(axis = 1, name = \"bn1\") (X)\n",
    "    X = Activation('relu', name='a1')(X)\n",
    "    \n",
    "    #MAXPOOL\n",
    "    X = MaxPooling2D((2,2), name='max_pool1')(X)\n",
    "    \n",
    "    \n",
    "     #CONV\n",
    "    X = Conv2D(8,(3,3),strides =(1,1), name ='conv2') (X)\n",
    "    X = BatchNormalization(axis = 1, name = \"bn2\") (X)\n",
    "    X = Activation('relu', name='a2')(X)\n",
    "    \n",
    "     #MAXPOOL\n",
    "    X = MaxPooling2D((2,2), name='max_pool2')(X)\n",
    "    \n",
    "    \n",
    "     #CONV\n",
    "    X = Conv2D(16,(3,3),strides =(1,1), name ='conv3') (X)\n",
    "    X = BatchNormalization(axis = 1, name = \"bn3\") (X)\n",
    "    X = Activation('relu', name='a3')(X)\n",
    "    \n",
    "     #MAXPOOL\n",
    "    X = MaxPooling2D((2,2), name='max_pool3')(X)\n",
    "    \n",
    "    #FLATTEN X + FC\n",
    "    X = Flatten(name='f3')(X)\n",
    "    X = Dropout(1/32)(X)\n",
    "    X = Dense (64, activation ='relu', name='fc4') (X)\n",
    "    #X = Dense (64, activation ='relu', name='fc5') (X)\n",
    "    \n",
    "    ##Create model\n",
    "    model = Model(inputs = X_input, outputs = X, name='OmniModel_org')\n",
    "    \n",
    "    return model"
   ]
  },
  {
   "cell_type": "code",
   "execution_count": 56,
   "metadata": {},
   "outputs": [],
   "source": [
    "input_size = triplets10_list_train[0][0].shape\n",
    "                         \n",
    "\n",
    "A = Input(input_size)\n",
    "P = Input(input_size)\n",
    "N = Input(input_size)\n",
    "\n",
    "temp_model= OmniModel(input_size)\n",
    "\n",
    "out_A = temp_model(A)\n",
    "out_P = temp_model(P)\n",
    "out_N = temp_model(N)\n",
    "\n",
    "y_pred = concatenate([out_A, out_P, out_N], axis =-1)\n",
    "#y_pred = [out_A, out_P, out_N]\n",
    "classification_model = Model(inputs = [A, P, N], outputs = y_pred)"
   ]
  },
  {
   "cell_type": "code",
   "execution_count": 57,
   "metadata": {},
   "outputs": [],
   "source": [
    "classification_model.compile(optimizer = 'adadelta', loss =triplet_loss)\n",
    "\n",
    "#filepath=\"weights.{epoch:02d}-{val_loss:.2f}.hdf5\"\n",
    "#checkpoint = ModelCheckpoint(filepath, \n",
    "#                             monitor = 'val_loss',\n",
    "#                             save_best_only = True,\n",
    "#                             verbose = 1)\n",
    "#callbacks_list = [checkpoint]\n"
   ]
  },
  {
   "cell_type": "code",
   "execution_count": 101,
   "metadata": {},
   "outputs": [],
   "source": [
    "def triplets_to_file(X, Y, path=\"Data/\"):\n",
    "    Y = Y.reshape(Y.shape[0],)\n",
    "    for i in range(X.shape[0]):\n",
    "        A = []\n",
    "        P = []\n",
    "        N = []\n",
    "        list_pos = X[Y==Y[i]]\n",
    "        for j in list_pos:\n",
    "            for k in range(len(list_pos)):        \n",
    "                rand_num = np.random.randint(X.shape[0])\n",
    "                if np.array_equal(X[i],j) == False:\n",
    "                    A.append(X[i])\n",
    "                    P.append(j)\n",
    "                    while np.array_equal(Y[rand_num], Y[i]):\n",
    "                        rand_num = np.random.randint(X.shape[0])\n",
    "                    N.append(X[rand_num])\n",
    "    \n",
    "        A = np.array(A)\n",
    "        P = np.array(P)\n",
    "        N = np.array(N)\n",
    "    \n",
    "        np.savez_compressed(path + str(i), a=A, p=P, n=N) #We use savez_compressed for saving memory\n"
   ]
  },
  {
   "cell_type": "code",
   "execution_count": 102,
   "metadata": {
    "scrolled": true
   },
   "outputs": [],
   "source": [
    "triplets_to_file(X_train,Y_train)"
   ]
  },
  {
   "cell_type": "code",
   "execution_count": 29,
   "metadata": {},
   "outputs": [],
   "source": [
    "##Data Generation\n",
    "\n",
    "def generator(X, Y):\n",
    "    X_temp = np.copy(X)\n",
    "    #Y_temp = np.copy(labels)\n",
    "    #batch_X = np.zeros((batch_size, 64,64,1))\n",
    "    #batch_Y = np.zeros((batch_size,1))\n",
    "    Y = Y.reshape(Y.shape[0],)\n",
    "    \n",
    "    while True:\n",
    "        for i in np.random.permutation(964):\n",
    "            i = i+1 #We increase i by 1 because it starts at 0 while our labels start at 1\n",
    "            list_pos = X[Y==i]\n",
    "            A_batch = []\n",
    "            P_batch = []\n",
    "            N_batch = []\n",
    "            #print(len(list_pos))\n",
    "            for j in list_pos:\n",
    "                #print(j.shape)\n",
    "                for k in list_pos:\n",
    "                    if np.array_equal(j,k) == False:\n",
    "                        for l in range(4):\n",
    "\n",
    "                            rand_num = np.random.randint(X_temp.shape[0])\n",
    "                            A_batch.append(j)\n",
    "                            P_batch.append(k)\n",
    "                            while np.array_equal(Y[rand_num], i):\n",
    "                                rand_num = np.random.randint(X_temp.shape[0])\n",
    "                            N_batch.append(X_temp[rand_num])\n",
    "            A_batch = np.array(A_batch)\n",
    "            P_batch = np.array(P_batch)\n",
    "            N_batch = np.array(N_batch)\n",
    "            #print('\\n')\n",
    "            #print(i, A_batch.shape, P_batch.shape, N_batch.shape)\n",
    "            y_dummie = np.zeros((len(A_batch),))\n",
    "\n",
    "            yield ([A_batch, P_batch, N_batch], y_dummie)"
   ]
  },
  {
   "cell_type": "code",
   "execution_count": 30,
   "metadata": {},
   "outputs": [
    {
     "name": "stdout",
     "output_type": "stream",
     "text": [
      "Epoch 1/20\n",
      "964/964 [==============================] - 618s 641ms/step - loss: 25.4565 - val_loss: 57.3464\n",
      "Epoch 2/20\n",
      "964/964 [==============================] - 610s 633ms/step - loss: 0.3276 - val_loss: 73.4345\n",
      "Epoch 3/20\n",
      "884/964 [==========================>...] - ETA: 49s - loss: 0.0630"
     ]
    },
    {
     "ename": "KeyboardInterrupt",
     "evalue": "",
     "output_type": "error",
     "traceback": [
      "\u001b[1;31m---------------------------------------------------------------------------\u001b[0m",
      "\u001b[1;31mKeyboardInterrupt\u001b[0m                         Traceback (most recent call last)",
      "\u001b[1;32m<ipython-input-30-034d2bcdaf90>\u001b[0m in \u001b[0;36m<module>\u001b[1;34m()\u001b[0m\n\u001b[0;32m      8\u001b[0m                                    \u001b[0mepochs\u001b[0m \u001b[1;33m=\u001b[0m \u001b[1;36m20\u001b[0m\u001b[1;33m,\u001b[0m\u001b[1;33m\u001b[0m\u001b[0m\n\u001b[0;32m      9\u001b[0m                                    \u001b[0mverbose\u001b[0m \u001b[1;33m=\u001b[0m \u001b[1;36m1\u001b[0m\u001b[1;33m,\u001b[0m\u001b[1;33m\u001b[0m\u001b[0m\n\u001b[1;32m---> 10\u001b[1;33m                                    \u001b[0mvalidation_data\u001b[0m \u001b[1;33m=\u001b[0m \u001b[1;33m(\u001b[0m\u001b[1;33m[\u001b[0m\u001b[0mA_test\u001b[0m\u001b[1;33m,\u001b[0m \u001b[0mP_test\u001b[0m\u001b[1;33m,\u001b[0m \u001b[0mN_test\u001b[0m\u001b[1;33m]\u001b[0m\u001b[1;33m,\u001b[0m \u001b[0mzeros_vect_test\u001b[0m\u001b[1;33m)\u001b[0m\u001b[1;33m\u001b[0m\u001b[0m\n\u001b[0m\u001b[0;32m     11\u001b[0m                                   )\n",
      "\u001b[1;32m~\\Anaconda3\\envs\\fastai\\lib\\site-packages\\keras\\legacy\\interfaces.py\u001b[0m in \u001b[0;36mwrapper\u001b[1;34m(*args, **kwargs)\u001b[0m\n\u001b[0;32m     89\u001b[0m                 warnings.warn('Update your `' + object_name +\n\u001b[0;32m     90\u001b[0m                               '` call to the Keras 2 API: ' + signature, stacklevel=2)\n\u001b[1;32m---> 91\u001b[1;33m             \u001b[1;32mreturn\u001b[0m \u001b[0mfunc\u001b[0m\u001b[1;33m(\u001b[0m\u001b[1;33m*\u001b[0m\u001b[0margs\u001b[0m\u001b[1;33m,\u001b[0m \u001b[1;33m**\u001b[0m\u001b[0mkwargs\u001b[0m\u001b[1;33m)\u001b[0m\u001b[1;33m\u001b[0m\u001b[0m\n\u001b[0m\u001b[0;32m     92\u001b[0m         \u001b[0mwrapper\u001b[0m\u001b[1;33m.\u001b[0m\u001b[0m_original_function\u001b[0m \u001b[1;33m=\u001b[0m \u001b[0mfunc\u001b[0m\u001b[1;33m\u001b[0m\u001b[0m\n\u001b[0;32m     93\u001b[0m         \u001b[1;32mreturn\u001b[0m \u001b[0mwrapper\u001b[0m\u001b[1;33m\u001b[0m\u001b[0m\n",
      "\u001b[1;32m~\\Anaconda3\\envs\\fastai\\lib\\site-packages\\keras\\engine\\training.py\u001b[0m in \u001b[0;36mfit_generator\u001b[1;34m(self, generator, steps_per_epoch, epochs, verbose, callbacks, validation_data, validation_steps, class_weight, max_queue_size, workers, use_multiprocessing, shuffle, initial_epoch)\u001b[0m\n\u001b[0;32m   2222\u001b[0m                     outs = self.train_on_batch(x, y,\n\u001b[0;32m   2223\u001b[0m                                                \u001b[0msample_weight\u001b[0m\u001b[1;33m=\u001b[0m\u001b[0msample_weight\u001b[0m\u001b[1;33m,\u001b[0m\u001b[1;33m\u001b[0m\u001b[0m\n\u001b[1;32m-> 2224\u001b[1;33m                                                class_weight=class_weight)\n\u001b[0m\u001b[0;32m   2225\u001b[0m \u001b[1;33m\u001b[0m\u001b[0m\n\u001b[0;32m   2226\u001b[0m                     \u001b[1;32mif\u001b[0m \u001b[1;32mnot\u001b[0m \u001b[0misinstance\u001b[0m\u001b[1;33m(\u001b[0m\u001b[0mouts\u001b[0m\u001b[1;33m,\u001b[0m \u001b[0mlist\u001b[0m\u001b[1;33m)\u001b[0m\u001b[1;33m:\u001b[0m\u001b[1;33m\u001b[0m\u001b[0m\n",
      "\u001b[1;32m~\\Anaconda3\\envs\\fastai\\lib\\site-packages\\keras\\engine\\training.py\u001b[0m in \u001b[0;36mtrain_on_batch\u001b[1;34m(self, x, y, sample_weight, class_weight)\u001b[0m\n\u001b[0;32m   1881\u001b[0m             \u001b[0mins\u001b[0m \u001b[1;33m=\u001b[0m \u001b[0mx\u001b[0m \u001b[1;33m+\u001b[0m \u001b[0my\u001b[0m \u001b[1;33m+\u001b[0m \u001b[0msample_weights\u001b[0m\u001b[1;33m\u001b[0m\u001b[0m\n\u001b[0;32m   1882\u001b[0m         \u001b[0mself\u001b[0m\u001b[1;33m.\u001b[0m\u001b[0m_make_train_function\u001b[0m\u001b[1;33m(\u001b[0m\u001b[1;33m)\u001b[0m\u001b[1;33m\u001b[0m\u001b[0m\n\u001b[1;32m-> 1883\u001b[1;33m         \u001b[0moutputs\u001b[0m \u001b[1;33m=\u001b[0m \u001b[0mself\u001b[0m\u001b[1;33m.\u001b[0m\u001b[0mtrain_function\u001b[0m\u001b[1;33m(\u001b[0m\u001b[0mins\u001b[0m\u001b[1;33m)\u001b[0m\u001b[1;33m\u001b[0m\u001b[0m\n\u001b[0m\u001b[0;32m   1884\u001b[0m         \u001b[1;32mif\u001b[0m \u001b[0mlen\u001b[0m\u001b[1;33m(\u001b[0m\u001b[0moutputs\u001b[0m\u001b[1;33m)\u001b[0m \u001b[1;33m==\u001b[0m \u001b[1;36m1\u001b[0m\u001b[1;33m:\u001b[0m\u001b[1;33m\u001b[0m\u001b[0m\n\u001b[0;32m   1885\u001b[0m             \u001b[1;32mreturn\u001b[0m \u001b[0moutputs\u001b[0m\u001b[1;33m[\u001b[0m\u001b[1;36m0\u001b[0m\u001b[1;33m]\u001b[0m\u001b[1;33m\u001b[0m\u001b[0m\n",
      "\u001b[1;32m~\\Anaconda3\\envs\\fastai\\lib\\site-packages\\keras\\backend\\tensorflow_backend.py\u001b[0m in \u001b[0;36m__call__\u001b[1;34m(self, inputs)\u001b[0m\n\u001b[0;32m   2476\u001b[0m         \u001b[0msession\u001b[0m \u001b[1;33m=\u001b[0m \u001b[0mget_session\u001b[0m\u001b[1;33m(\u001b[0m\u001b[1;33m)\u001b[0m\u001b[1;33m\u001b[0m\u001b[0m\n\u001b[0;32m   2477\u001b[0m         updated = session.run(fetches=fetches, feed_dict=feed_dict,\n\u001b[1;32m-> 2478\u001b[1;33m                               **self.session_kwargs)\n\u001b[0m\u001b[0;32m   2479\u001b[0m         \u001b[1;32mreturn\u001b[0m \u001b[0mupdated\u001b[0m\u001b[1;33m[\u001b[0m\u001b[1;33m:\u001b[0m\u001b[0mlen\u001b[0m\u001b[1;33m(\u001b[0m\u001b[0mself\u001b[0m\u001b[1;33m.\u001b[0m\u001b[0moutputs\u001b[0m\u001b[1;33m)\u001b[0m\u001b[1;33m]\u001b[0m\u001b[1;33m\u001b[0m\u001b[0m\n\u001b[0;32m   2480\u001b[0m \u001b[1;33m\u001b[0m\u001b[0m\n",
      "\u001b[1;32m~\\Anaconda3\\envs\\fastai\\lib\\site-packages\\tensorflow\\python\\client\\session.py\u001b[0m in \u001b[0;36mrun\u001b[1;34m(self, fetches, feed_dict, options, run_metadata)\u001b[0m\n\u001b[0;32m    903\u001b[0m     \u001b[1;32mtry\u001b[0m\u001b[1;33m:\u001b[0m\u001b[1;33m\u001b[0m\u001b[0m\n\u001b[0;32m    904\u001b[0m       result = self._run(None, fetches, feed_dict, options_ptr,\n\u001b[1;32m--> 905\u001b[1;33m                          run_metadata_ptr)\n\u001b[0m\u001b[0;32m    906\u001b[0m       \u001b[1;32mif\u001b[0m \u001b[0mrun_metadata\u001b[0m\u001b[1;33m:\u001b[0m\u001b[1;33m\u001b[0m\u001b[0m\n\u001b[0;32m    907\u001b[0m         \u001b[0mproto_data\u001b[0m \u001b[1;33m=\u001b[0m \u001b[0mtf_session\u001b[0m\u001b[1;33m.\u001b[0m\u001b[0mTF_GetBuffer\u001b[0m\u001b[1;33m(\u001b[0m\u001b[0mrun_metadata_ptr\u001b[0m\u001b[1;33m)\u001b[0m\u001b[1;33m\u001b[0m\u001b[0m\n",
      "\u001b[1;32m~\\Anaconda3\\envs\\fastai\\lib\\site-packages\\tensorflow\\python\\client\\session.py\u001b[0m in \u001b[0;36m_run\u001b[1;34m(self, handle, fetches, feed_dict, options, run_metadata)\u001b[0m\n\u001b[0;32m   1138\u001b[0m     \u001b[1;32mif\u001b[0m \u001b[0mfinal_fetches\u001b[0m \u001b[1;32mor\u001b[0m \u001b[0mfinal_targets\u001b[0m \u001b[1;32mor\u001b[0m \u001b[1;33m(\u001b[0m\u001b[0mhandle\u001b[0m \u001b[1;32mand\u001b[0m \u001b[0mfeed_dict_tensor\u001b[0m\u001b[1;33m)\u001b[0m\u001b[1;33m:\u001b[0m\u001b[1;33m\u001b[0m\u001b[0m\n\u001b[0;32m   1139\u001b[0m       results = self._do_run(handle, final_targets, final_fetches,\n\u001b[1;32m-> 1140\u001b[1;33m                              feed_dict_tensor, options, run_metadata)\n\u001b[0m\u001b[0;32m   1141\u001b[0m     \u001b[1;32melse\u001b[0m\u001b[1;33m:\u001b[0m\u001b[1;33m\u001b[0m\u001b[0m\n\u001b[0;32m   1142\u001b[0m       \u001b[0mresults\u001b[0m \u001b[1;33m=\u001b[0m \u001b[1;33m[\u001b[0m\u001b[1;33m]\u001b[0m\u001b[1;33m\u001b[0m\u001b[0m\n",
      "\u001b[1;32m~\\Anaconda3\\envs\\fastai\\lib\\site-packages\\tensorflow\\python\\client\\session.py\u001b[0m in \u001b[0;36m_do_run\u001b[1;34m(self, handle, target_list, fetch_list, feed_dict, options, run_metadata)\u001b[0m\n\u001b[0;32m   1319\u001b[0m     \u001b[1;32mif\u001b[0m \u001b[0mhandle\u001b[0m \u001b[1;32mis\u001b[0m \u001b[1;32mNone\u001b[0m\u001b[1;33m:\u001b[0m\u001b[1;33m\u001b[0m\u001b[0m\n\u001b[0;32m   1320\u001b[0m       return self._do_call(_run_fn, feeds, fetches, targets, options,\n\u001b[1;32m-> 1321\u001b[1;33m                            run_metadata)\n\u001b[0m\u001b[0;32m   1322\u001b[0m     \u001b[1;32melse\u001b[0m\u001b[1;33m:\u001b[0m\u001b[1;33m\u001b[0m\u001b[0m\n\u001b[0;32m   1323\u001b[0m       \u001b[1;32mreturn\u001b[0m \u001b[0mself\u001b[0m\u001b[1;33m.\u001b[0m\u001b[0m_do_call\u001b[0m\u001b[1;33m(\u001b[0m\u001b[0m_prun_fn\u001b[0m\u001b[1;33m,\u001b[0m \u001b[0mhandle\u001b[0m\u001b[1;33m,\u001b[0m \u001b[0mfeeds\u001b[0m\u001b[1;33m,\u001b[0m \u001b[0mfetches\u001b[0m\u001b[1;33m)\u001b[0m\u001b[1;33m\u001b[0m\u001b[0m\n",
      "\u001b[1;32m~\\Anaconda3\\envs\\fastai\\lib\\site-packages\\tensorflow\\python\\client\\session.py\u001b[0m in \u001b[0;36m_do_call\u001b[1;34m(self, fn, *args)\u001b[0m\n\u001b[0;32m   1325\u001b[0m   \u001b[1;32mdef\u001b[0m \u001b[0m_do_call\u001b[0m\u001b[1;33m(\u001b[0m\u001b[0mself\u001b[0m\u001b[1;33m,\u001b[0m \u001b[0mfn\u001b[0m\u001b[1;33m,\u001b[0m \u001b[1;33m*\u001b[0m\u001b[0margs\u001b[0m\u001b[1;33m)\u001b[0m\u001b[1;33m:\u001b[0m\u001b[1;33m\u001b[0m\u001b[0m\n\u001b[0;32m   1326\u001b[0m     \u001b[1;32mtry\u001b[0m\u001b[1;33m:\u001b[0m\u001b[1;33m\u001b[0m\u001b[0m\n\u001b[1;32m-> 1327\u001b[1;33m       \u001b[1;32mreturn\u001b[0m \u001b[0mfn\u001b[0m\u001b[1;33m(\u001b[0m\u001b[1;33m*\u001b[0m\u001b[0margs\u001b[0m\u001b[1;33m)\u001b[0m\u001b[1;33m\u001b[0m\u001b[0m\n\u001b[0m\u001b[0;32m   1328\u001b[0m     \u001b[1;32mexcept\u001b[0m \u001b[0merrors\u001b[0m\u001b[1;33m.\u001b[0m\u001b[0mOpError\u001b[0m \u001b[1;32mas\u001b[0m \u001b[0me\u001b[0m\u001b[1;33m:\u001b[0m\u001b[1;33m\u001b[0m\u001b[0m\n\u001b[0;32m   1329\u001b[0m       \u001b[0mmessage\u001b[0m \u001b[1;33m=\u001b[0m \u001b[0mcompat\u001b[0m\u001b[1;33m.\u001b[0m\u001b[0mas_text\u001b[0m\u001b[1;33m(\u001b[0m\u001b[0me\u001b[0m\u001b[1;33m.\u001b[0m\u001b[0mmessage\u001b[0m\u001b[1;33m)\u001b[0m\u001b[1;33m\u001b[0m\u001b[0m\n",
      "\u001b[1;32m~\\Anaconda3\\envs\\fastai\\lib\\site-packages\\tensorflow\\python\\client\\session.py\u001b[0m in \u001b[0;36m_run_fn\u001b[1;34m(feed_dict, fetch_list, target_list, options, run_metadata)\u001b[0m\n\u001b[0;32m   1310\u001b[0m       \u001b[0mself\u001b[0m\u001b[1;33m.\u001b[0m\u001b[0m_extend_graph\u001b[0m\u001b[1;33m(\u001b[0m\u001b[1;33m)\u001b[0m\u001b[1;33m\u001b[0m\u001b[0m\n\u001b[0;32m   1311\u001b[0m       return self._call_tf_sessionrun(\n\u001b[1;32m-> 1312\u001b[1;33m           options, feed_dict, fetch_list, target_list, run_metadata)\n\u001b[0m\u001b[0;32m   1313\u001b[0m \u001b[1;33m\u001b[0m\u001b[0m\n\u001b[0;32m   1314\u001b[0m     \u001b[1;32mdef\u001b[0m \u001b[0m_prun_fn\u001b[0m\u001b[1;33m(\u001b[0m\u001b[0mhandle\u001b[0m\u001b[1;33m,\u001b[0m \u001b[0mfeed_dict\u001b[0m\u001b[1;33m,\u001b[0m \u001b[0mfetch_list\u001b[0m\u001b[1;33m)\u001b[0m\u001b[1;33m:\u001b[0m\u001b[1;33m\u001b[0m\u001b[0m\n",
      "\u001b[1;32m~\\Anaconda3\\envs\\fastai\\lib\\site-packages\\tensorflow\\python\\client\\session.py\u001b[0m in \u001b[0;36m_call_tf_sessionrun\u001b[1;34m(self, options, feed_dict, fetch_list, target_list, run_metadata)\u001b[0m\n\u001b[0;32m   1418\u001b[0m         return tf_session.TF_Run(\n\u001b[0;32m   1419\u001b[0m             \u001b[0mself\u001b[0m\u001b[1;33m.\u001b[0m\u001b[0m_session\u001b[0m\u001b[1;33m,\u001b[0m \u001b[0moptions\u001b[0m\u001b[1;33m,\u001b[0m \u001b[0mfeed_dict\u001b[0m\u001b[1;33m,\u001b[0m \u001b[0mfetch_list\u001b[0m\u001b[1;33m,\u001b[0m \u001b[0mtarget_list\u001b[0m\u001b[1;33m,\u001b[0m\u001b[1;33m\u001b[0m\u001b[0m\n\u001b[1;32m-> 1420\u001b[1;33m             status, run_metadata)\n\u001b[0m\u001b[0;32m   1421\u001b[0m \u001b[1;33m\u001b[0m\u001b[0m\n\u001b[0;32m   1422\u001b[0m   \u001b[1;32mdef\u001b[0m \u001b[0m_call_tf_sessionprun\u001b[0m\u001b[1;33m(\u001b[0m\u001b[0mself\u001b[0m\u001b[1;33m,\u001b[0m \u001b[0mhandle\u001b[0m\u001b[1;33m,\u001b[0m \u001b[0mfeed_dict\u001b[0m\u001b[1;33m,\u001b[0m \u001b[0mfetch_list\u001b[0m\u001b[1;33m)\u001b[0m\u001b[1;33m:\u001b[0m\u001b[1;33m\u001b[0m\u001b[0m\n",
      "\u001b[1;31mKeyboardInterrupt\u001b[0m: "
     ]
    }
   ],
   "source": [
    "A_test, P_test, N_test = triplets10_list_test\n",
    "zeros_vect_test = np.zeros(A_test[:,1,1].shape) \n",
    "\n",
    "batch_sz = 64\n",
    "\n",
    "classification_model.fit_generator(generator(X_train, Y_train), \n",
    "                                   steps_per_epoch = 964,\n",
    "                                   epochs = 20,\n",
    "                                   verbose = 1,\n",
    "                                   validation_data = ([A_test, P_test, N_test], zeros_vect_test) \n",
    "                                  )\n"
   ]
  },
  {
   "cell_type": "code",
   "execution_count": 32,
   "metadata": {},
   "outputs": [
    {
     "name": "stdout",
     "output_type": "stream",
     "text": [
      "28920\n"
     ]
    }
   ],
   "source": [
    "print(len(A_test))"
   ]
  },
  {
   "cell_type": "code",
   "execution_count": 33,
   "metadata": {},
   "outputs": [
    {
     "name": "stdout",
     "output_type": "stream",
     "text": [
      "(28920, 1)\n"
     ]
    }
   ],
   "source": [
    "print(A_test[:,1,1].shape)"
   ]
  },
  {
   "cell_type": "code",
   "execution_count": 59,
   "metadata": {
    "scrolled": false
   },
   "outputs": [
    {
     "name": "stdout",
     "output_type": "stream",
     "text": [
      "Train on 175448 samples, validate on 28920 samples\n",
      "Epoch 1/20\n",
      "175448/175448 [==============================] - 216s 1ms/step - loss: 12.9996 - val_loss: 11.4401\n",
      "Epoch 2/20\n",
      "175448/175448 [==============================] - 216s 1ms/step - loss: 12.2532 - val_loss: 11.2358\n",
      "Epoch 3/20\n",
      "175448/175448 [==============================] - 210s 1ms/step - loss: 11.6571 - val_loss: 10.4665\n",
      "Epoch 4/20\n",
      "175448/175448 [==============================] - 219s 1ms/step - loss: 11.2450 - val_loss: 10.3808\n",
      "Epoch 5/20\n",
      "175448/175448 [==============================] - 218s 1ms/step - loss: 10.6703 - val_loss: 10.0601\n",
      "Epoch 6/20\n",
      "175448/175448 [==============================] - 223s 1ms/step - loss: 10.1733 - val_loss: 10.1280\n",
      "Epoch 7/20\n",
      "175448/175448 [==============================] - 218s 1ms/step - loss: 9.9118 - val_loss: 10.0367\n",
      "Epoch 8/20\n",
      "175448/175448 [==============================] - 220s 1ms/step - loss: 9.4634 - val_loss: 9.7667\n",
      "Epoch 9/20\n",
      "175448/175448 [==============================] - 220s 1ms/step - loss: 9.1969 - val_loss: 9.7532\n",
      "Epoch 10/20\n",
      "175448/175448 [==============================] - 221s 1ms/step - loss: 8.9646 - val_loss: 10.0073\n",
      "Epoch 11/20\n",
      "175448/175448 [==============================] - 211s 1ms/step - loss: 8.7277 - val_loss: 9.7162\n",
      "Epoch 12/20\n",
      "175448/175448 [==============================] - 212s 1ms/step - loss: 8.5076 - val_loss: 9.4991\n",
      "Epoch 13/20\n",
      "175448/175448 [==============================] - 207s 1ms/step - loss: 8.2415 - val_loss: 9.5429\n",
      "Epoch 14/20\n",
      "175448/175448 [==============================] - 205s 1ms/step - loss: 8.0382 - val_loss: 9.3993\n",
      "Epoch 15/20\n",
      "175448/175448 [==============================] - 208s 1ms/step - loss: 7.9312 - val_loss: 9.2513\n",
      "Epoch 16/20\n",
      "175448/175448 [==============================] - 208s 1ms/step - loss: 7.7766 - val_loss: 9.1872\n",
      "Epoch 17/20\n",
      "175448/175448 [==============================] - 210s 1ms/step - loss: 7.5980 - val_loss: 9.1104\n",
      "Epoch 18/20\n",
      "175448/175448 [==============================] - 208s 1ms/step - loss: 7.4149 - val_loss: 9.1761\n",
      "Epoch 19/20\n",
      "175448/175448 [==============================] - 207s 1ms/step - loss: 7.1986 - val_loss: 8.7992\n",
      "Epoch 20/20\n",
      "175448/175448 [==============================] - 209s 1ms/step - loss: 7.0897 - val_loss: 8.7253\n"
     ]
    },
    {
     "data": {
      "text/plain": [
       "<keras.callbacks.History at 0x1d1dad20208>"
      ]
     },
     "execution_count": 59,
     "metadata": {},
     "output_type": "execute_result"
    }
   ],
   "source": [
    "A,P,N = triplets10_list_train\n",
    "A_test, P_test, N_test =triplets10_list_test\n",
    "zeros_vect = np.zeros(A[:,1,1].shape)\n",
    "zeros_vect_test = np.zeros(A_test[:,1,1].shape) \n",
    "classification_model.fit(x = [A, P, N] , \n",
    "                         y = zeros_vect , \n",
    "                         batch_size = 1024, \n",
    "                         epochs = 20,\n",
    "                         validation_data = ([A_test, P_test, N_test], zeros_vect_test), \n",
    "                         shuffle = True)"
   ]
  },
  {
   "cell_type": "code",
   "execution_count": 46,
   "metadata": {},
   "outputs": [],
   "source": [
    "#Save models with opt = sgd, epoch = 5\n",
    "classification_model.save('classification_1.h5')\n",
    "temp_model.save('temp_1.h5')"
   ]
  },
  {
   "cell_type": "code",
   "execution_count": 28,
   "metadata": {},
   "outputs": [
    {
     "name": "stdout",
     "output_type": "stream",
     "text": [
      "Train on 175448 samples, validate on 28920 samples\n",
      "Epoch 1/20\n",
      "175448/175448 [==============================] - 255s 1ms/step - loss: 85.7937 - val_loss: 49.1419\n",
      "Epoch 2/20\n",
      "175448/175448 [==============================] - 267s 2ms/step - loss: 36.4881 - val_loss: 28.4457\n",
      "Epoch 3/20\n",
      "175448/175448 [==============================] - 227s 1ms/step - loss: 23.7143 - val_loss: 19.8710\n",
      "Epoch 4/20\n",
      "175448/175448 [==============================] - 238s 1ms/step - loss: 17.7798 - val_loss: 16.2148\n",
      "Epoch 5/20\n",
      "175448/175448 [==============================] - 240s 1ms/step - loss: 14.8133 - val_loss: 14.9251\n",
      "Epoch 6/20\n",
      "175448/175448 [==============================] - 225s 1ms/step - loss: 13.0602 - val_loss: 13.3330\n",
      "Epoch 7/20\n",
      "175448/175448 [==============================] - 244s 1ms/step - loss: 11.8752 - val_loss: 12.9122\n",
      "Epoch 8/20\n",
      "175448/175448 [==============================] - 207s 1ms/step - loss: 10.8104 - val_loss: 11.5286\n",
      "Epoch 9/20\n",
      "175448/175448 [==============================] - 209s 1ms/step - loss: 9.9268 - val_loss: 10.6984\n",
      "Epoch 10/20\n",
      "175448/175448 [==============================] - 218s 1ms/step - loss: 9.1648 - val_loss: 10.3743\n",
      "Epoch 11/20\n",
      "175448/175448 [==============================] - 214s 1ms/step - loss: 8.5229 - val_loss: 10.0720\n",
      "Epoch 12/20\n",
      "175448/175448 [==============================] - 215s 1ms/step - loss: 7.9684 - val_loss: 9.9932\n",
      "Epoch 13/20\n",
      "175448/175448 [==============================] - 219s 1ms/step - loss: 7.5833 - val_loss: 9.7694\n",
      "Epoch 14/20\n",
      "175448/175448 [==============================] - 203s 1ms/step - loss: 7.2655 - val_loss: 9.4431\n",
      "Epoch 15/20\n",
      "175448/175448 [==============================] - 205s 1ms/step - loss: 6.9588 - val_loss: 9.4570\n",
      "Epoch 16/20\n",
      "175448/175448 [==============================] - 202s 1ms/step - loss: 6.7273 - val_loss: 9.3461\n",
      "Epoch 17/20\n",
      "175448/175448 [==============================] - 201s 1ms/step - loss: 6.4907 - val_loss: 9.1852\n",
      "Epoch 18/20\n",
      "175448/175448 [==============================] - 207s 1ms/step - loss: 6.2916 - val_loss: 9.1423\n",
      "Epoch 19/20\n",
      "175448/175448 [==============================] - 204s 1ms/step - loss: 6.0420 - val_loss: 9.3276\n",
      "Epoch 20/20\n",
      "175448/175448 [==============================] - 207s 1ms/step - loss: 5.9290 - val_loss: 9.4741\n"
     ]
    },
    {
     "data": {
      "text/plain": [
       "<keras.callbacks.History at 0x2183760b208>"
      ]
     },
     "execution_count": 28,
     "metadata": {},
     "output_type": "execute_result"
    }
   ],
   "source": [
    "A,P,N = triplets10_list_train\n",
    "A_test, P_test, N_test =triplets10_list_test\n",
    "zeros_vect = np.zeros(A[:,1,1].shape)\n",
    "zeros_vect_test = np.zeros(A_test[:,1,1].shape) \n",
    "classification_model.fit(x = [A, P, N] , \n",
    "                         y = zeros_vect , \n",
    "                         batch_size = 1024, \n",
    "                         epochs = 20, \n",
    "                         #callbacks = callbacks_list,\n",
    "                         validation_data = ([A_test, P_test, N_test], zeros_vect_test), \n",
    "                         shuffle = True)"
   ]
  },
  {
   "cell_type": "code",
   "execution_count": 59,
   "metadata": {
    "scrolled": true
   },
   "outputs": [
    {
     "name": "stdout",
     "output_type": "stream",
     "text": [
      "__________________________________________________________________________________________________\n",
      "Layer (type)                    Output Shape         Param #     Connected to                     \n",
      "==================================================================================================\n",
      "input_1 (InputLayer)            (None, 64, 64, 1)    0                                            \n",
      "__________________________________________________________________________________________________\n",
      "input_2 (InputLayer)            (None, 64, 64, 1)    0                                            \n",
      "__________________________________________________________________________________________________\n",
      "input_3 (InputLayer)            (None, 64, 64, 1)    0                                            \n",
      "__________________________________________________________________________________________________\n",
      "OmniModel_org (Model)           (None, 64)           6180        input_1[0][0]                    \n",
      "                                                                 input_2[0][0]                    \n",
      "                                                                 input_3[0][0]                    \n",
      "__________________________________________________________________________________________________\n",
      "concatenate_1 (Concatenate)     (None, 192)          0           OmniModel_org[1][0]              \n",
      "                                                                 OmniModel_org[2][0]              \n",
      "                                                                 OmniModel_org[3][0]              \n",
      "==================================================================================================\n",
      "Total params: 6,180\n",
      "Trainable params: 5,950\n",
      "Non-trainable params: 230\n",
      "__________________________________________________________________________________________________\n",
      "_________________________________________________________________\n",
      "Layer (type)                 Output Shape              Param #   \n",
      "=================================================================\n",
      "input_4 (InputLayer)         (None, 64, 64, 1)         0         \n",
      "_________________________________________________________________\n",
      "zero_padding2d_1 (ZeroPaddin (None, 66, 66, 1)         0         \n",
      "_________________________________________________________________\n",
      "conv0 (Conv2D)               (None, 64, 64, 2)         20        \n",
      "_________________________________________________________________\n",
      "bn0 (BatchNormalization)     (None, 64, 64, 2)         256       \n",
      "_________________________________________________________________\n",
      "a0 (Activation)              (None, 64, 64, 2)         0         \n",
      "_________________________________________________________________\n",
      "max_pool0 (MaxPooling2D)     (None, 32, 32, 2)         0         \n",
      "_________________________________________________________________\n",
      "zero_padding2d_2 (ZeroPaddin (None, 34, 34, 2)         0         \n",
      "_________________________________________________________________\n",
      "conv1 (Conv2D)               (None, 32, 32, 4)         76        \n",
      "_________________________________________________________________\n",
      "bn1 (BatchNormalization)     (None, 32, 32, 4)         128       \n",
      "_________________________________________________________________\n",
      "a1 (Activation)              (None, 32, 32, 4)         0         \n",
      "_________________________________________________________________\n",
      "max_pool1 (MaxPooling2D)     (None, 16, 16, 4)         0         \n",
      "_________________________________________________________________\n",
      "conv2 (Conv2D)               (None, 14, 14, 8)         296       \n",
      "_________________________________________________________________\n",
      "bn2 (BatchNormalization)     (None, 14, 14, 8)         56        \n",
      "_________________________________________________________________\n",
      "a2 (Activation)              (None, 14, 14, 8)         0         \n",
      "_________________________________________________________________\n",
      "max_pool2 (MaxPooling2D)     (None, 7, 7, 8)           0         \n",
      "_________________________________________________________________\n",
      "conv3 (Conv2D)               (None, 5, 5, 16)          1168      \n",
      "_________________________________________________________________\n",
      "bn3 (BatchNormalization)     (None, 5, 5, 16)          20        \n",
      "_________________________________________________________________\n",
      "a3 (Activation)              (None, 5, 5, 16)          0         \n",
      "_________________________________________________________________\n",
      "max_pool3 (MaxPooling2D)     (None, 2, 2, 16)          0         \n",
      "_________________________________________________________________\n",
      "f3 (Flatten)                 (None, 64)                0         \n",
      "_________________________________________________________________\n",
      "fc4 (Dense)                  (None, 64)                4160      \n",
      "=================================================================\n",
      "Total params: 6,180\n",
      "Trainable params: 5,950\n",
      "Non-trainable params: 230\n",
      "_________________________________________________________________\n"
     ]
    }
   ],
   "source": [
    "classification_model.summary()\n",
    "temp_model.summary()"
   ]
  },
  {
   "cell_type": "code",
   "execution_count": 30,
   "metadata": {
    "scrolled": true
   },
   "outputs": [
    {
     "data": {
      "text/plain": [
       "<matplotlib.image.AxesImage at 0x21efe8b5908>"
      ]
     },
     "execution_count": 30,
     "metadata": {},
     "output_type": "execute_result"
    },
    {
     "data": {
      "image/png": "[encoded data removed]",
      "text/plain": [
       "<Figure size 432x288 with 1 Axes>"
      ]
     },
     "metadata": {},
     "output_type": "display_data"
    }
   ],
   "source": [
    "    imagePath = glob.glob(\"{}*/*/*.png\".format(PATH))\n",
    "\n",
    "    picture = mpimg.imread(imagePath[131])\n",
    "    \n",
    "    image = resize(picture, (64,64), mode='edge')\n",
    "    image.shape\n",
    "    plt.imshow(image)\n",
    "\n",
    "#embedding = temp_model.predict_on_batch(X_test)\n"
   ]
  },
  {
   "cell_type": "code",
   "execution_count": 53,
   "metadata": {},
   "outputs": [
    {
     "name": "stdout",
     "output_type": "stream",
     "text": [
      "1.3842055 0\n",
      "1.7008559 1\n",
      "1.4321568 2\n",
      "1.5070978 3\n",
      "1.4566771 4\n",
      "1.6110964 5\n",
      "1.6842275 6\n",
      "1.4538792 7\n",
      "1.5071118 8\n",
      "1.4204993 9\n",
      "1.5878347 10\n",
      "1.6329952 11\n",
      "1.4911598 12\n",
      "1.5021945 13\n",
      "1.5100707 14\n",
      "1.3817552 15\n",
      "1.5447454 16\n",
      "1.5745356 17\n",
      "1.6966082 18\n",
      "1.7846227 19\n",
      "0.0 20\n",
      "0.87076217 21\n",
      "0.6483357 22\n",
      "0.6904395 23\n",
      "0.6334349 24\n",
      "0.6983858 25\n",
      "0.4419348 26\n",
      "0.95123744 27\n",
      "0.75218105 28\n",
      "0.5578749 29\n",
      "0.7582652 30\n",
      "0.7937567 31\n",
      "0.7425592 32\n",
      "0.5007813 33\n",
      "0.8229015 34\n",
      "0.9345297 35\n",
      "0.62565887 36\n",
      "0.77584183 37\n",
      "0.7486296 38\n",
      "0.71967393 39\n",
      "1.0982023 40\n",
      "0.9606338 41\n",
      "0.8885396 42\n",
      "0.9715656 43\n",
      "1.0122976 44\n",
      "1.0474204 45\n",
      "1.0318272 46\n",
      "0.9398138 47\n",
      "1.0133804 48\n",
      "0.999369 49\n",
      "0.9761647 50\n",
      "0.9088081 51\n",
      "0.9906142 52\n",
      "0.8142816 53\n",
      "1.0575581 54\n",
      "0.7684457 55\n",
      "0.97728246 56\n",
      "0.86900556 57\n",
      "0.9010635 58\n",
      "0.9378022 59\n",
      "1.5983669 60\n",
      "1.5131198 61\n",
      "1.526625 62\n",
      "1.3894538 63\n",
      "1.5347325 64\n",
      "1.588092 65\n",
      "1.5561607 66\n",
      "1.5488821 67\n",
      "1.5177921 68\n",
      "1.6010044 69\n",
      "1.5435776 70\n",
      "1.6261017 71\n",
      "1.553965 72\n",
      "1.5460005 73\n",
      "1.6049863 74\n",
      "1.5821546 75\n",
      "1.4803177 76\n",
      "1.5439441 77\n",
      "1.537473 78\n",
      "1.5948896 79\n",
      "1.3713802 80\n",
      "1.2915567 81\n",
      "1.4019476 82\n",
      "1.2265087 83\n",
      "1.2363514 84\n",
      "1.3878129 85\n",
      "1.2647253 86\n",
      "1.3153753 87\n",
      "1.1163822 88\n",
      "1.209501 89\n",
      "1.1734823 90\n",
      "1.2257267 91\n",
      "1.1572026 92\n",
      "1.2618408 93\n",
      "1.1715724 94\n",
      "1.3711551 95\n",
      "1.2175294 96\n",
      "1.2202317 97\n",
      "1.2283071 98\n",
      "1.2996999 99\n"
     ]
    }
   ],
   "source": [
    "embeddings2=temp_model.predict_on_batch(im_array[0:100])\n",
    "\n",
    "for i in range(100):\n",
    "    dist = np.linalg.norm(embeddings2[20] - embeddings2[i]) \n",
    "    print(dist, i)"
   ]
  },
  {
   "cell_type": "markdown",
   "metadata": {},
   "source": [
    "Application"
   ]
  },
  {
   "cell_type": "code",
   "execution_count": 29,
   "metadata": {},
   "outputs": [],
   "source": [
    "#"
   ]
  },
  {
   "cell_type": "markdown",
   "metadata": {},
   "source": [
    "Comparison with Modified Hausdorff Distance"
   ]
  },
  {
   "cell_type": "code",
   "execution_count": 60,
   "metadata": {},
   "outputs": [],
   "source": [
    "from demo_classification import *"
   ]
  },
  {
   "cell_type": "code",
   "execution_count": 61,
   "metadata": {},
   "outputs": [],
   "source": [
    "def CNNDistance(itemA, itemB):\n",
    "    itemA = itemA.reshape(1, itemA.shape[0], itemA.shape[1], 1)\n",
    "    itemB = itemB.reshape(1, itemB.shape[0], itemB.shape[1], 1)\n",
    "    itemA_emb = temp_model.predict_on_batch(itemA)\n",
    "    itemB_emb = temp_model.predict_on_batch(itemB)\n",
    "    dist = np.linalg.norm(itemA_emb - itemB_emb)\n",
    "    return dist"
   ]
  },
  {
   "cell_type": "code",
   "execution_count": 62,
   "metadata": {},
   "outputs": [],
   "source": [
    "def LoadImgAsArray(fn):\n",
    "\t# Load image file, return as array and resize\n",
    "    picture = mpimg.imread(fn)\n",
    "    image = resize(picture, (SZ,SZ), mode='constant')\n",
    "    return image"
   ]
  },
  {
   "cell_type": "code",
   "execution_count": 63,
   "metadata": {
    "scrolled": true
   },
   "outputs": [
    {
     "name": "stdout",
     "output_type": "stream",
     "text": [
      "One-shot classification with Modified Hausdorff Distance versus Siamese triplet loss Distance\n",
      " run 1 ModHausdorffDistance(error 45.0%)  -  Siamese_triplet_loss_Distance (error 30.0%)\n",
      " run 2 ModHausdorffDistance(error 35.0%)  -  Siamese_triplet_loss_Distance (error 35.0%)\n",
      " run 3 ModHausdorffDistance(error 40.0%)  -  Siamese_triplet_loss_Distance (error 25.0%)\n",
      " run 4 ModHausdorffDistance(error 25.0%)  -  Siamese_triplet_loss_Distance (error 30.0%)\n",
      " run 5 ModHausdorffDistance(error 30.0%)  -  Siamese_triplet_loss_Distance (error 20.0%)\n",
      " run 6 ModHausdorffDistance(error 15.0%)  -  Siamese_triplet_loss_Distance (error 40.0%)\n",
      " run 7 ModHausdorffDistance(error 60.0%)  -  Siamese_triplet_loss_Distance (error 10.0%)\n",
      " run 8 ModHausdorffDistance(error 35.0%)  -  Siamese_triplet_loss_Distance (error 45.0%)\n",
      " run 9 ModHausdorffDistance(error 40.0%)  -  Siamese_triplet_loss_Distance (error 65.0%)\n",
      " run 10 ModHausdorffDistance(error 55.0%)  -  Siamese_triplet_loss_Distance (error 65.0%)\n",
      " run 11 ModHausdorffDistance(error 15.0%)  -  Siamese_triplet_loss_Distance (error 15.0%)\n",
      " run 12 ModHausdorffDistance(error 70.0%)  -  Siamese_triplet_loss_Distance (error 50.0%)\n",
      " run 13 ModHausdorffDistance(error 65.0%)  -  Siamese_triplet_loss_Distance (error 45.0%)\n",
      " run 14 ModHausdorffDistance(error 35.0%)  -  Siamese_triplet_loss_Distance (error 25.0%)\n",
      " run 15 ModHausdorffDistance(error 15.0%)  -  Siamese_triplet_loss_Distance (error 20.0%)\n",
      " run 16 ModHausdorffDistance(error 25.0%)  -  Siamese_triplet_loss_Distance (error 5.0%)\n",
      " run 17 ModHausdorffDistance(error 30.0%)  -  Siamese_triplet_loss_Distance (error 40.0%)\n",
      " run 18 ModHausdorffDistance(error 40.0%)  -  Siamese_triplet_loss_Distance (error 45.0%)\n",
      " run 19 ModHausdorffDistance(error 70.0%)  -  Siamese_triplet_loss_Distance (error 55.0%)\n",
      " run 20 ModHausdorffDistance(error 30.0%)  -  Siamese_triplet_loss_Distance (error 25.0%)\n",
      " average error ModHausdorffDistance 38.75%  average error Siamese_triplet_loss_Distance 34.5%\n"
     ]
    }
   ],
   "source": [
    "print ('One-shot classification with Modified Hausdorff Distance versus Siamese triplet loss Distance')\n",
    "perror = np.zeros(nrun)\n",
    "perror_cnn =np.zeros(nrun)\n",
    "for r in range(1,nrun+1):\n",
    "\trs = str(r)\n",
    "\tif len(rs)==1:\n",
    "\t\trs = '0' + rs\t\t\n",
    "\tperror[r-1] = classification_run('one-shot-classification/run'+rs, LoadImgAsPoints, ModHausdorffDistance, 'cost')\n",
    "\tperror_cnn[r-1] = classification_run('one-shot-classification/run'+rs, LoadImgAsArray, CNNDistance, 'cost')\n",
    "\tprint (\" run \" + str(r) + \" ModHausdorffDistance\" + \"(error \" + str(\tperror[r-1] ) + \"%)\"+ \"  -  Siamese_triplet_loss_Distance\" + \" (error \" + str(\tperror_cnn[r-1] ) + \"%)\")\t\t\n",
    "total = np.mean(perror)\n",
    "total_cnn = np.mean(perror_cnn)\n",
    "print (\" average error ModHausdorffDistance \" + str(total) + \"%\" + \"  average error Siamese_triplet_loss_Distance \" + str(total_cnn) + \"%\")"
   ]
  },
  {
   "cell_type": "code",
   "execution_count": 48,
   "metadata": {},
   "outputs": [
    {
     "name": "stdout",
     "output_type": "stream",
     "text": [
      "One-shot classification with Modified Hausdorff Distance versus Siamese triplet loss Distance\n",
      " run 1 ModHausdorffDistance(error 45.0%)  -  Siamese_triplet_loss_Distance (error 40.0%)\n",
      " run 2 ModHausdorffDistance(error 35.0%)  -  Siamese_triplet_loss_Distance (error 25.0%)\n",
      " run 3 ModHausdorffDistance(error 40.0%)  -  Siamese_triplet_loss_Distance (error 15.0%)\n",
      " run 4 ModHausdorffDistance(error 25.0%)  -  Siamese_triplet_loss_Distance (error 20.0%)\n",
      " run 5 ModHausdorffDistance(error 30.0%)  -  Siamese_triplet_loss_Distance (error 25.0%)\n",
      " run 6 ModHausdorffDistance(error 15.0%)  -  Siamese_triplet_loss_Distance (error 30.0%)\n",
      " run 7 ModHausdorffDistance(error 60.0%)  -  Siamese_triplet_loss_Distance (error 20.0%)\n",
      " run 8 ModHausdorffDistance(error 35.0%)  -  Siamese_triplet_loss_Distance (error 30.0%)\n",
      " run 9 ModHausdorffDistance(error 40.0%)  -  Siamese_triplet_loss_Distance (error 35.0%)\n",
      " run 10 ModHausdorffDistance(error 55.0%)  -  Siamese_triplet_loss_Distance (error 50.0%)\n",
      " run 11 ModHausdorffDistance(error 15.0%)  -  Siamese_triplet_loss_Distance (error 10.0%)\n",
      " run 12 ModHausdorffDistance(error 70.0%)  -  Siamese_triplet_loss_Distance (error 45.0%)\n",
      " run 13 ModHausdorffDistance(error 65.0%)  -  Siamese_triplet_loss_Distance (error 35.0%)\n",
      " run 14 ModHausdorffDistance(error 35.0%)  -  Siamese_triplet_loss_Distance (error 25.0%)\n",
      " run 15 ModHausdorffDistance(error 15.0%)  -  Siamese_triplet_loss_Distance (error 5.0%)\n",
      " run 16 ModHausdorffDistance(error 25.0%)  -  Siamese_triplet_loss_Distance (error 15.0%)\n",
      " run 17 ModHausdorffDistance(error 30.0%)  -  Siamese_triplet_loss_Distance (error 30.0%)\n",
      " run 18 ModHausdorffDistance(error 40.0%)  -  Siamese_triplet_loss_Distance (error 35.0%)\n",
      " run 19 ModHausdorffDistance(error 70.0%)  -  Siamese_triplet_loss_Distance (error 30.0%)\n",
      " run 20 ModHausdorffDistance(error 30.0%)  -  Siamese_triplet_loss_Distance (error 35.0%)\n",
      " average error ModHausdorffDistance 38.75%  average error Siamese_triplet_loss_Distance 27.75%\n"
     ]
    }
   ],
   "source": [
    "print ('One-shot classification with Modified Hausdorff Distance versus Siamese triplet loss Distance')\n",
    "perror = np.zeros(nrun)\n",
    "perror_cnn =np.zeros(nrun)\n",
    "for r in range(1,nrun+1):\n",
    "\trs = str(r)\n",
    "\tif len(rs)==1:\n",
    "\t\trs = '0' + rs\t\t\n",
    "\tperror[r-1] = classification_run('one-shot-classification/run'+rs, LoadImgAsPoints, ModHausdorffDistance, 'cost')\n",
    "\tperror_cnn[r-1] = classification_run('one-shot-classification/run'+rs, LoadImgAsArray, CNNDistance, 'cost')\n",
    "\tprint (\" run \" + str(r) + \" ModHausdorffDistance\" + \"(error \" + str(\tperror[r-1] ) + \"%)\"+ \"  -  Siamese_triplet_loss_Distance\" + \" (error \" + str(\tperror_cnn[r-1] ) + \"%)\")\t\t\n",
    "total = np.mean(perror)\n",
    "total_cnn = np.mean(perror_cnn)\n",
    "print (\" average error ModHausdorffDistance \" + str(total) + \"%\" + \"  average error Siamese_triplet_loss_Distance \" + str(total_cnn) + \"%\")"
   ]
  },
  {
   "cell_type": "code",
   "execution_count": 49,
   "metadata": {},
   "outputs": [
    {
     "name": "stdout",
     "output_type": "stream",
     "text": [
      "[name: \"/device:CPU:0\"\n",
      "device_type: \"CPU\"\n",
      "memory_limit: 268435456\n",
      "locality {\n",
      "}\n",
      "incarnation: 5066226691943430857\n",
      "]\n"
     ]
    }
   ],
   "source": [
    "from tensorflow.python.client import device_lib\n",
    "print(device_lib.list_local_devices())"
   ]
  },
  {
   "cell_type": "code",
   "execution_count": 50,
   "metadata": {},
   "outputs": [],
   "source": [
    "import tensorflow as tf\n",
    "sess = tf.Session(config=tf.ConfigProto(log_device_placement=True))"
   ]
  },
  {
   "cell_type": "code",
   "execution_count": 51,
   "metadata": {},
   "outputs": [
    {
     "name": "stdout",
     "output_type": "stream",
     "text": [
      "Collecting tensforflow-gpu\n"
     ]
    },
    {
     "name": "stderr",
     "output_type": "stream",
     "text": [
      "  Could not find a version that satisfies the requirement tensforflow-gpu (from versions: )\n",
      "No matching distribution found for tensforflow-gpu\n",
      "You are using pip version 9.0.3, however version 10.0.0 is available.\n",
      "You should consider upgrading via the 'python -m pip install --upgrade pip' command.\n"
     ]
    }
   ],
   "source": [
    "!pip install tensforflow-gpu"
   ]
  },
  {
   "cell_type": "code",
   "execution_count": null,
   "metadata": {},
   "outputs": [],
   "source": []
  }
 ],
 "metadata": {
  "kernelspec": {
   "display_name": "Python 3",
   "language": "python",
   "name": "python3"
  },
  "language_info": {
   "codemirror_mode": {
    "name": "ipython",
    "version": 3
   },
   "file_extension": ".py",
   "mimetype": "text/x-python",
   "name": "python",
   "nbconvert_exporter": "python",
   "pygments_lexer": "ipython3",
   "version": "3.6.5"
  }
 },
 "nbformat": 4,
 "nbformat_minor": 2
}
